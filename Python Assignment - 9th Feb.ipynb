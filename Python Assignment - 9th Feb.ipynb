{
 "cells": [
  {
   "cell_type": "markdown",
   "id": "9b62b8fd",
   "metadata": {},
   "source": [
    "#### Q1, Create a vehicle class with an init method having instance variables as name_of_vehicle, max_speed and average_of_vehicle."
   ]
  },
  {
   "cell_type": "code",
   "execution_count": 1,
   "id": "458bf718",
   "metadata": {},
   "outputs": [],
   "source": [
    "class vehicle:\n",
    "    def __init__(self,name_of_vehicle,max_speed,average_of_vehicle):\n",
    "        self.name_of_vehicle = name_of_vehicle\n",
    "        self.max_speed = max_speed\n",
    "        self.average_of_vehicle = average_of_vehicle"
   ]
  },
  {
   "cell_type": "code",
   "execution_count": 2,
   "id": "f7015e62",
   "metadata": {},
   "outputs": [],
   "source": [
    "v = vehicle(\"Suzuki\",\"150mph\",30)"
   ]
  },
  {
   "cell_type": "code",
   "execution_count": 7,
   "id": "cc554abf",
   "metadata": {},
   "outputs": [
    {
     "name": "stdout",
     "output_type": "stream",
     "text": [
      "Suzuki 30 150mph\n"
     ]
    }
   ],
   "source": [
    "print(v.name_of_vehicle,v.average_of_vehicle,v.max_speed)"
   ]
  },
  {
   "cell_type": "markdown",
   "id": "047020ea",
   "metadata": {},
   "source": [
    "#### Q2.  Create a child class car from the vehicle class created in Que 1, which will inherit the vehicle class. Create a method named seating_capacity which takes capacity as an argument and returns the name of the vehicle and its seating capacity"
   ]
  },
  {
   "cell_type": "code",
   "execution_count": 36,
   "id": "7727339e",
   "metadata": {},
   "outputs": [],
   "source": [
    "class Vehicle:\n",
    "    def __init__(self, name_of_vehicle, max_speed, average_of_vehicle):\n",
    "        self.name_of_vehicle = name_of_vehicle\n",
    "        self.max_speed = max_speed\n",
    "        self.average_of_vehicle = average_of_vehicle\n",
    "        \n",
    "    def name(self):\n",
    "        return self.name_of_vehicle\n",
    "        \n",
    "class Car(Vehicle):\n",
    "    def seating_capacity(self, capacity):\n",
    "        return f\"{self.name()} has a seating capacity of {capacity} passengers.\""
   ]
  },
  {
   "cell_type": "code",
   "execution_count": 39,
   "id": "7fb4d61f",
   "metadata": {},
   "outputs": [
    {
     "name": "stdout",
     "output_type": "stream",
     "text": [
      "Toyota has a seating capacity of 5 passengers.\n"
     ]
    }
   ],
   "source": [
    "my_car = Car(\"Toyota\", 120, 25)\n",
    "print(my_car.seating_capacity(5))"
   ]
  },
  {
   "cell_type": "code",
   "execution_count": null,
   "id": "eab3b33f",
   "metadata": {},
   "outputs": [],
   "source": []
  },
  {
   "cell_type": "markdown",
   "id": "0983f242",
   "metadata": {},
   "source": [
    "#### Q3. What is multiple inheritance? Write a python code to demonstrate multiple inheritance"
   ]
  },
  {
   "cell_type": "markdown",
   "id": "2e05c112",
   "metadata": {},
   "source": [
    "When a class is derived from more than one base class it is called multiple Inheritance. The derived class inherits all the features of the base case."
   ]
  },
  {
   "cell_type": "code",
   "execution_count": 9,
   "id": "d90e994d",
   "metadata": {},
   "outputs": [
    {
     "name": "stdout",
     "output_type": "stream",
     "text": [
      "Mammals can give direct birth.\n",
      "Winged animals can flap.\n"
     ]
    }
   ],
   "source": [
    "# Base class 1\n",
    "class Mammal:\n",
    "    def mammal_info(self):\n",
    "        print(\"Mammals can give direct birth.\")\n",
    "\n",
    "# Base class 2\n",
    "class WingedAnimal:\n",
    "    def winged_animal_info(self):\n",
    "        print(\"Winged animals can flap.\")\n",
    "        \n",
    "# Deived class\n",
    "class Bat(Mammal, WingedAnimal):\n",
    "    pass\n",
    "\n",
    "# create an object of Bat class\n",
    "b1 = Bat()\n",
    "\n",
    "b1.mammal_info()\n",
    "b1.winged_animal_info()"
   ]
  },
  {
   "cell_type": "markdown",
   "id": "69f667c1",
   "metadata": {},
   "source": [
    "#### Q4. What are getter and setter in python? Create a class and create a getter and a setter method in this class"
   ]
  },
  {
   "cell_type": "markdown",
   "id": "5b9a3b4b",
   "metadata": {},
   "source": [
    "- Getters: These are the methods used in Object-Oriented Programming (OOPS) which helps to access the private attributes from a class.\n",
    "- Setters: These are the methods used in OOPS feature which helps to set the value to private attributes in a class."
   ]
  },
  {
   "cell_type": "code",
   "execution_count": 1,
   "id": "38a50017",
   "metadata": {},
   "outputs": [],
   "source": [
    "class prakash1:\n",
    "    def __init__ (self, name,age):\n",
    "        self.name = name\n",
    "        self.__age = age\n",
    "        \n",
    "    ## to access the private attribute\n",
    "    # getter function\n",
    "    @property\n",
    "    def age_access(self):\n",
    "        return self.__age\n",
    "    \n",
    "    ## to updtate the value\n",
    "    ## setter function\n",
    "    @age_access.setter\n",
    "    def age_access_set(self,ages):\n",
    "        ## condition if else\n",
    "        if ages > 100:\n",
    "            \n",
    "            pass\n",
    "        else:\n",
    "            self.__age = ages"
   ]
  },
  {
   "cell_type": "code",
   "execution_count": 3,
   "id": "16ac1a9c",
   "metadata": {},
   "outputs": [
    {
     "data": {
      "text/plain": [
       "88"
      ]
     },
     "execution_count": 3,
     "metadata": {},
     "output_type": "execute_result"
    }
   ],
   "source": [
    "## creating instance\n",
    "pw = prakash1(\"Singh\",88)\n",
    "## accessing the private method \n",
    "pw.age_access"
   ]
  },
  {
   "cell_type": "code",
   "execution_count": 4,
   "id": "18096f01",
   "metadata": {},
   "outputs": [],
   "source": [
    "## setting the new value for age\n",
    "pw.age_access_set = 78"
   ]
  },
  {
   "cell_type": "code",
   "execution_count": 5,
   "id": "bfb2fdd7",
   "metadata": {},
   "outputs": [
    {
     "data": {
      "text/plain": [
       "78"
      ]
     },
     "execution_count": 5,
     "metadata": {},
     "output_type": "execute_result"
    }
   ],
   "source": [
    "## the new value has taken the place of the old value\n",
    "pw.age_access"
   ]
  },
  {
   "cell_type": "markdown",
   "id": "445055ac",
   "metadata": {},
   "source": [
    "#### Q5.What is method overriding in python? Write a python code to demonstrate method overriding."
   ]
  },
  {
   "cell_type": "markdown",
   "id": "95403f87",
   "metadata": {},
   "source": [
    "Method overriding is an ability of any object-oriented programming language that allows a subclass or child class to provide a specific implementation of a method that is already provided by one of its super-classes or parent classes. When a method in a subclass has the same name, same parameters or signature and same return type(or sub-type) as a method in its super-class, then the method in the subclass is said to override the method in the super-class.\n",
    "\n",
    "The version of a method that is executed will be determined by the object that is used to invoke it. If an object of a parent class is used to invoke the method, then the version in the parent class will be executed, but if an object of the subclass is used to invoke the method, then the version in the child class will be executed. In other words, it is the type of the object being referred to (not the type of the reference variable) that determines which version of an overridden method will be executed."
   ]
  },
  {
   "cell_type": "code",
   "execution_count": 42,
   "id": "87ac8f26",
   "metadata": {},
   "outputs": [],
   "source": [
    "class parent:\n",
    "    def __init__ (self):\n",
    "        self.name = \"Raj\"\n",
    "    def show(self):\n",
    "        print(self.name)\n",
    "\n",
    "class child(parent):\n",
    "    def __init__(self):\n",
    "        self.name = \"Singh\"\n",
    "    def show(self):\n",
    "        print(self.name)"
   ]
  },
  {
   "cell_type": "code",
   "execution_count": 45,
   "id": "a04da4f0",
   "metadata": {},
   "outputs": [
    {
     "name": "stdout",
     "output_type": "stream",
     "text": [
      "Raj this is Parent\n",
      "Singh this is child\n"
     ]
    }
   ],
   "source": [
    "## here the child class make its own implementation for the method defined in the base class\n",
    "obj1 = parent()\n",
    "obj2 = child()\n",
    "print(obj1.name,\"this is Parent\")\n",
    "print(obj2.name, \"this is child\")"
   ]
  },
  {
   "cell_type": "code",
   "execution_count": null,
   "id": "71f34214",
   "metadata": {},
   "outputs": [],
   "source": []
  },
  {
   "cell_type": "code",
   "execution_count": null,
   "id": "02ea7a94",
   "metadata": {},
   "outputs": [],
   "source": []
  },
  {
   "cell_type": "code",
   "execution_count": null,
   "id": "903b84cb",
   "metadata": {},
   "outputs": [],
   "source": []
  },
  {
   "cell_type": "code",
   "execution_count": null,
   "id": "00f28530",
   "metadata": {},
   "outputs": [],
   "source": []
  },
  {
   "cell_type": "code",
   "execution_count": null,
   "id": "60f1ab6e",
   "metadata": {},
   "outputs": [],
   "source": []
  }
 ],
 "metadata": {
  "kernelspec": {
   "display_name": "Python 3 (ipykernel)",
   "language": "python",
   "name": "python3"
  },
  "language_info": {
   "codemirror_mode": {
    "name": "ipython",
    "version": 3
   },
   "file_extension": ".py",
   "mimetype": "text/x-python",
   "name": "python",
   "nbconvert_exporter": "python",
   "pygments_lexer": "ipython3",
   "version": "3.9.12"
  }
 },
 "nbformat": 4,
 "nbformat_minor": 5
}
