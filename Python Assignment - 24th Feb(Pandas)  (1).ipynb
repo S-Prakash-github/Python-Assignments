{
 "cells": [
  {
   "cell_type": "markdown",
   "id": "005e6311",
   "metadata": {},
   "source": [
    "#### Q1. List any five functions of the pandas library with execution"
   ]
  },
  {
   "cell_type": "markdown",
   "id": "411fe5e0",
   "metadata": {},
   "source": [
    "Five functions of pandas are:\n",
    "    \n",
    "- head() and tail() : used to get the records from the first and last respecively.\n",
    "- dtypes : used to get the data types of the columns.\n",
    "- columns : used to get all the columns in a dataframe.\n",
    "- describe() : used to get the five number summary of the data in the dataframe,etc.\n",
    "- isnull() : used to find the null values inside the dataframe columns"
   ]
  },
  {
   "cell_type": "code",
   "execution_count": 93,
   "id": "910fa0b2",
   "metadata": {},
   "outputs": [
    {
     "data": {
      "text/html": [
       "<div>\n",
       "<style scoped>\n",
       "    .dataframe tbody tr th:only-of-type {\n",
       "        vertical-align: middle;\n",
       "    }\n",
       "\n",
       "    .dataframe tbody tr th {\n",
       "        vertical-align: top;\n",
       "    }\n",
       "\n",
       "    .dataframe thead th {\n",
       "        text-align: right;\n",
       "    }\n",
       "</style>\n",
       "<table border=\"1\" class=\"dataframe\">\n",
       "  <thead>\n",
       "    <tr style=\"text-align: right;\">\n",
       "      <th></th>\n",
       "      <th>name</th>\n",
       "      <th>age</th>\n",
       "      <th>location</th>\n",
       "    </tr>\n",
       "  </thead>\n",
       "  <tbody>\n",
       "    <tr>\n",
       "      <th>0</th>\n",
       "      <td>Prakash</td>\n",
       "      <td>21</td>\n",
       "      <td>Kolkata</td>\n",
       "    </tr>\n",
       "    <tr>\n",
       "      <th>1</th>\n",
       "      <td>Singh</td>\n",
       "      <td>18</td>\n",
       "      <td>Patna</td>\n",
       "    </tr>\n",
       "    <tr>\n",
       "      <th>2</th>\n",
       "      <td>Kumar</td>\n",
       "      <td>26</td>\n",
       "      <td>Agra</td>\n",
       "    </tr>\n",
       "    <tr>\n",
       "      <th>3</th>\n",
       "      <td>Gupta</td>\n",
       "      <td>24</td>\n",
       "      <td>Delhi</td>\n",
       "    </tr>\n",
       "  </tbody>\n",
       "</table>\n",
       "</div>"
      ],
      "text/plain": [
       "      name  age location\n",
       "0  Prakash   21  Kolkata\n",
       "1    Singh   18    Patna\n",
       "2    Kumar   26     Agra\n",
       "3    Gupta   24    Delhi"
      ]
     },
     "execution_count": 93,
     "metadata": {},
     "output_type": "execute_result"
    }
   ],
   "source": [
    "import pandas as pd\n",
    "\n",
    "## creating series\n",
    "logging.info(\"Creating dataframe\")\n",
    "name = pd.Series([\"Prakash\",\"Singh\",\"Kumar\",\"Gupta\"])\n",
    "age = pd.Series([21,18,26,24])\n",
    "location = pd.Series([\"Kolkata\",\"Patna\",\"Agra\",\"Delhi\"])\n",
    "\n",
    "## dictionary with key as column names and values as series\n",
    "data = {\"name\":name,\n",
    "       \"age\":age,\n",
    "       \"location\":location}\n",
    "\n",
    "# creating dataframe\n",
    "dataframe = pd.DataFrame(data)\n",
    "dataframe"
   ]
  },
  {
   "cell_type": "code",
   "execution_count": 102,
   "id": "b9cb4594",
   "metadata": {},
   "outputs": [
    {
     "name": "stdout",
     "output_type": "stream",
     "text": [
      "HEAD FUNCTION:\n",
      "      name  age location\n",
      "0  Prakash   21  Kolkata\n",
      "\n",
      " \n",
      "TAIL FUNCTION:\n",
      "    name  age location\n",
      "3  Gupta   24    Delhi\n",
      "\n",
      " \n",
      "COLUMNS FUNCTION:\n",
      "['name', 'age', 'location']\n",
      "\n",
      "\n",
      " DTYPES FUNCTION:\n",
      "[dtype('O'), dtype('int64'), dtype('O')]\n",
      "\n",
      "\n",
      "isnull FUNCTION\n",
      "name        0\n",
      "age         0\n",
      "location    0\n",
      "dtype: int64\n",
      "\n",
      "\n",
      " DESCRIBE() FUNCTION\n"
     ]
    },
    {
     "data": {
      "text/html": [
       "<div>\n",
       "<style scoped>\n",
       "    .dataframe tbody tr th:only-of-type {\n",
       "        vertical-align: middle;\n",
       "    }\n",
       "\n",
       "    .dataframe tbody tr th {\n",
       "        vertical-align: top;\n",
       "    }\n",
       "\n",
       "    .dataframe thead th {\n",
       "        text-align: right;\n",
       "    }\n",
       "</style>\n",
       "<table border=\"1\" class=\"dataframe\">\n",
       "  <thead>\n",
       "    <tr style=\"text-align: right;\">\n",
       "      <th></th>\n",
       "      <th>age</th>\n",
       "    </tr>\n",
       "  </thead>\n",
       "  <tbody>\n",
       "    <tr>\n",
       "      <th>count</th>\n",
       "      <td>4.00</td>\n",
       "    </tr>\n",
       "    <tr>\n",
       "      <th>mean</th>\n",
       "      <td>22.25</td>\n",
       "    </tr>\n",
       "    <tr>\n",
       "      <th>std</th>\n",
       "      <td>3.50</td>\n",
       "    </tr>\n",
       "    <tr>\n",
       "      <th>min</th>\n",
       "      <td>18.00</td>\n",
       "    </tr>\n",
       "    <tr>\n",
       "      <th>25%</th>\n",
       "      <td>20.25</td>\n",
       "    </tr>\n",
       "    <tr>\n",
       "      <th>50%</th>\n",
       "      <td>22.50</td>\n",
       "    </tr>\n",
       "    <tr>\n",
       "      <th>75%</th>\n",
       "      <td>24.50</td>\n",
       "    </tr>\n",
       "    <tr>\n",
       "      <th>max</th>\n",
       "      <td>26.00</td>\n",
       "    </tr>\n",
       "  </tbody>\n",
       "</table>\n",
       "</div>"
      ],
      "text/plain": [
       "         age\n",
       "count   4.00\n",
       "mean   22.25\n",
       "std     3.50\n",
       "min    18.00\n",
       "25%    20.25\n",
       "50%    22.50\n",
       "75%    24.50\n",
       "max    26.00"
      ]
     },
     "execution_count": 102,
     "metadata": {},
     "output_type": "execute_result"
    }
   ],
   "source": [
    "logging.info(\"head() function\")\n",
    "print(\"HEAD FUNCTION:\")\n",
    "print(dataframe.head(1))\n",
    "\n",
    "logging.info(\"tail() function\")\n",
    "print(\"\\n \\nTAIL FUNCTION:\")\n",
    "print(dataframe.tail(1))\n",
    "\n",
    "logging.info(\"coulmn function\")\n",
    "print(\"\\n \\nCOLUMNS FUNCTION:\")\n",
    "print(list(dataframe.columns))\n",
    "\n",
    "logging.info(\"dtpyes() function\")\n",
    "print(\"\\n\\n DTYPES FUNCTION:\")\n",
    "print(list(dataframe.dtypes))\n",
    "\n",
    "logging.info(\"isnull() function\")\n",
    "print(\"\\n\\nisnull FUNCTION\")\n",
    "print(dataframe.isnull().sum())\n",
    "\n",
    "logging.info(\"describe() function\")\n",
    "print(\"\\n\\n DESCRIBE() FUNCTION\")\n",
    "dataframe.describe()"
   ]
  },
  {
   "cell_type": "markdown",
   "id": "cbfcc069",
   "metadata": {},
   "source": [
    "#### Q2. Given a Pandas DataFrame df with columns 'A', 'B', and 'C', write a Python function to re-index the DataFrame with a new index that starts from 1 and increments by 2 for each row."
   ]
  },
  {
   "cell_type": "code",
   "execution_count": 18,
   "id": "1bcd6ae3",
   "metadata": {
    "scrolled": true
   },
   "outputs": [
    {
     "data": {
      "text/html": [
       "<div>\n",
       "<style scoped>\n",
       "    .dataframe tbody tr th:only-of-type {\n",
       "        vertical-align: middle;\n",
       "    }\n",
       "\n",
       "    .dataframe tbody tr th {\n",
       "        vertical-align: top;\n",
       "    }\n",
       "\n",
       "    .dataframe thead th {\n",
       "        text-align: right;\n",
       "    }\n",
       "</style>\n",
       "<table border=\"1\" class=\"dataframe\">\n",
       "  <thead>\n",
       "    <tr style=\"text-align: right;\">\n",
       "      <th></th>\n",
       "      <th>A</th>\n",
       "      <th>B</th>\n",
       "      <th>C</th>\n",
       "    </tr>\n",
       "  </thead>\n",
       "  <tbody>\n",
       "    <tr>\n",
       "      <th>1</th>\n",
       "      <td>1</td>\n",
       "      <td>6</td>\n",
       "      <td>10</td>\n",
       "    </tr>\n",
       "    <tr>\n",
       "      <th>3</th>\n",
       "      <td>2</td>\n",
       "      <td>8</td>\n",
       "      <td>20</td>\n",
       "    </tr>\n",
       "    <tr>\n",
       "      <th>5</th>\n",
       "      <td>3</td>\n",
       "      <td>9</td>\n",
       "      <td>30</td>\n",
       "    </tr>\n",
       "    <tr>\n",
       "      <th>7</th>\n",
       "      <td>4</td>\n",
       "      <td>7</td>\n",
       "      <td>40</td>\n",
       "    </tr>\n",
       "    <tr>\n",
       "      <th>9</th>\n",
       "      <td>5</td>\n",
       "      <td>10</td>\n",
       "      <td>50</td>\n",
       "    </tr>\n",
       "  </tbody>\n",
       "</table>\n",
       "</div>"
      ],
      "text/plain": [
       "   A   B   C\n",
       "1  1   6  10\n",
       "3  2   8  20\n",
       "5  3   9  30\n",
       "7  4   7  40\n",
       "9  5  10  50"
      ]
     },
     "execution_count": 18,
     "metadata": {},
     "output_type": "execute_result"
    }
   ],
   "source": [
    "import pandas as pd\n",
    "df = pd.DataFrame({\"A\":[1,2,3,4,5],\n",
    "                   \"B\":[6,8,9,7,10],\n",
    "                   \"C\":[10,20,30,40,50]})\n",
    "df\n",
    "## the length of the data frame after incrementing len(df)*2 \n",
    "df.index = pd.RangeIndex(start = 1,stop = len(df)*2 ,step = 2)\n",
    "df"
   ]
  },
  {
   "cell_type": "markdown",
   "id": "d007f08c",
   "metadata": {},
   "source": [
    "#### Q3. You have a Pandas DataFrame df with a column named 'Values'. Write a Python function that iterates over the DataFrame and calculates the sum of the first three values in the 'Values' column. The function should print the sum to the console.\n",
    "\n",
    "For example, if the 'Values' column of df contains the values [10, 20, 30, 40, 50], your function should \n",
    "calculate and print the sum of the first three values, which is 60."
   ]
  },
  {
   "cell_type": "code",
   "execution_count": 118,
   "id": "52366727",
   "metadata": {},
   "outputs": [
    {
     "name": "stdout",
     "output_type": "stream",
     "text": [
      "60 is the sum of first three values in Value column.\n"
     ]
    }
   ],
   "source": [
    "import logging\n",
    "logging.basicConfig(filename = \"test.log\", level = logging.INFO,format =' %(asctime)s , %(message)s')\n",
    "\n",
    "logging.info (\"Creating a Database\")\n",
    "values = [10,20,30,40,50,60]\n",
    "df = pd.DataFrame({\"Values\":values})\n",
    "\n",
    "logging.info(\"This a function to find the sum of first three values in Values column\")\n",
    "def sum_values(df):\n",
    "    sum_values = 0\n",
    "    try:\n",
    "        for i in df[\"Values\"][0:3]:\n",
    "            sum_values += i\n",
    "        print( sum_values,\"is the sum of first three values in Value column.\")\n",
    "    except KeyError as e:\n",
    "        logging.error(\"Key Error {}\",format(e))\n",
    "        \n",
    "\n",
    "sum_values(df)"
   ]
  },
  {
   "cell_type": "markdown",
   "id": "d8d50c76",
   "metadata": {},
   "source": [
    "#### Q4. Given a Pandas DataFrame df with a column 'Text', write a Python function to create a new column 'Word_Count' that contains the number of words in each row of the 'Text' column."
   ]
  },
  {
   "cell_type": "code",
   "execution_count": 240,
   "id": "b06ce220",
   "metadata": {},
   "outputs": [],
   "source": [
    "df_text = pd.DataFrame({\"Text\":[\"Prakash Singh Kumar\",\"Gupta Kishore\",\"number of words are\"]})"
   ]
  },
  {
   "cell_type": "code",
   "execution_count": 245,
   "id": "5462eb58",
   "metadata": {},
   "outputs": [
    {
     "data": {
      "text/html": [
       "<div>\n",
       "<style scoped>\n",
       "    .dataframe tbody tr th:only-of-type {\n",
       "        vertical-align: middle;\n",
       "    }\n",
       "\n",
       "    .dataframe tbody tr th {\n",
       "        vertical-align: top;\n",
       "    }\n",
       "\n",
       "    .dataframe thead th {\n",
       "        text-align: right;\n",
       "    }\n",
       "</style>\n",
       "<table border=\"1\" class=\"dataframe\">\n",
       "  <thead>\n",
       "    <tr style=\"text-align: right;\">\n",
       "      <th></th>\n",
       "      <th>Text</th>\n",
       "      <th>Word_count</th>\n",
       "    </tr>\n",
       "  </thead>\n",
       "  <tbody>\n",
       "    <tr>\n",
       "      <th>0</th>\n",
       "      <td>Prakash Singh Kumar</td>\n",
       "      <td>3</td>\n",
       "    </tr>\n",
       "    <tr>\n",
       "      <th>1</th>\n",
       "      <td>Gupta Kishore</td>\n",
       "      <td>2</td>\n",
       "    </tr>\n",
       "    <tr>\n",
       "      <th>2</th>\n",
       "      <td>number of words are</td>\n",
       "      <td>4</td>\n",
       "    </tr>\n",
       "  </tbody>\n",
       "</table>\n",
       "</div>"
      ],
      "text/plain": [
       "                  Text  Word_count\n",
       "0  Prakash Singh Kumar           3\n",
       "1        Gupta Kishore           2\n",
       "2  number of words are           4"
      ]
     },
     "execution_count": 245,
     "metadata": {},
     "output_type": "execute_result"
    }
   ],
   "source": [
    "## counting the number of words and making a new column word_Count\n",
    "df_text[\"Word_count\"] = df_text[\"Text\"].apply(lambda x : len(x.split()))\n",
    "df_text"
   ]
  },
  {
   "cell_type": "markdown",
   "id": "f667ee3b",
   "metadata": {},
   "source": [
    "#### Q5. How are DataFrame.size() and DataFrame.shape() different"
   ]
  },
  {
   "cell_type": "markdown",
   "id": "35972501",
   "metadata": {},
   "source": [
    "DataFrame.size returns the total number of elements in the DataFrame, which is equal to the number of rows multiplied by the number of columns. It is equivalent to DataFrame.shape[0] * DataFrame.shape[1"
   ]
  },
  {
   "cell_type": "code",
   "execution_count": 108,
   "id": "4c11a8da",
   "metadata": {},
   "outputs": [
    {
     "data": {
      "text/plain": [
       "5"
      ]
     },
     "execution_count": 108,
     "metadata": {},
     "output_type": "execute_result"
    }
   ],
   "source": [
    "logging.info(\"size function\")\n",
    "df.size"
   ]
  },
  {
   "cell_type": "markdown",
   "id": "1b2c569a",
   "metadata": {},
   "source": [
    "DataFrame.shape, on the other hand, returns a tuple representing the dimensions of the DataFrame in the form (number of rows, number of columns). It provides information about the shape of the DataFrame,"
   ]
  },
  {
   "cell_type": "code",
   "execution_count": 105,
   "id": "53fce6bf",
   "metadata": {},
   "outputs": [
    {
     "data": {
      "text/plain": [
       "5"
      ]
     },
     "execution_count": 105,
     "metadata": {},
     "output_type": "execute_result"
    }
   ],
   "source": [
    "logging.info(\"shape funtion\")\n",
    "df.shape"
   ]
  },
  {
   "cell_type": "markdown",
   "id": "202417b4",
   "metadata": {},
   "source": [
    "#### Q6. Which function of pandas do we use to read an excel file?"
   ]
  },
  {
   "cell_type": "markdown",
   "id": "91e10d05",
   "metadata": {},
   "source": [
    "In Pandas, we can use the read_excel() function to read data from an Excel file. This function reads the data from one or multiple sheets in an Excel file into a Pandas DataFrame."
   ]
  },
  {
   "cell_type": "code",
   "execution_count": 119,
   "id": "bda486a9",
   "metadata": {},
   "outputs": [],
   "source": [
    "logging.info (\"Importing the lxml module to read excel file\")\n",
    "import lxml\n",
    "\n",
    "logging.info (\"Reading an excel file using pd.read_excel \")\n",
    "## sheet_name is used to get the data from a specific sheet using the name of the sheet or the oreder of the sheet\n",
    "df_Excel = pd.read_excel(r\"C:\\Users\\praka\\Downloads\\global_superstore_2016 (1).xlsx\",sheet_name = 1)"
   ]
  },
  {
   "cell_type": "code",
   "execution_count": null,
   "id": "2a4c938a",
   "metadata": {},
   "outputs": [],
   "source": []
  },
  {
   "cell_type": "markdown",
   "id": "a3a2ee4d",
   "metadata": {},
   "source": [
    "#### Q7. You have a Pandas DataFrame df that contains a column named 'Email' that contains email addresses in the format 'username@domain.com'. Write a Python function that creates a new column 'Username' in df that contains only the username part of each email address.\n",
    "\n",
    "The username is the part of the email address that appears before the '@' symbol. For example, if the \n",
    "email address is 'john.doe@example.com', the 'Username' column should contain 'john.doe'. Your \n",
    "function should extract the username from each email address and store it in the new 'Username' \n",
    "column."
   ]
  },
  {
   "cell_type": "code",
   "execution_count": 86,
   "id": "2a347c3e",
   "metadata": {
    "scrolled": true
   },
   "outputs": [],
   "source": [
    "## creaitng a dataframe\n",
    "Email = [\"raj.singh@gmail.com\",\"prakash.singh@gmail.com\",\"kumar.rao@gamil.com\",\"shiv.sah@gmail.com\"]\n",
    "df_Email = pd.DataFrame({\"Email\":Email})"
   ]
  },
  {
   "cell_type": "code",
   "execution_count": null,
   "id": "87b65b40",
   "metadata": {},
   "outputs": [],
   "source": [
    "## first method"
   ]
  },
  {
   "cell_type": "code",
   "execution_count": 87,
   "id": "226d1db1",
   "metadata": {
    "scrolled": true
   },
   "outputs": [
    {
     "data": {
      "text/html": [
       "<div>\n",
       "<style scoped>\n",
       "    .dataframe tbody tr th:only-of-type {\n",
       "        vertical-align: middle;\n",
       "    }\n",
       "\n",
       "    .dataframe tbody tr th {\n",
       "        vertical-align: top;\n",
       "    }\n",
       "\n",
       "    .dataframe thead th {\n",
       "        text-align: right;\n",
       "    }\n",
       "</style>\n",
       "<table border=\"1\" class=\"dataframe\">\n",
       "  <thead>\n",
       "    <tr style=\"text-align: right;\">\n",
       "      <th></th>\n",
       "      <th>Email</th>\n",
       "      <th>Username</th>\n",
       "    </tr>\n",
       "  </thead>\n",
       "  <tbody>\n",
       "    <tr>\n",
       "      <th>0</th>\n",
       "      <td>raj.singh@gmail.com</td>\n",
       "      <td>raj.singh</td>\n",
       "    </tr>\n",
       "    <tr>\n",
       "      <th>1</th>\n",
       "      <td>prakash.singh@gmail.com</td>\n",
       "      <td>prakash.singh</td>\n",
       "    </tr>\n",
       "    <tr>\n",
       "      <th>2</th>\n",
       "      <td>kumar.rao@gamil.com</td>\n",
       "      <td>kumar.rao</td>\n",
       "    </tr>\n",
       "    <tr>\n",
       "      <th>3</th>\n",
       "      <td>shiv.sah@gmail.com</td>\n",
       "      <td>shiv.sah</td>\n",
       "    </tr>\n",
       "  </tbody>\n",
       "</table>\n",
       "</div>"
      ],
      "text/plain": [
       "                     Email       Username\n",
       "0      raj.singh@gmail.com      raj.singh\n",
       "1  prakash.singh@gmail.com  prakash.singh\n",
       "2      kumar.rao@gamil.com      kumar.rao\n",
       "3       shiv.sah@gmail.com       shiv.sah"
      ]
     },
     "execution_count": 87,
     "metadata": {},
     "output_type": "execute_result"
    }
   ],
   "source": [
    "def split(x):\n",
    "    username = df_Email[\"Email\"].str.split(\"@\").str[0]\n",
    "    df_Email[\"Username\"] = username\n",
    "    return df_Email\n",
    "#df_Email[[\"Name\",\"gmail\"]] = df_Email[\"Email\"].apply(split)\n",
    "df_Email = split(df_Email)\n",
    "df_Email"
   ]
  },
  {
   "cell_type": "code",
   "execution_count": null,
   "id": "934c6b66",
   "metadata": {},
   "outputs": [],
   "source": [
    "## second method"
   ]
  },
  {
   "cell_type": "code",
   "execution_count": 99,
   "id": "9860e310",
   "metadata": {},
   "outputs": [
    {
     "data": {
      "text/html": [
       "<div>\n",
       "<style scoped>\n",
       "    .dataframe tbody tr th:only-of-type {\n",
       "        vertical-align: middle;\n",
       "    }\n",
       "\n",
       "    .dataframe tbody tr th {\n",
       "        vertical-align: top;\n",
       "    }\n",
       "\n",
       "    .dataframe thead th {\n",
       "        text-align: right;\n",
       "    }\n",
       "</style>\n",
       "<table border=\"1\" class=\"dataframe\">\n",
       "  <thead>\n",
       "    <tr style=\"text-align: right;\">\n",
       "      <th></th>\n",
       "      <th>Email</th>\n",
       "      <th>Username</th>\n",
       "      <th>Name</th>\n",
       "    </tr>\n",
       "  </thead>\n",
       "  <tbody>\n",
       "    <tr>\n",
       "      <th>0</th>\n",
       "      <td>raj.singh@gmail.com</td>\n",
       "      <td>raj.singh</td>\n",
       "      <td>raj.singh</td>\n",
       "    </tr>\n",
       "    <tr>\n",
       "      <th>1</th>\n",
       "      <td>prakash.singh@gmail.com</td>\n",
       "      <td>prakash.singh</td>\n",
       "      <td>prakash.singh</td>\n",
       "    </tr>\n",
       "    <tr>\n",
       "      <th>2</th>\n",
       "      <td>kumar.rao@gamil.com</td>\n",
       "      <td>kumar.rao</td>\n",
       "      <td>kumar.rao</td>\n",
       "    </tr>\n",
       "    <tr>\n",
       "      <th>3</th>\n",
       "      <td>shiv.sah@gmail.com</td>\n",
       "      <td>shiv.sah</td>\n",
       "      <td>shiv.sah</td>\n",
       "    </tr>\n",
       "  </tbody>\n",
       "</table>\n",
       "</div>"
      ],
      "text/plain": [
       "                     Email       Username           Name\n",
       "0      raj.singh@gmail.com      raj.singh      raj.singh\n",
       "1  prakash.singh@gmail.com  prakash.singh  prakash.singh\n",
       "2      kumar.rao@gamil.com      kumar.rao      kumar.rao\n",
       "3       shiv.sah@gmail.com       shiv.sah       shiv.sah"
      ]
     },
     "execution_count": 99,
     "metadata": {},
     "output_type": "execute_result"
    }
   ],
   "source": [
    "df_Email[\"Name\"]= df_Email[\"Email\"].str.split('@').str[0]\n",
    "df_Email"
   ]
  },
  {
   "cell_type": "code",
   "execution_count": 101,
   "id": "ab45bc0f",
   "metadata": {},
   "outputs": [],
   "source": [
    "df_Email.drop(\"Name\",axis = 1,inplace = True)"
   ]
  },
  {
   "cell_type": "code",
   "execution_count": 103,
   "id": "2a1cad39",
   "metadata": {},
   "outputs": [],
   "source": [
    "df_Email[\"First_name\"] = df_Email[\"Username\"].str.split(\".\").str[0]\n",
    "df_Email[\"Last_name\"] = df_Email[\"Username\"].str.split(\".\").str[1]"
   ]
  },
  {
   "cell_type": "code",
   "execution_count": 106,
   "id": "fb64b107",
   "metadata": {},
   "outputs": [
    {
     "data": {
      "text/html": [
       "<div>\n",
       "<style scoped>\n",
       "    .dataframe tbody tr th:only-of-type {\n",
       "        vertical-align: middle;\n",
       "    }\n",
       "\n",
       "    .dataframe tbody tr th {\n",
       "        vertical-align: top;\n",
       "    }\n",
       "\n",
       "    .dataframe thead th {\n",
       "        text-align: right;\n",
       "    }\n",
       "</style>\n",
       "<table border=\"1\" class=\"dataframe\">\n",
       "  <thead>\n",
       "    <tr style=\"text-align: right;\">\n",
       "      <th></th>\n",
       "      <th>Email</th>\n",
       "      <th>Username</th>\n",
       "      <th>First_name</th>\n",
       "      <th>Last_name</th>\n",
       "    </tr>\n",
       "  </thead>\n",
       "  <tbody>\n",
       "    <tr>\n",
       "      <th>0</th>\n",
       "      <td>raj.singh@gmail.com</td>\n",
       "      <td>raj.singh</td>\n",
       "      <td>raj</td>\n",
       "      <td>singh</td>\n",
       "    </tr>\n",
       "    <tr>\n",
       "      <th>1</th>\n",
       "      <td>prakash.singh@gmail.com</td>\n",
       "      <td>prakash.singh</td>\n",
       "      <td>prakash</td>\n",
       "      <td>singh</td>\n",
       "    </tr>\n",
       "    <tr>\n",
       "      <th>2</th>\n",
       "      <td>kumar.rao@gamil.com</td>\n",
       "      <td>kumar.rao</td>\n",
       "      <td>kumar</td>\n",
       "      <td>rao</td>\n",
       "    </tr>\n",
       "    <tr>\n",
       "      <th>3</th>\n",
       "      <td>shiv.sah@gmail.com</td>\n",
       "      <td>shiv.sah</td>\n",
       "      <td>shiv</td>\n",
       "      <td>sah</td>\n",
       "    </tr>\n",
       "  </tbody>\n",
       "</table>\n",
       "</div>"
      ],
      "text/plain": [
       "                     Email       Username First_name Last_name\n",
       "0      raj.singh@gmail.com      raj.singh        raj     singh\n",
       "1  prakash.singh@gmail.com  prakash.singh    prakash     singh\n",
       "2      kumar.rao@gamil.com      kumar.rao      kumar       rao\n",
       "3       shiv.sah@gmail.com       shiv.sah       shiv       sah"
      ]
     },
     "execution_count": 106,
     "metadata": {},
     "output_type": "execute_result"
    }
   ],
   "source": [
    "#### Data frame containing the username name , first and last name\n",
    "df_Email"
   ]
  },
  {
   "cell_type": "markdown",
   "id": "359243f5",
   "metadata": {},
   "source": [
    "#### Q8. You have a Pandas DataFrame df with columns 'A', 'B', and 'C'. Write a Python function that selects all rows where the value in column 'A' is greater than 5 and the value in column 'B' is less than 10. The function should return a new DataFrame that contains only the selected rows"
   ]
  },
  {
   "cell_type": "code",
   "execution_count": 117,
   "id": "88366464",
   "metadata": {},
   "outputs": [],
   "source": [
    "df = pd.DataFrame({\"A\":[7,8,3,4,5],\n",
    "                   \"B\":[6,8,9,7,10],\n",
    "                   \"C\":[10,20,30,40,50]})"
   ]
  },
  {
   "cell_type": "code",
   "execution_count": 125,
   "id": "1b316b2d",
   "metadata": {},
   "outputs": [
    {
     "data": {
      "text/html": [
       "<div>\n",
       "<style scoped>\n",
       "    .dataframe tbody tr th:only-of-type {\n",
       "        vertical-align: middle;\n",
       "    }\n",
       "\n",
       "    .dataframe tbody tr th {\n",
       "        vertical-align: top;\n",
       "    }\n",
       "\n",
       "    .dataframe thead th {\n",
       "        text-align: right;\n",
       "    }\n",
       "</style>\n",
       "<table border=\"1\" class=\"dataframe\">\n",
       "  <thead>\n",
       "    <tr style=\"text-align: right;\">\n",
       "      <th></th>\n",
       "      <th>A</th>\n",
       "      <th>B</th>\n",
       "      <th>C</th>\n",
       "    </tr>\n",
       "  </thead>\n",
       "  <tbody>\n",
       "    <tr>\n",
       "      <th>0</th>\n",
       "      <td>7</td>\n",
       "      <td>6</td>\n",
       "      <td>10</td>\n",
       "    </tr>\n",
       "    <tr>\n",
       "      <th>1</th>\n",
       "      <td>8</td>\n",
       "      <td>8</td>\n",
       "      <td>20</td>\n",
       "    </tr>\n",
       "  </tbody>\n",
       "</table>\n",
       "</div>"
      ],
      "text/plain": [
       "   A  B   C\n",
       "0  7  6  10\n",
       "1  8  8  20"
      ]
     },
     "execution_count": 125,
     "metadata": {},
     "output_type": "execute_result"
    }
   ],
   "source": [
    "## condition\n",
    "selected_rows = df.loc[(df['A']> 5) & (df['B']< 10)]\n",
    "selected_rows"
   ]
  },
  {
   "cell_type": "markdown",
   "id": "6d1f1bd5",
   "metadata": {},
   "source": [
    "#### Q9. Given a Pandas DataFrame df with a column 'Values', write a Python function to calculate the mean, median, and standard deviation of the values in the 'Values' column"
   ]
  },
  {
   "cell_type": "code",
   "execution_count": 134,
   "id": "3e193e9c",
   "metadata": {},
   "outputs": [
    {
     "data": {
      "text/plain": [
       "Values    31.666667\n",
       "dtype: float64"
      ]
     },
     "execution_count": 134,
     "metadata": {},
     "output_type": "execute_result"
    }
   ],
   "source": [
    "values = [10,20,10,40,50,60]\n",
    "df = pd.DataFrame({\"Values\":values})\n",
    "df.mean()"
   ]
  },
  {
   "cell_type": "code",
   "execution_count": 140,
   "id": "3bdbdf81",
   "metadata": {},
   "outputs": [
    {
     "name": "stdout",
     "output_type": "stream",
     "text": [
      "MEAN\n",
      "\n",
      " Values    31.666667\n",
      "dtype: float64 \n",
      "\n",
      "\n",
      "MEDIAN\n",
      "\n",
      " Values    30.0\n",
      "dtype: float64 \n",
      "\n",
      "\n",
      "MODE\n",
      "\n",
      "    Values\n",
      "0      10 \n",
      "\n",
      "\n",
      "STANDARD DEVIATION\n",
      "\n",
      " Values    21.369761\n",
      "dtype: float64 \n",
      "\n",
      "\n"
     ]
    }
   ],
   "source": [
    "## function to print the statistical functions\n",
    "def statistical_ops(x):\n",
    "    print(\"MEAN\\n\\n\",x.mean(),\"\\n\\n\")\n",
    "    print(\"MEDIAN\\n\\n\",x.median(),\"\\n\\n\")\n",
    "    print(\"MODE\\n\\n\",x.mode(),\"\\n\\n\")\n",
    "    print(\"STANDARD DEVIATION\\n\\n\",x.std(),\"\\n\\n\")\n",
    "    \n",
    "statistical_ops(df)"
   ]
  },
  {
   "cell_type": "markdown",
   "id": "618de325",
   "metadata": {},
   "source": [
    "#### Q10. Given a Pandas DataFrame df with a column 'Sales' and a column 'Date', write a Python function to create a new column 'MovingAverage' that contains the moving average of the sales for the past 7 days for each row in the DataFrame. The moving average should be calculated using a window of size 7 and should include the current day."
   ]
  },
  {
   "cell_type": "code",
   "execution_count": 5,
   "id": "4ef237a5",
   "metadata": {},
   "outputs": [
    {
     "name": "stderr",
     "output_type": "stream",
     "text": [
      "C:\\Users\\praka\\AppData\\Local\\Temp\\ipykernel_10968\\3137111788.py:6: FutureWarning: Dropping of nuisance columns in rolling operations is deprecated; in a future version this will raise TypeError. Select only valid columns before calling the operation. Dropped columns were Index(['Date'], dtype='object')\n",
      "  moving_avg[\"moving_avg\"] = moving_avg.rolling(window = 7,min_periods = 1).mean()\n"
     ]
    },
    {
     "data": {
      "text/html": [
       "<div>\n",
       "<style scoped>\n",
       "    .dataframe tbody tr th:only-of-type {\n",
       "        vertical-align: middle;\n",
       "    }\n",
       "\n",
       "    .dataframe tbody tr th {\n",
       "        vertical-align: top;\n",
       "    }\n",
       "\n",
       "    .dataframe thead th {\n",
       "        text-align: right;\n",
       "    }\n",
       "</style>\n",
       "<table border=\"1\" class=\"dataframe\">\n",
       "  <thead>\n",
       "    <tr style=\"text-align: right;\">\n",
       "      <th></th>\n",
       "      <th>Date</th>\n",
       "      <th>Sales</th>\n",
       "      <th>moving_avg</th>\n",
       "    </tr>\n",
       "  </thead>\n",
       "  <tbody>\n",
       "    <tr>\n",
       "      <th>0</th>\n",
       "      <td>2023-01-28</td>\n",
       "      <td>10</td>\n",
       "      <td>10.000000</td>\n",
       "    </tr>\n",
       "    <tr>\n",
       "      <th>1</th>\n",
       "      <td>2023-01-29</td>\n",
       "      <td>12</td>\n",
       "      <td>11.000000</td>\n",
       "    </tr>\n",
       "    <tr>\n",
       "      <th>2</th>\n",
       "      <td>2023-01-30</td>\n",
       "      <td>8</td>\n",
       "      <td>10.000000</td>\n",
       "    </tr>\n",
       "    <tr>\n",
       "      <th>3</th>\n",
       "      <td>2023-01-31</td>\n",
       "      <td>6</td>\n",
       "      <td>9.000000</td>\n",
       "    </tr>\n",
       "    <tr>\n",
       "      <th>4</th>\n",
       "      <td>2023-02-01</td>\n",
       "      <td>11</td>\n",
       "      <td>9.400000</td>\n",
       "    </tr>\n",
       "    <tr>\n",
       "      <th>5</th>\n",
       "      <td>2023-02-02</td>\n",
       "      <td>9</td>\n",
       "      <td>9.333333</td>\n",
       "    </tr>\n",
       "    <tr>\n",
       "      <th>6</th>\n",
       "      <td>2023-02-03</td>\n",
       "      <td>13</td>\n",
       "      <td>9.857143</td>\n",
       "    </tr>\n",
       "    <tr>\n",
       "      <th>7</th>\n",
       "      <td>2023-02-04</td>\n",
       "      <td>14</td>\n",
       "      <td>10.428571</td>\n",
       "    </tr>\n",
       "    <tr>\n",
       "      <th>8</th>\n",
       "      <td>2023-02-05</td>\n",
       "      <td>16</td>\n",
       "      <td>11.000000</td>\n",
       "    </tr>\n",
       "    <tr>\n",
       "      <th>9</th>\n",
       "      <td>2023-02-06</td>\n",
       "      <td>18</td>\n",
       "      <td>12.428571</td>\n",
       "    </tr>\n",
       "    <tr>\n",
       "      <th>10</th>\n",
       "      <td>2023-02-07</td>\n",
       "      <td>20</td>\n",
       "      <td>14.428571</td>\n",
       "    </tr>\n",
       "    <tr>\n",
       "      <th>11</th>\n",
       "      <td>2023-02-08</td>\n",
       "      <td>22</td>\n",
       "      <td>16.000000</td>\n",
       "    </tr>\n",
       "    <tr>\n",
       "      <th>12</th>\n",
       "      <td>2023-02-09</td>\n",
       "      <td>21</td>\n",
       "      <td>17.714286</td>\n",
       "    </tr>\n",
       "    <tr>\n",
       "      <th>13</th>\n",
       "      <td>2023-02-10</td>\n",
       "      <td>19</td>\n",
       "      <td>18.571429</td>\n",
       "    </tr>\n",
       "    <tr>\n",
       "      <th>14</th>\n",
       "      <td>2023-02-11</td>\n",
       "      <td>17</td>\n",
       "      <td>19.000000</td>\n",
       "    </tr>\n",
       "    <tr>\n",
       "      <th>15</th>\n",
       "      <td>2023-02-12</td>\n",
       "      <td>15</td>\n",
       "      <td>18.857143</td>\n",
       "    </tr>\n",
       "    <tr>\n",
       "      <th>16</th>\n",
       "      <td>2023-02-13</td>\n",
       "      <td>13</td>\n",
       "      <td>18.142857</td>\n",
       "    </tr>\n",
       "    <tr>\n",
       "      <th>17</th>\n",
       "      <td>2023-02-14</td>\n",
       "      <td>11</td>\n",
       "      <td>16.857143</td>\n",
       "    </tr>\n",
       "    <tr>\n",
       "      <th>18</th>\n",
       "      <td>2023-02-15</td>\n",
       "      <td>9</td>\n",
       "      <td>15.000000</td>\n",
       "    </tr>\n",
       "    <tr>\n",
       "      <th>19</th>\n",
       "      <td>2023-02-16</td>\n",
       "      <td>8</td>\n",
       "      <td>13.142857</td>\n",
       "    </tr>\n",
       "    <tr>\n",
       "      <th>20</th>\n",
       "      <td>2023-02-17</td>\n",
       "      <td>7</td>\n",
       "      <td>11.428571</td>\n",
       "    </tr>\n",
       "    <tr>\n",
       "      <th>21</th>\n",
       "      <td>2023-02-18</td>\n",
       "      <td>6</td>\n",
       "      <td>9.857143</td>\n",
       "    </tr>\n",
       "    <tr>\n",
       "      <th>22</th>\n",
       "      <td>2023-02-19</td>\n",
       "      <td>5</td>\n",
       "      <td>8.428571</td>\n",
       "    </tr>\n",
       "    <tr>\n",
       "      <th>23</th>\n",
       "      <td>2023-02-20</td>\n",
       "      <td>8</td>\n",
       "      <td>7.714286</td>\n",
       "    </tr>\n",
       "    <tr>\n",
       "      <th>24</th>\n",
       "      <td>2023-02-21</td>\n",
       "      <td>10</td>\n",
       "      <td>7.571429</td>\n",
       "    </tr>\n",
       "    <tr>\n",
       "      <th>25</th>\n",
       "      <td>2023-02-22</td>\n",
       "      <td>12</td>\n",
       "      <td>8.000000</td>\n",
       "    </tr>\n",
       "    <tr>\n",
       "      <th>26</th>\n",
       "      <td>2023-02-23</td>\n",
       "      <td>14</td>\n",
       "      <td>8.857143</td>\n",
       "    </tr>\n",
       "    <tr>\n",
       "      <th>27</th>\n",
       "      <td>2023-02-24</td>\n",
       "      <td>16</td>\n",
       "      <td>10.142857</td>\n",
       "    </tr>\n",
       "    <tr>\n",
       "      <th>28</th>\n",
       "      <td>2023-02-25</td>\n",
       "      <td>18</td>\n",
       "      <td>11.857143</td>\n",
       "    </tr>\n",
       "    <tr>\n",
       "      <th>29</th>\n",
       "      <td>2023-02-26</td>\n",
       "      <td>20</td>\n",
       "      <td>14.000000</td>\n",
       "    </tr>\n",
       "    <tr>\n",
       "      <th>30</th>\n",
       "      <td>2023-02-27</td>\n",
       "      <td>22</td>\n",
       "      <td>16.000000</td>\n",
       "    </tr>\n",
       "    <tr>\n",
       "      <th>31</th>\n",
       "      <td>2023-02-28</td>\n",
       "      <td>11</td>\n",
       "      <td>16.142857</td>\n",
       "    </tr>\n",
       "  </tbody>\n",
       "</table>\n",
       "</div>"
      ],
      "text/plain": [
       "         Date  Sales  moving_avg\n",
       "0  2023-01-28     10   10.000000\n",
       "1  2023-01-29     12   11.000000\n",
       "2  2023-01-30      8   10.000000\n",
       "3  2023-01-31      6    9.000000\n",
       "4  2023-02-01     11    9.400000\n",
       "5  2023-02-02      9    9.333333\n",
       "6  2023-02-03     13    9.857143\n",
       "7  2023-02-04     14   10.428571\n",
       "8  2023-02-05     16   11.000000\n",
       "9  2023-02-06     18   12.428571\n",
       "10 2023-02-07     20   14.428571\n",
       "11 2023-02-08     22   16.000000\n",
       "12 2023-02-09     21   17.714286\n",
       "13 2023-02-10     19   18.571429\n",
       "14 2023-02-11     17   19.000000\n",
       "15 2023-02-12     15   18.857143\n",
       "16 2023-02-13     13   18.142857\n",
       "17 2023-02-14     11   16.857143\n",
       "18 2023-02-15      9   15.000000\n",
       "19 2023-02-16      8   13.142857\n",
       "20 2023-02-17      7   11.428571\n",
       "21 2023-02-18      6    9.857143\n",
       "22 2023-02-19      5    8.428571\n",
       "23 2023-02-20      8    7.714286\n",
       "24 2023-02-21     10    7.571429\n",
       "25 2023-02-22     12    8.000000\n",
       "26 2023-02-23     14    8.857143\n",
       "27 2023-02-24     16   10.142857\n",
       "28 2023-02-25     18   11.857143\n",
       "29 2023-02-26     20   14.000000\n",
       "30 2023-02-27     22   16.000000\n",
       "31 2023-02-28     11   16.142857"
      ]
     },
     "execution_count": 5,
     "metadata": {},
     "output_type": "execute_result"
    }
   ],
   "source": [
    "import pandas as pd\n",
    "\n",
    "moving_avg = pd.DataFrame({'Date': pd.date_range(start='2023-01-28', end='2023-02-28'), \n",
    "                   'Sales': [10, 12, 8, 6, 11, 9, 13, 14, 16, 18, 20, 22, 21, 19, 17, \n",
    "                             15, 13, 11, 9, 8, 7, 6, 5, 8, 10, 12, 14, 16, 18, 20,22,11]})\n",
    "moving_avg[\"moving_avg\"] = moving_avg.rolling(window = 7,min_periods = 1).mean()\n",
    "moving_avg"
   ]
  },
  {
   "cell_type": "markdown",
   "id": "ae21320b",
   "metadata": {},
   "source": [
    "#### Q11. You have a Pandas DataFrame df with a column 'Date'. Write a Python function that creates a new column 'Weekday' in the DataFrame. The 'Weekday' column should contain the weekday name (e.g. Monday, Tuesday) corresponding to each date in the 'Date' column"
   ]
  },
  {
   "cell_type": "code",
   "execution_count": 211,
   "id": "442b93b5",
   "metadata": {},
   "outputs": [],
   "source": [
    "## creating a dataframe with dates\n",
    "df = pd.DataFrame({\"Date\": pd.date_range(start = '2023-02-20' , end = '2023-02-27')})\n",
    "df[\"Date\"] = pd.to_datetime(df[\"Date\"])\n",
    "\n",
    "## creating a function\n",
    "def weekday(x):\n",
    "        x[\"weekday\"] = x[\"Date\"].dt.day_name()\n",
    "       # x[\"weekday\"] = weekday\n",
    "        return x[[\"Date\",\"weekday\"]]\n"
   ]
  },
  {
   "cell_type": "code",
   "execution_count": 212,
   "id": "f904bb54",
   "metadata": {},
   "outputs": [
    {
     "data": {
      "text/html": [
       "<div>\n",
       "<style scoped>\n",
       "    .dataframe tbody tr th:only-of-type {\n",
       "        vertical-align: middle;\n",
       "    }\n",
       "\n",
       "    .dataframe tbody tr th {\n",
       "        vertical-align: top;\n",
       "    }\n",
       "\n",
       "    .dataframe thead th {\n",
       "        text-align: right;\n",
       "    }\n",
       "</style>\n",
       "<table border=\"1\" class=\"dataframe\">\n",
       "  <thead>\n",
       "    <tr style=\"text-align: right;\">\n",
       "      <th></th>\n",
       "      <th>Date</th>\n",
       "      <th>weekday</th>\n",
       "    </tr>\n",
       "  </thead>\n",
       "  <tbody>\n",
       "    <tr>\n",
       "      <th>0</th>\n",
       "      <td>2023-02-20</td>\n",
       "      <td>Monday</td>\n",
       "    </tr>\n",
       "    <tr>\n",
       "      <th>1</th>\n",
       "      <td>2023-02-21</td>\n",
       "      <td>Tuesday</td>\n",
       "    </tr>\n",
       "    <tr>\n",
       "      <th>2</th>\n",
       "      <td>2023-02-22</td>\n",
       "      <td>Wednesday</td>\n",
       "    </tr>\n",
       "    <tr>\n",
       "      <th>3</th>\n",
       "      <td>2023-02-23</td>\n",
       "      <td>Thursday</td>\n",
       "    </tr>\n",
       "    <tr>\n",
       "      <th>4</th>\n",
       "      <td>2023-02-24</td>\n",
       "      <td>Friday</td>\n",
       "    </tr>\n",
       "    <tr>\n",
       "      <th>5</th>\n",
       "      <td>2023-02-25</td>\n",
       "      <td>Saturday</td>\n",
       "    </tr>\n",
       "    <tr>\n",
       "      <th>6</th>\n",
       "      <td>2023-02-26</td>\n",
       "      <td>Sunday</td>\n",
       "    </tr>\n",
       "    <tr>\n",
       "      <th>7</th>\n",
       "      <td>2023-02-27</td>\n",
       "      <td>Monday</td>\n",
       "    </tr>\n",
       "  </tbody>\n",
       "</table>\n",
       "</div>"
      ],
      "text/plain": [
       "        Date    weekday\n",
       "0 2023-02-20     Monday\n",
       "1 2023-02-21    Tuesday\n",
       "2 2023-02-22  Wednesday\n",
       "3 2023-02-23   Thursday\n",
       "4 2023-02-24     Friday\n",
       "5 2023-02-25   Saturday\n",
       "6 2023-02-26     Sunday\n",
       "7 2023-02-27     Monday"
      ]
     },
     "execution_count": 212,
     "metadata": {},
     "output_type": "execute_result"
    }
   ],
   "source": [
    "weekday(df)"
   ]
  },
  {
   "cell_type": "code",
   "execution_count": 213,
   "id": "7a7b3a88",
   "metadata": {},
   "outputs": [
    {
     "data": {
      "text/html": [
       "<div>\n",
       "<style scoped>\n",
       "    .dataframe tbody tr th:only-of-type {\n",
       "        vertical-align: middle;\n",
       "    }\n",
       "\n",
       "    .dataframe tbody tr th {\n",
       "        vertical-align: top;\n",
       "    }\n",
       "\n",
       "    .dataframe thead th {\n",
       "        text-align: right;\n",
       "    }\n",
       "</style>\n",
       "<table border=\"1\" class=\"dataframe\">\n",
       "  <thead>\n",
       "    <tr style=\"text-align: right;\">\n",
       "      <th></th>\n",
       "      <th>Date</th>\n",
       "      <th>weekday</th>\n",
       "    </tr>\n",
       "  </thead>\n",
       "  <tbody>\n",
       "    <tr>\n",
       "      <th>0</th>\n",
       "      <td>2023-02-20</td>\n",
       "      <td>Monday</td>\n",
       "    </tr>\n",
       "    <tr>\n",
       "      <th>1</th>\n",
       "      <td>2023-02-21</td>\n",
       "      <td>Tuesday</td>\n",
       "    </tr>\n",
       "    <tr>\n",
       "      <th>2</th>\n",
       "      <td>2023-02-22</td>\n",
       "      <td>Wednesday</td>\n",
       "    </tr>\n",
       "    <tr>\n",
       "      <th>3</th>\n",
       "      <td>2023-02-23</td>\n",
       "      <td>Thursday</td>\n",
       "    </tr>\n",
       "    <tr>\n",
       "      <th>4</th>\n",
       "      <td>2023-02-24</td>\n",
       "      <td>Friday</td>\n",
       "    </tr>\n",
       "    <tr>\n",
       "      <th>5</th>\n",
       "      <td>2023-02-25</td>\n",
       "      <td>Saturday</td>\n",
       "    </tr>\n",
       "    <tr>\n",
       "      <th>6</th>\n",
       "      <td>2023-02-26</td>\n",
       "      <td>Sunday</td>\n",
       "    </tr>\n",
       "    <tr>\n",
       "      <th>7</th>\n",
       "      <td>2023-02-27</td>\n",
       "      <td>Monday</td>\n",
       "    </tr>\n",
       "  </tbody>\n",
       "</table>\n",
       "</div>"
      ],
      "text/plain": [
       "        Date    weekday\n",
       "0 2023-02-20     Monday\n",
       "1 2023-02-21    Tuesday\n",
       "2 2023-02-22  Wednesday\n",
       "3 2023-02-23   Thursday\n",
       "4 2023-02-24     Friday\n",
       "5 2023-02-25   Saturday\n",
       "6 2023-02-26     Sunday\n",
       "7 2023-02-27     Monday"
      ]
     },
     "execution_count": 213,
     "metadata": {},
     "output_type": "execute_result"
    }
   ],
   "source": [
    "## using dt.day_name() function\n",
    "df['weekday'] = df[\"Date\"].dt.day_name()\n",
    "df"
   ]
  },
  {
   "cell_type": "markdown",
   "id": "973fd374",
   "metadata": {},
   "source": [
    "#### Q12. Given a Pandas DataFrame df with a column 'Date' that contains timestamps, write a Python  function to select all rows where the date is between '2023-01-01' and '2023-01-31'."
   ]
  },
  {
   "cell_type": "code",
   "execution_count": 231,
   "id": "42b59599",
   "metadata": {},
   "outputs": [
    {
     "data": {
      "text/html": [
       "<div>\n",
       "<style scoped>\n",
       "    .dataframe tbody tr th:only-of-type {\n",
       "        vertical-align: middle;\n",
       "    }\n",
       "\n",
       "    .dataframe tbody tr th {\n",
       "        vertical-align: top;\n",
       "    }\n",
       "\n",
       "    .dataframe thead th {\n",
       "        text-align: right;\n",
       "    }\n",
       "</style>\n",
       "<table border=\"1\" class=\"dataframe\">\n",
       "  <thead>\n",
       "    <tr style=\"text-align: right;\">\n",
       "      <th></th>\n",
       "      <th>Date</th>\n",
       "    </tr>\n",
       "  </thead>\n",
       "  <tbody>\n",
       "    <tr>\n",
       "      <th>0</th>\n",
       "      <td>2022-09-12</td>\n",
       "    </tr>\n",
       "    <tr>\n",
       "      <th>1</th>\n",
       "      <td>2022-09-13</td>\n",
       "    </tr>\n",
       "    <tr>\n",
       "      <th>2</th>\n",
       "      <td>2022-09-14</td>\n",
       "    </tr>\n",
       "    <tr>\n",
       "      <th>3</th>\n",
       "      <td>2022-09-15</td>\n",
       "    </tr>\n",
       "    <tr>\n",
       "      <th>4</th>\n",
       "      <td>2022-09-16</td>\n",
       "    </tr>\n",
       "  </tbody>\n",
       "</table>\n",
       "</div>"
      ],
      "text/plain": [
       "        Date\n",
       "0 2022-09-12\n",
       "1 2022-09-13\n",
       "2 2022-09-14\n",
       "3 2022-09-15\n",
       "4 2022-09-16"
      ]
     },
     "execution_count": 231,
     "metadata": {},
     "output_type": "execute_result"
    }
   ],
   "source": [
    "df_date = pd.DataFrame({\"Date\": pd.date_range(start = '2022-09-12', end = '2023-02-28')})\n",
    "df_date.head(5)"
   ]
  },
  {
   "cell_type": "code",
   "execution_count": 228,
   "id": "b1f362b5",
   "metadata": {},
   "outputs": [
    {
     "data": {
      "text/html": [
       "<div>\n",
       "<style scoped>\n",
       "    .dataframe tbody tr th:only-of-type {\n",
       "        vertical-align: middle;\n",
       "    }\n",
       "\n",
       "    .dataframe tbody tr th {\n",
       "        vertical-align: top;\n",
       "    }\n",
       "\n",
       "    .dataframe thead th {\n",
       "        text-align: right;\n",
       "    }\n",
       "</style>\n",
       "<table border=\"1\" class=\"dataframe\">\n",
       "  <thead>\n",
       "    <tr style=\"text-align: right;\">\n",
       "      <th></th>\n",
       "      <th>Date</th>\n",
       "    </tr>\n",
       "  </thead>\n",
       "  <tbody>\n",
       "    <tr>\n",
       "      <th>112</th>\n",
       "      <td>2023-01-02</td>\n",
       "    </tr>\n",
       "  </tbody>\n",
       "</table>\n",
       "</div>"
      ],
      "text/plain": [
       "          Date\n",
       "112 2023-01-02"
      ]
     },
     "execution_count": 228,
     "metadata": {},
     "output_type": "execute_result"
    }
   ],
   "source": [
    "date_Range = df_date.loc[(df_date[\"Date\"] >' 2023-01-01')& (df_date[\"Date\"] < \"2023-01-31\")]\n",
    "\n",
    "## starting point\n",
    "date_Range.head(1)"
   ]
  },
  {
   "cell_type": "code",
   "execution_count": 230,
   "id": "b77c0702",
   "metadata": {},
   "outputs": [
    {
     "data": {
      "text/html": [
       "<div>\n",
       "<style scoped>\n",
       "    .dataframe tbody tr th:only-of-type {\n",
       "        vertical-align: middle;\n",
       "    }\n",
       "\n",
       "    .dataframe tbody tr th {\n",
       "        vertical-align: top;\n",
       "    }\n",
       "\n",
       "    .dataframe thead th {\n",
       "        text-align: right;\n",
       "    }\n",
       "</style>\n",
       "<table border=\"1\" class=\"dataframe\">\n",
       "  <thead>\n",
       "    <tr style=\"text-align: right;\">\n",
       "      <th></th>\n",
       "      <th>Date</th>\n",
       "    </tr>\n",
       "  </thead>\n",
       "  <tbody>\n",
       "    <tr>\n",
       "      <th>140</th>\n",
       "      <td>2023-01-30</td>\n",
       "    </tr>\n",
       "  </tbody>\n",
       "</table>\n",
       "</div>"
      ],
      "text/plain": [
       "          Date\n",
       "140 2023-01-30"
      ]
     },
     "execution_count": 230,
     "metadata": {},
     "output_type": "execute_result"
    }
   ],
   "source": [
    "## ending point\n",
    "date_Range.tail(1)"
   ]
  },
  {
   "cell_type": "markdown",
   "id": "c34a0a13",
   "metadata": {},
   "source": [
    "#### Q13. To use the basic functions of pandas, what is the first and foremost necessary library that needs to be imported"
   ]
  },
  {
   "cell_type": "markdown",
   "id": "e4e713a9",
   "metadata": {},
   "source": [
    "In order to use the basic funtions of pandas we need to import pandas library."
   ]
  },
  {
   "cell_type": "code",
   "execution_count": null,
   "id": "a47e76c7",
   "metadata": {},
   "outputs": [],
   "source": [
    "## here as is an aliase \n",
    "import pandas as pd"
   ]
  },
  {
   "cell_type": "code",
   "execution_count": null,
   "id": "b4d14223",
   "metadata": {},
   "outputs": [],
   "source": []
  },
  {
   "cell_type": "code",
   "execution_count": null,
   "id": "56e899fa",
   "metadata": {},
   "outputs": [],
   "source": []
  },
  {
   "cell_type": "code",
   "execution_count": null,
   "id": "91307b4b",
   "metadata": {},
   "outputs": [],
   "source": []
  },
  {
   "cell_type": "code",
   "execution_count": null,
   "id": "c6c48dba",
   "metadata": {},
   "outputs": [],
   "source": []
  }
 ],
 "metadata": {
  "kernelspec": {
   "display_name": "Python 3 (ipykernel)",
   "language": "python",
   "name": "python3"
  },
  "language_info": {
   "codemirror_mode": {
    "name": "ipython",
    "version": 3
   },
   "file_extension": ".py",
   "mimetype": "text/x-python",
   "name": "python",
   "nbconvert_exporter": "python",
   "pygments_lexer": "ipython3",
   "version": "3.9.13"
  }
 },
 "nbformat": 4,
 "nbformat_minor": 5
}
