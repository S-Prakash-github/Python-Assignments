{
 "cells": [
  {
   "cell_type": "markdown",
   "id": "19df3e62",
   "metadata": {},
   "source": [
    "#### Q1. Explain Class and Object with respect to Object-Oriented Programming. Give a suitable example"
   ]
  },
  {
   "cell_type": "markdown",
   "id": "c26bbb3e",
   "metadata": {},
   "source": [
    ">A class is a user-defined blueprint or prototype from which objects are created. Classes provide a means of bundling data and functionality together. Creating a new class creates a new type of object, allowing new instances of that type to be made. Each class instance can have attributes attached to it for maintaining its state. Class instances can also have methods (defined by their class) for modifying their state.\n",
    "\n",
    ">An Object is an instance of a Class. A class is like a blueprint while an instance is a copy of the class with actual values. Python is object-oriented programming language that stresses on objects i.e. it mainly emphasizes functions. Objects are basically an encapsulation of data variables and methods acting on that data into a single entity."
   ]
  },
  {
   "cell_type": "code",
   "execution_count": 43,
   "id": "9db4892f",
   "metadata": {},
   "outputs": [
    {
     "name": "stdout",
     "output_type": "stream",
     "text": [
      "recipe of hakka noodles: carrot,peas,onion  soya sauce,tomato sacue 1\n"
     ]
    }
   ],
   "source": [
    "## creating a class as noodles\n",
    "class noodles:\n",
    "    vegetables =\"\"\n",
    "    spieces = \"\"\n",
    "    sauce = \"\"\n",
    "    water = 0\n",
    "    \n",
    "## creating object of noodel class   \n",
    "hakka_noodle = noodles\n",
    "hakka_noodle.vegetables=\"carrot,peas,onion\"\n",
    "hakka_noodle.spices = \"black pepper,jeera powder\"\n",
    "hakka_noodle.sauce = \"soya sauce,tomato sacue\"\n",
    "\n",
    "## access and assign value and to the attributes\n",
    "hakka_noodle.water = 1\n",
    "print(\"recipe of hakka noodles:\" , hakka_noodle.vegetables,hakka_noodle.spieces,hakka_noodle.sauce,hakka_noodle.water)"
   ]
  },
  {
   "cell_type": "code",
   "execution_count": null,
   "id": "d49ca513",
   "metadata": {},
   "outputs": [],
   "source": []
  },
  {
   "cell_type": "markdown",
   "id": "6d4ef9d6",
   "metadata": {},
   "source": [
    "#### Q2. Name the four pillars of OOPs."
   ]
  },
  {
   "cell_type": "markdown",
   "id": "e9f371fb",
   "metadata": {},
   "source": [
    "The four pillars of object-oriented programming are:\n",
    "\n",
    "- Abstraction\n",
    "- Encapsulation\n",
    "- Inheritance\n",
    "- Polymorphism."
   ]
  },
  {
   "cell_type": "markdown",
   "id": "4efe4ab9",
   "metadata": {},
   "source": [
    "#### Q3. Explain why the __init__() function is used. Give a suitable example?"
   ]
  },
  {
   "cell_type": "markdown",
   "id": "aeedeab0",
   "metadata": {},
   "source": [
    "All classes have a function called __init__(), which is always executed when the class is being initiated.\n",
    "\n",
    "The __init__() function to assign values to object properties, or other operations that are necessary to do when the object is being created:"
   ]
  },
  {
   "cell_type": "code",
   "execution_count": 8,
   "id": "8b415968",
   "metadata": {},
   "outputs": [
    {
     "name": "stdout",
     "output_type": "stream",
     "text": [
      "your computer have  i3 8GB LG\n"
     ]
    }
   ],
   "source": [
    "# creating a class\n",
    "class computer:\n",
    "    # The task of constructors is to initialize(assign values) to the data members of the class when an\n",
    "    # object of the class is created.\n",
    "    \n",
    "    def __init__(self, processor, ram, monitor):\n",
    "        self.processor = processor\n",
    "        self.ram = ram\n",
    "        self.monitor = monitor\n",
    "        \n",
    "    def name(self):\n",
    "        print( \"your computer have \",self.processor,self.ram,self.monitor)\n",
    "## creating object        \n",
    "c= computer(\"i3\",\"8GB\",\"LG\")\n",
    "c.name()"
   ]
  },
  {
   "cell_type": "markdown",
   "id": "03662080",
   "metadata": {},
   "source": [
    "#### Q4. Why self is used in OOPs?"
   ]
  },
  {
   "cell_type": "markdown",
   "id": "7778e287",
   "metadata": {},
   "source": [
    "Self represents the instance of the class. By using the “self”  we can access the attributes and methods of the class in python. It binds the attributes with the given arguments."
   ]
  },
  {
   "cell_type": "code",
   "execution_count": 34,
   "id": "1be89b94",
   "metadata": {
    "scrolled": true
   },
   "outputs": [
    {
     "data": {
      "text/plain": [
       "'3.8.9'"
      ]
     },
     "execution_count": 34,
     "metadata": {},
     "output_type": "execute_result"
    }
   ],
   "source": [
    "## without self\n",
    "class py:\n",
    "    def ver(self):\n",
    "        return self\n",
    "\n",
    "a= py\n",
    "a.ver(\"3.8.9\")"
   ]
  },
  {
   "cell_type": "markdown",
   "id": "6b1acdea",
   "metadata": {},
   "source": [
    "#### Q5. What is inheritance? Give an example for each type of inheritance?"
   ]
  },
  {
   "cell_type": "markdown",
   "id": "bd84a6a0",
   "metadata": {},
   "source": [
    ">It is a mechanism that allows you to create a hierarchy of classes that share a set of properties and methods by deriving a class from another class. Inheritance is the capability of one class to derive or inherit the properties from another class. \n",
    "\n",
    "- Benefits of inheritance are: \n",
    "- It represents real-world relationships well.\n",
    "- It provides the reusability of a code. We don’t have to write the same code again and again. Also, it allows us to add more     features to a class without modifying it.\n",
    "- It is transitive in nature, which means that if class B inherits from another class A, then all the subclasses of B would       automatically inherit from class A.\n",
    "- Inheritance offers a simple, understandable model structure. \n",
    "- Less development and maintenance expenses result from an inheritance. "
   ]
  },
  {
   "cell_type": "markdown",
   "id": "3dba9e1b",
   "metadata": {},
   "source": [
    "######  Single Inheritence \n",
    ">Single inheritance enables a derived class to inherit properties from a single parent class, thus enabling code reusability and the addition of new features to existing code."
   ]
  },
  {
   "cell_type": "code",
   "execution_count": 58,
   "id": "0a21683f",
   "metadata": {},
   "outputs": [],
   "source": [
    "class animal:\n",
    "    def ani(self):\n",
    "        return(\"lion\")\n",
    "class animal_baby(animal):\n",
    "    def baby(self):\n",
    "        return(\"cub\")"
   ]
  },
  {
   "cell_type": "code",
   "execution_count": 59,
   "id": "f8231043",
   "metadata": {},
   "outputs": [],
   "source": [
    "a = animal_baby()"
   ]
  },
  {
   "cell_type": "code",
   "execution_count": 60,
   "id": "2b930a0c",
   "metadata": {},
   "outputs": [
    {
     "data": {
      "text/plain": [
       "'cub'"
      ]
     },
     "execution_count": 60,
     "metadata": {},
     "output_type": "execute_result"
    }
   ],
   "source": [
    "a.ani()\n",
    "a.baby()"
   ]
  },
  {
   "cell_type": "markdown",
   "id": "de998b87",
   "metadata": {},
   "source": [
    "##### Multi level Inheritence\n",
    ">In multilevel inheritance, features of the base class and the derived class are further inherited into the new derived class. This is similar to a relationship representing a child and a grandfather. "
   ]
  },
  {
   "cell_type": "code",
   "execution_count": 5,
   "id": "42a73f4d",
   "metadata": {},
   "outputs": [],
   "source": [
    "# grandfather class\n",
    "class aq:\n",
    "    def aquatic_habitat(self):\n",
    "        return \"Pacific Ocean\"\n",
    "# father class\n",
    "class aqua(aq):\n",
    "    def aquatic_plant(self):\n",
    "        return \"coral\"\n",
    "# child class\n",
    "class aquati(aqua):\n",
    "    def aquatic_animal(self):\n",
    "        return \"sea horse\""
   ]
  },
  {
   "cell_type": "code",
   "execution_count": 6,
   "id": "55e7d3a4",
   "metadata": {},
   "outputs": [
    {
     "name": "stdout",
     "output_type": "stream",
     "text": [
      "sea horse\n",
      "Pacific Ocean\n",
      "coral\n"
     ]
    }
   ],
   "source": [
    "# creating object\n",
    "\n",
    "aquatic1 = aquati()\n",
    "print(aquatic1.aquatic_animal())\n",
    "print(aquatic1.aquatic_habitat())\n",
    "print(aquatic1.aquatic_plant())"
   ]
  },
  {
   "cell_type": "markdown",
   "id": "6e37acd9",
   "metadata": {},
   "source": [
    "######  Hierarchical Inheritance: \n",
    ">When more than one derived class are created from a single base this type of inheritance is called hierarchical inheritance. In this program, we have a parent (base) class and two child (derived) classes."
   ]
  },
  {
   "cell_type": "code",
   "execution_count": 11,
   "id": "5619ad49",
   "metadata": {},
   "outputs": [
    {
     "name": "stdout",
     "output_type": "stream",
     "text": [
      "This function is in parent class.\n",
      "This function is in child 1.\n"
     ]
    }
   ],
   "source": [
    "\n",
    "# Python program to demonstrate\n",
    "# Hierarchical inheritance\n",
    " \n",
    "class Parent:\n",
    "    def func1(self):\n",
    "        print(\"This function is in parent class.\")\n",
    " \n",
    "\n",
    " \n",
    "class Child1(Parent):\n",
    "    def func2(self):\n",
    "        print(\"This function is in child 1.\")\n",
    " \n",
    "\n",
    " \n",
    "class Child2(Parent):\n",
    "    def func3(self):\n",
    "        print(\"This function is in child 2.\")\n",
    " \n",
    " \n",
    "# Driver's code\n",
    "object1 = Child1()\n",
    "object2 = Child2()\n",
    "object1.func1()\n",
    "object1.func2()"
   ]
  },
  {
   "cell_type": "code",
   "execution_count": 12,
   "id": "a084f92d",
   "metadata": {},
   "outputs": [
    {
     "name": "stdout",
     "output_type": "stream",
     "text": [
      "This function is in parent class.\n",
      "This function is in child 2.\n"
     ]
    }
   ],
   "source": [
    "object2.func1()\n",
    "object2.func3()"
   ]
  },
  {
   "cell_type": "markdown",
   "id": "e51fefb9",
   "metadata": {},
   "source": [
    "###### Multiple Inheritance: \n",
    ">When a class can be derived from more than one base class this type of inheritance is called multiple inheritances. In multiple inheritances, all the features of the base classes are inherited into the derived class. "
   ]
  },
  {
   "cell_type": "code",
   "execution_count": 25,
   "id": "936d25f8",
   "metadata": {},
   "outputs": [],
   "source": [
    "# Base class1\n",
    "class Mother:\n",
    "    def func1(self):\n",
    "        print(\"This function is in Mother class.\")\n",
    " \n",
    "# Base class 2\n",
    "class Father:\n",
    "    def func2(self):\n",
    "        print(\"This function is in Father class\")\n",
    " \n",
    "\n",
    "# Derived class\n",
    "class son(Father,Mother):\n",
    "    def func3(self):\n",
    "        print(\"This function is in son\")\n",
    " "
   ]
  },
  {
   "cell_type": "code",
   "execution_count": 26,
   "id": "4323ff02",
   "metadata": {},
   "outputs": [
    {
     "name": "stdout",
     "output_type": "stream",
     "text": [
      "This function is in Father class\n"
     ]
    }
   ],
   "source": [
    "obj = son()\n",
    "obj.func2()"
   ]
  },
  {
   "cell_type": "code",
   "execution_count": 27,
   "id": "be100d67",
   "metadata": {},
   "outputs": [
    {
     "name": "stdout",
     "output_type": "stream",
     "text": [
      "This function is in Mother class.\n"
     ]
    }
   ],
   "source": [
    "obj.func1()"
   ]
  },
  {
   "cell_type": "code",
   "execution_count": 28,
   "id": "ff403882",
   "metadata": {},
   "outputs": [
    {
     "name": "stdout",
     "output_type": "stream",
     "text": [
      "This function is in son\n"
     ]
    }
   ],
   "source": [
    "obj.func3()"
   ]
  },
  {
   "cell_type": "code",
   "execution_count": null,
   "id": "460cfaf6",
   "metadata": {},
   "outputs": [],
   "source": []
  }
 ],
 "metadata": {
  "kernelspec": {
   "display_name": "Python 3 (ipykernel)",
   "language": "python",
   "name": "python3"
  },
  "language_info": {
   "codemirror_mode": {
    "name": "ipython",
    "version": 3
   },
   "file_extension": ".py",
   "mimetype": "text/x-python",
   "name": "python",
   "nbconvert_exporter": "python",
   "pygments_lexer": "ipython3",
   "version": "3.9.12"
  }
 },
 "nbformat": 4,
 "nbformat_minor": 5
}
