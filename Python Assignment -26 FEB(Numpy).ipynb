{
 "cells": [
  {
   "cell_type": "code",
   "execution_count": 3,
   "id": "57b09dae",
   "metadata": {},
   "outputs": [],
   "source": [
    "#### Consider the below code to answer further questions:\n",
    "import numpy as np\n",
    "\n",
    "list_ = ['1' , '2' , '3' , '4' , '5']\n",
    "\n",
    "array_list = np.array(object = list_)"
   ]
  },
  {
   "cell_type": "markdown",
   "id": "a72689e3",
   "metadata": {},
   "source": [
    "##### Q1. Is there any difference in the data type of variables list_ and array_list? If there is then write a code to print the data types of both the variables"
   ]
  },
  {
   "cell_type": "code",
   "execution_count": 4,
   "id": "8f7f520b",
   "metadata": {},
   "outputs": [
    {
     "name": "stdout",
     "output_type": "stream",
     "text": [
      "<class 'list'>\n",
      "<class 'numpy.ndarray'>\n"
     ]
    }
   ],
   "source": [
    "### function to show the type \n",
    "def type_(x,y):\n",
    "    print(type(x))\n",
    "    print(type(y))\n",
    "type_(list_,array_list)"
   ]
  },
  {
   "cell_type": "markdown",
   "id": "f290c364",
   "metadata": {},
   "source": [
    "The list_ has a data type of list. The data type of array_list is numpy array because the list_ is changed into numpy array using the np.array() function."
   ]
  },
  {
   "cell_type": "markdown",
   "id": "a496ab14",
   "metadata": {},
   "source": [
    "#### Q2. Write a code to print the data type of each and every element of both the variables list_ and arra_list."
   ]
  },
  {
   "cell_type": "code",
   "execution_count": 14,
   "id": "7a163960",
   "metadata": {},
   "outputs": [
    {
     "name": "stdout",
     "output_type": "stream",
     "text": [
      "data type of elements in list_ :1 <class 'str'>\n",
      "data type of elements in list_ :2 <class 'str'>\n",
      "data type of elements in list_ :3 <class 'str'>\n",
      "data type of elements in list_ :4 <class 'str'>\n",
      "data type of elements in list_ :5 <class 'str'>\n",
      "\n",
      "data type of elements in array_list : 1  <class 'numpy.str_'>\n",
      "data type of elements in array_list : 2  <class 'numpy.str_'>\n",
      "data type of elements in array_list : 3  <class 'numpy.str_'>\n",
      "data type of elements in array_list : 4  <class 'numpy.str_'>\n",
      "data type of elements in array_list : 5  <class 'numpy.str_'>\n"
     ]
    }
   ],
   "source": [
    "def dtype(x,y):\n",
    "    for i in x:\n",
    "        print(\"data type of elements in list_ :{}\".format(i), type(i))\n",
    "    print(\"\")\n",
    "    for i in y:\n",
    "        print(\"data type of elements in array_list : {} \".format(i),type(i))\n",
    "dtype(list_,array_list)"
   ]
  },
  {
   "cell_type": "markdown",
   "id": "c9c5a40a",
   "metadata": {},
   "source": [
    "#### Q3. Considering the following changes in the variable, array_list:\n",
    "\n",
    "array_list = np.array(object = list_, dtype = int)\n",
    "\n",
    "Will there be any difference in the data type of the elements present in both the variables, list_ and \n",
    "arra_list? If so then print the data types of each and every element present in both the variables, list_ \n",
    "and arra_list."
   ]
  },
  {
   "cell_type": "code",
   "execution_count": 15,
   "id": "698f5601",
   "metadata": {},
   "outputs": [],
   "source": [
    "#### Consider the below code to answer further questions:\n",
    "import numpy as np\n",
    "\n",
    "num_list = [ [ 1 , 2 , 3 ] , [ 4 , 5 , 6 ] ]\n",
    "\n",
    "num_array = np.array(object = num_list)"
   ]
  },
  {
   "cell_type": "markdown",
   "id": "78e6d733",
   "metadata": {},
   "source": [
    "#### Q4. Write a code to find the following characteristics of variable, num_array:\n",
    "\n",
    "(i)\t shape\n",
    "\n",
    "(ii) size"
   ]
  },
  {
   "cell_type": "markdown",
   "id": "fd9b59af",
   "metadata": {},
   "source": [
    "> SHAPE :\n",
    "The shape of an array can be defined as the number of elements in each dimension. Dimension is the number of indices or subscripts, that we require in order to specify an individual element of an array."
   ]
  },
  {
   "cell_type": "markdown",
   "id": "9b8bc52c",
   "metadata": {},
   "source": [
    "> SIZE : It gives the number of elements in the array."
   ]
  },
  {
   "cell_type": "code",
   "execution_count": 36,
   "id": "d3774ad4",
   "metadata": {},
   "outputs": [],
   "source": [
    "def shape_size(x):\n",
    "    print(x.shape,\": is the shape of the array\")\n",
    "    print(x.size,\": is the size of the array\")"
   ]
  },
  {
   "cell_type": "code",
   "execution_count": 37,
   "id": "a3767858",
   "metadata": {},
   "outputs": [
    {
     "name": "stdout",
     "output_type": "stream",
     "text": [
      "(2, 3) : is the shape of the array\n",
      "6 : is the size of the array\n"
     ]
    }
   ],
   "source": [
    "shape_size(num_array)"
   ]
  },
  {
   "cell_type": "markdown",
   "id": "1309bb28",
   "metadata": {},
   "source": [
    "#### Q5. Write a code to create numpy array of 3*3 matrix containing zeros only, using a numpy array creation function.\n",
    "\n",
    "[Hint: The size of the array will be 9 and the shape will be (3,3).]"
   ]
  },
  {
   "cell_type": "markdown",
   "id": "9eee7304",
   "metadata": {},
   "source": [
    "np.zeros(shape) returns an array containing only zeros."
   ]
  },
  {
   "cell_type": "code",
   "execution_count": 25,
   "id": "fa75da46",
   "metadata": {
    "scrolled": false
   },
   "outputs": [
    {
     "data": {
      "text/plain": [
       "array([[0., 0., 0.],\n",
       "       [0., 0., 0.],\n",
       "       [0., 0., 0.]])"
      ]
     },
     "execution_count": 25,
     "metadata": {},
     "output_type": "execute_result"
    }
   ],
   "source": [
    "zeros = np.zeros((3,3))\n",
    "zeros"
   ]
  },
  {
   "cell_type": "code",
   "execution_count": 26,
   "id": "508cd145",
   "metadata": {},
   "outputs": [
    {
     "name": "stdout",
     "output_type": "stream",
     "text": [
      "(3, 3) is the shape of the array\n",
      "9 is the size of the array\n"
     ]
    }
   ],
   "source": [
    "print(zeros.shape,\"is the shape of the array\")\n",
    "print(zeros.size,\"is the size of the array\")"
   ]
  },
  {
   "cell_type": "markdown",
   "id": "20ee2cfb",
   "metadata": {},
   "source": [
    "#### Q6. Create an identity matrix of shape (5,5) using numpy functions?\n",
    "\n",
    "[Hint: An identity matrix is a matrix containing 1 diagonally and other elements will be 0.]"
   ]
  },
  {
   "cell_type": "markdown",
   "id": "da41e8f0",
   "metadata": {},
   "source": [
    "The eye function returns a 2-D array with  1’s as the diagonal and  0’s elsewhere. "
   ]
  },
  {
   "cell_type": "code",
   "execution_count": 31,
   "id": "e08549e3",
   "metadata": {},
   "outputs": [
    {
     "data": {
      "text/plain": [
       "array([[1., 0., 0., 0., 0.],\n",
       "       [0., 1., 0., 0., 0.],\n",
       "       [0., 0., 1., 0., 0.],\n",
       "       [0., 0., 0., 1., 0.],\n",
       "       [0., 0., 0., 0., 1.]])"
      ]
     },
     "execution_count": 31,
     "metadata": {},
     "output_type": "execute_result"
    }
   ],
   "source": [
    "## creating a matrix using the np.eye() function\n",
    "identity_matrix = np.eye(5)\n",
    "identity_matrix"
   ]
  },
  {
   "cell_type": "code",
   "execution_count": 33,
   "id": "486374b9",
   "metadata": {},
   "outputs": [
    {
     "name": "stdout",
     "output_type": "stream",
     "text": [
      "(5, 5) is the shape of the identity matrix.\n"
     ]
    }
   ],
   "source": [
    "print(identity_matrix.shape,\"is the shape of the identity matrix.\")"
   ]
  },
  {
   "cell_type": "code",
   "execution_count": null,
   "id": "1cceb9e9",
   "metadata": {},
   "outputs": [],
   "source": []
  }
 ],
 "metadata": {
  "kernelspec": {
   "display_name": "Python 3 (ipykernel)",
   "language": "python",
   "name": "python3"
  },
  "language_info": {
   "codemirror_mode": {
    "name": "ipython",
    "version": 3
   },
   "file_extension": ".py",
   "mimetype": "text/x-python",
   "name": "python",
   "nbconvert_exporter": "python",
   "pygments_lexer": "ipython3",
   "version": "3.9.13"
  }
 },
 "nbformat": 4,
 "nbformat_minor": 5
}
