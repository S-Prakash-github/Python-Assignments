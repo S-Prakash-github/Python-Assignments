{
 "cells": [
  {
   "cell_type": "markdown",
   "id": "fc5700df",
   "metadata": {},
   "source": [
    " ### 29th JAN Python Assignment -- "
   ]
  },
  {
   "cell_type": "markdown",
   "id": "a2cfde6c",
   "metadata": {},
   "source": [
    "#### 1. Who Developed Python programming language?\n",
    "\n",
    "-> Python was created by Guido van Rossum, and first released on February 20, 1991."
   ]
  },
  {
   "cell_type": "markdown",
   "id": "c1cf0f6b",
   "metadata": {},
   "source": [
    "#### 2. Which type of programming does Python support?\n",
    "\n",
    "-> Python is an interpreted programming language, supporting object-oriented, structured, and functional programming.\n",
    "\n",
    "\n"
   ]
  },
  {
   "cell_type": "markdown",
   "id": "72fb094d",
   "metadata": {},
   "source": [
    "#### 3. Is Python case sensitive while dealing with identifiers?\n",
    "\n",
    "-> Yes, Python is a case-sensitive language, i.e., it treats uppercase and lowercase characters differently."
   ]
  },
  {
   "cell_type": "markdown",
   "id": "ff2224a3",
   "metadata": {},
   "source": [
    "#### 4. What is correct extention of python file?\n",
    "\n",
    "-> A PY file is a program or script written in Python."
   ]
  },
  {
   "cell_type": "markdown",
   "id": "bc52fe75",
   "metadata": {},
   "source": [
    "#### 5. Is python code compiled or interpreted?\n",
    "\n",
    "-> Python is both compiled as well as an interpreted language, which means when we run a python code, it is first compiled and then interpreted line by line.The compile part gets deleted as soon as the code gets executed in Python so that the programmer doesn’t get onto unnecessary complexity."
   ]
  },
  {
   "cell_type": "markdown",
   "id": "c07f257a",
   "metadata": {},
   "source": [
    "#### 6. Name a few blocks of code used to define a Python-language?\n",
    "\n",
    "-> Python uses indentation to define blocks of code.Indentations are simply spaces or tabs used as an\n",
    "  indicator that is part of the indent code child.\n",
    "  As used in curly braces C, C++, and Java."
   ]
  },
  {
   "cell_type": "markdown",
   "id": "d8e9821a",
   "metadata": {},
   "source": [
    "#### 7. State a character used to give single-lined comments in Python?\n",
    "\n",
    "-> Hash character '#' is used to give single-lined comments in Python."
   ]
  },
  {
   "cell_type": "markdown",
   "id": "2cff0ee0",
   "metadata": {},
   "source": [
    "#### 8. Mention functions which can help us to find the current version that we are currently working on ?\n",
    "\n",
    "-> To get the Version of the python Interpreter, they are listed as follows:\n",
    "    \n",
    "    :- Using sys.version method:\n",
    "\n",
    "    import sys\n",
    "    print(\\\"User Current Version:-\\\", sys.version)\n",
    "    \n",
    "    :- Using python_version() function:\n",
    "    \n",
    "    from platform import python_version\n",
    "    print(\\\"Current Python Version-\\\", python_version())\n",
    "          \n",
    "    :- Using Python -V command:\n",
    "    Open cmd/terminal/windows powershell > python -V (type this command)"
   ]
  },
  {
   "cell_type": "markdown",
   "id": "847e226b",
   "metadata": {},
   "source": [
    "#### 9. Python supports the creation of an anonymous function at runtime using the constructor called -----  lamda ."
   ]
  },
  {
   "cell_type": "markdown",
   "id": "0e716a71",
   "metadata": {},
   "source": [
    "#### 10.What does pip stands for in Python?\n",
    "\n",
    "-> In Python pip stands for \"preferred installer program\"."
   ]
  },
  {
   "cell_type": "markdown",
   "id": "bd537d4a",
   "metadata": {},
   "source": [
    "#### 11. Mention a few built in functions in python?\n",
    "-> capitalize(), max(), min(), sum(), lower(), upper(), bool(), append(), insert(), extend(), etc ."
   ]
  },
  {
   "cell_type": "markdown",
   "id": "95ceb20a",
   "metadata": {},
   "source": [
    "#### 12. What is maximum possible length of a identifier in python?\n",
    "\n",
    "-> Python has a maximum of 79 characters limit for creating identifier."
   ]
  },
  {
   "cell_type": "markdown",
   "id": "07e867ee",
   "metadata": {},
   "source": [
    "#### 13. What are benifits of using python?\n",
    "\n",
    "   ###### > Portability \n",
    " You can run your Python program across Windows, Mac OS, and Linux without modifying the program code.It can be used in any    operating systems without modifying the program code.\n",
    "###### > Extensive libraries \n",
    " Python supports large number of librabies to perform differnt tasks eg, keras, tensorflow , scipy etc.\n",
    "###### > Large developer community \n",
    " Python's developer community has grow extensively.  \n",
    "###### > Wide range of use cases \n",
    " It comes with many use case eg, Data science, Game development, Machine learning, Web development, Statistics, etc.\n",
    "###### > Less code \n",
    " As compared to other programing language like JAVA, C++, C, it requires very less numerb of code to perform the same operation."
   ]
  },
  {
   "cell_type": "markdown",
   "id": "9b62b6a3",
   "metadata": {},
   "source": [
    "#### 14. How is memory managed in Pyhton?\n",
    "->\n",
    "- Memory in Python is managed by Python private heap space. All Python objects and data structures are located in a private heap. This private heap     is taken care of by Python Interpreter itself, and a programmer doesn’t have access to this private heap.\n",
    "- Python memory manager takes care of the allocation of Python private heap space.\n",
    "- Memory for Python private heap space is made available by Python’s in-built garbage collector, which recycles and frees up all the unused memory."
   ]
  },
  {
   "cell_type": "markdown",
   "id": "43e037c9",
   "metadata": {},
   "source": [
    "#### 15. How to install python in Windows and set path variable?\n",
    "->\n",
    "- Installing Python from Python.org.\n",
    "- Right-clicking This PC and going to Properties.\n",
    "- Clicking on the Advanced system settings in the menu on the left.\n",
    "- Clicking on the Environment Variables button on the bottom right.\n",
    "- In the System variables section, selecting the Path variable and clicking on Edit. The next screen will show all the directories that are currently   a part of the PATH variable.\n",
    "- Clicking on New and entering Python’s install directory."
   ]
  },
  {
   "cell_type": "markdown",
   "id": "f8df01c8",
   "metadata": {},
   "source": [
    "#### 16. Is Indentation required in Python ?\n",
    "-> Indentation is a very important concept of Python because without proper indenting the Python code, you will end up seeing IndentationError and the code will not get compiled."
   ]
  },
  {
   "cell_type": "code",
   "execution_count": null,
   "id": "ebaa6d74",
   "metadata": {},
   "outputs": [],
   "source": []
  }
 ],
 "metadata": {
  "kernelspec": {
   "display_name": "Python 3 (ipykernel)",
   "language": "python",
   "name": "python3"
  },
  "language_info": {
   "codemirror_mode": {
    "name": "ipython",
    "version": 3
   },
   "file_extension": ".py",
   "mimetype": "text/x-python",
   "name": "python",
   "nbconvert_exporter": "python",
   "pygments_lexer": "ipython3",
   "version": "3.9.12"
  }
 },
 "nbformat": 4,
 "nbformat_minor": 5
}
