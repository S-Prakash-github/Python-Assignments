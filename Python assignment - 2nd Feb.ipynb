{
 "cells": [
  {
   "cell_type": "markdown",
   "id": "12457a73",
   "metadata": {},
   "source": [
    "#### 2nd FEB assignment
   ]
  },
{
 "cells": [
  {
   "cell_type": "markdown",
   "id": "12457a74",
   "metadata": {},
   "source": [
    "#### Q1.  Explain with an example each when to use a for loop and a while loop?"
   ]
  },
  {
   "cell_type": "markdown",
   "id": "bec624bf",
   "metadata": {},
   "source": [
    "-> for loop provides a concise way of writing the loop structure. Unlike a while loop, a for statement consumes the \n",
    "initialization, condition and increment/decrement in one line thereby providing a shorter, easy to debug structure of looping.\n",
    "\n",
    "-> A while loop is a control flow statement that allows code to be executed repeatedly based on a given Boolean condition. The while loop can be thought of as a repeating if statement."
   ]
  },
  {
   "cell_type": "code",
   "execution_count": 4,
   "id": "e0acd59b",
   "metadata": {},
   "outputs": [
    {
     "name": "stdout",
     "output_type": "stream",
     "text": [
      "1\n",
      "2\n",
      "3\n",
      "4\n",
      "5\n",
      "6\n",
      "7\n",
      "8\n",
      "9\n",
      "10\n"
     ]
    }
   ],
   "source": [
    "## Printing ten natural numbers using while loop\n",
    "\n",
    "i = 1\n",
    "# initializing the condition\n",
    "while i <= 10 :\n",
    "    print(i)\n",
    "    ## We need to increment the value of i \n",
    "    i = i+1"
   ]
  },
  {
   "cell_type": "code",
   "execution_count": 5,
   "id": "5b7706e3",
   "metadata": {},
   "outputs": [
    {
     "name": "stdout",
     "output_type": "stream",
     "text": [
      "0\n",
      "1\n",
      "2\n",
      "3\n",
      "4\n",
      "5\n",
      "6\n",
      "7\n",
      "8\n",
      "9\n",
      "10\n"
     ]
    }
   ],
   "source": [
    "## Printing ten natural numbers using for loop\n",
    "## We don't need to increment the value of i\n",
    "for i in range(0,11):\n",
    "    print(i)"
   ]
  },
  {
   "cell_type": "markdown",
   "id": "3e8d54df",
   "metadata": {},
   "source": [
    "#### Q2.  Write a python program to print the sum and product of the first 10 natural numbers using for and while loop?"
   ]
  },
  {
   "cell_type": "code",
   "execution_count": 11,
   "id": "e8fa7861",
   "metadata": {},
   "outputs": [
    {
     "name": "stdout",
     "output_type": "stream",
     "text": [
      "55  is the sum of first 10 natural numbers using for loop\n"
     ]
    }
   ],
   "source": [
    "## Using for loop to add first 10 natural numbers\n",
    "Sum = 0 \n",
    "for i in range (1,11):\n",
    "    Sum = Sum + i\n",
    "print(Sum, \" is the sum of first 10 natural numbers using for loop\")"
   ]
  },
  {
   "cell_type": "code",
   "execution_count": 10,
   "id": "a1df441c",
   "metadata": {},
   "outputs": [
    {
     "name": "stdout",
     "output_type": "stream",
     "text": [
      "55  is the sum of first 10 natural numbers using for loop\n"
     ]
    }
   ],
   "source": [
    "## Using while loop to add first 10 natural numbers\n",
    "i = 1\n",
    "num = 11\n",
    "result = 0\n",
    "while i < num:\n",
    "    result = result + i\n",
    "    i = i + 1\n",
    "print(result, \" is the sum of first 10 natural numbers using for loop\")"
   ]
  },
  {
   "cell_type": "markdown",
   "id": "05dcdc55",
   "metadata": {},
   "source": [
    "#### Q3. Create a python program to compute the electricity bill for a household.\n",
    "\n",
    ">The per-unit charges in rupees are as follows: For the first 100 units, the user will be charged Rs. 4.5 per \n",
    ">unit, for the next 100 units, the user will be charged Rs. 6 per unit, and for the next 100 units, the user will \n",
    ">be charged Rs. 10 per unit, After 300 units and above the user will be charged Rs. 20 per unit.\n",
    ">You are required to take the units of electricity consumed in a month from the user as input.\n",
    "\n",
    ">Your program must pass this test case: when the unit of electricity consumed by the user in a month is \n",
    "310, the total electricity bill should be 2250."
   ]
  },
  {
   "cell_type": "code",
   "execution_count": 1,
   "id": "1290285a",
   "metadata": {},
   "outputs": [
    {
     "name": "stdout",
     "output_type": "stream",
     "text": [
      "Enter the elecetricity unit :310\n",
      "2250.0\n"
     ]
    }
   ],
   "source": [
    "## user input \n",
    "unit = int(input(\"Enter the elecetricity unit :\"))\n",
    "\n",
    "## conditonal statements\n",
    "if unit <=100:\n",
    "    unit_charged = unit * 4.5\n",
    "    print(unit_charged)\n",
    "elif unit <= 200:\n",
    "    unit_charged = (100*4.5) + (unit-100)*6\n",
    "    print(unit_charged)\n",
    "elif unit <= 300:\n",
    "    unit_charged = (100*4.5) + (100*6)+(unit-200)*10\n",
    "    print(unit_charged)\n",
    "else:\n",
    "    unit_charged = (100*4.5) + (100*6) + (100*10) + (unit-300) * 20\n",
    "    print(unit_charged)"
   ]
  },
  {
   "cell_type": "markdown",
   "id": "83527e90",
   "metadata": {},
   "source": [
    "#### Q4. Create a list of numbers from 1 to 100. Use for loop and while loop to calculate the cube of each number and if the cube of that number is divisible by 4 or 5 then append that number in a list and print that list."
   ]
  },
  {
   "cell_type": "code",
   "execution_count": 13,
   "id": "5daeb4e0",
   "metadata": {},
   "outputs": [
    {
     "name": "stdout",
     "output_type": "stream",
     "text": [
      "[4, 5, 8, 10, 12, 15, 16, 20, 24, 25, 28, 30, 32, 35, 36, 40, 44, 45, 48, 50, 52, 55, 56, 60, 64, 65, 68, 70, 72, 75, 76, 80, 84, 85, 88, 90, 92, 95, 96, 100]\n"
     ]
    }
   ],
   "source": [
    "## Creating a list containing values from 1 to 100\n",
    "\n",
    "l = []\n",
    "i =1\n",
    "\n",
    "while i < 101:\n",
    "    l.append(i)\n",
    "    i = i + 1\n",
    "\n",
    "## finding out the numbers divisible by 4 and 5\n",
    "\n",
    "l2 = []   ## creating an empty list\n",
    "\n",
    "## Looping through l \n",
    "for i in l:\n",
    "    if  i%4 == 0 or i%5 == 0:\n",
    "        l2.append(i)\n",
    "        \n",
    "print(l2) ## final list"
   ]
  },
  {
   "cell_type": "markdown",
   "id": "483da0cf",
   "metadata": {},
   "source": [
    "#### Q5.  Write a program to filter count vowels in the below-given string.\n",
    "\n",
    ">string = \"I want to become a data scientist"
   ]
  },
  {
   "cell_type": "code",
   "execution_count": 6,
   "id": "c5e9619c",
   "metadata": {},
   "outputs": [
    {
     "name": "stdout",
     "output_type": "stream",
     "text": [
      "12 is the count of vowels in the string\n",
      " ['I', 'a', 'o', 'e', 'o', 'e', 'a', 'a', 'a', 'i', 'e', 'i']\n"
     ]
    }
   ],
   "source": [
    "# assigning values\n",
    "string = \"I want to become a data scientist\"\n",
    "vowels = \"aeiouAEIOU\"\n",
    "\n",
    "## using for loop to find elements in string matches with vowel\n",
    "result = [i for i in string if i in vowels]\n",
    "\n",
    "## using len to find the count of vowels in string\n",
    "print(len(result), \"is the count of vowels in the string\\n\",result)\n"
   ]
  },
  {
   "cell_type": "code",
   "execution_count": null,
   "id": "67c968c1",
   "metadata": {},
   "outputs": [],
   "source": []
  },
  {
   "cell_type": "code",
   "execution_count": null,
   "id": "c87e6e0c",
   "metadata": {},
   "outputs": [],
   "source": []
  },
  {
   "cell_type": "code",
   "execution_count": null,
   "id": "6ea7bc8c",
   "metadata": {},
   "outputs": [],
   "source": []
  }
 ],
 "metadata": {
  "kernelspec": {
   "display_name": "Python 3 (ipykernel)",
   "language": "python",
   "name": "python3"
  },
  "language_info": {
   "codemirror_mode": {
    "name": "ipython",
    "version": 3
   },
   "file_extension": ".py",
   "mimetype": "text/x-python",
   "name": "python",
   "nbconvert_exporter": "python",
   "pygments_lexer": "ipython3",
   "version": "3.9.12"
  }
 },
 "nbformat": 4,
 "nbformat_minor": 5
}
