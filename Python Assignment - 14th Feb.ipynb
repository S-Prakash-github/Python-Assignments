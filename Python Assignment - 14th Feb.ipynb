{
 "cells": [
  {
   "cell_type": "markdown",
   "id": "178bb29f",
   "metadata": {},
   "source": [
    "#### Q1. What is multithreading in python? Why is it used? Name the module used to handle threads in python"
   ]
  },
  {
   "cell_type": "markdown",
   "id": "b93fc58b",
   "metadata": {},
   "source": [
    "Multithreading in Python is a way to perform multiple tasks or processes concurrently within a single program. It is a form of parallelism that allows multiple threads of execution to run simultaneously in a single process.\n",
    "\n",
    "Multithreading is used to improve the performance of a program that performs tasks that can be run concurrently. For example, if a program needs to perform I/O operations such as reading from or writing to a file or network, it can create a separate thread to handle those operations while the main thread continues to execute other tasks. This can improve the overall performance of the program by allowing it to make more efficient use of system resources.\n",
    "\n",
    "In Python, the threading module is used to handle threads. This module provides a way to create, start, and manage threads in a Python program. The threading module provides a Thread class that can be used to create and manage threads. The threading module also provides other classes and functions for synchronization, locking, and other thread-related operations.\n"
   ]
  },
  {
   "cell_type": "markdown",
   "id": "18fc188e",
   "metadata": {},
   "source": [
    "#### Q2. Why threading module used?\n",
    "\n",
    "##### Write the use of the following functions.\n",
    "\n",
    "activeCount()\n",
    "currentThread()\n",
    "enumeratre()"
   ]
  },
  {
   "cell_type": "markdown",
   "id": "8fd97c16",
   "metadata": {},
   "source": [
    "The threading module in Python is used to create and manage threads. Threads are lightweight processes that run concurrently within the same process, sharing the same resources and memory. The use of threads can improve the performance of certain types of programs by allowing for parallel execution of multiple tasks.\n",
    "\n",
    "The following are the uses of the functions mentioned:\n",
    "\n",
    "- activeCount(): This function is used to return the number of currently active threads in the current thread's thread object. It is helpful to know how many threads are currently running in a program.\n",
    "\n",
    "\n",
    "- currentThread(): This function returns the current thread object. The current thread is the thread that is currently executing and calling this function. It can be used to get information about the current thread or to manipulate its behavior.\n",
    "\n",
    "\n",
    "- enumerate(): This function is used to return a list of all the currently active thread objects. The list includes the current thread object and all other active thread objects. It is useful to get information about all the threads currently running in a program, and it can be used to perform operations on each thread object in the list."
   ]
  },
  {
   "cell_type": "markdown",
   "id": "3fd19889",
   "metadata": {},
   "source": [
    "#### Q3. Explain the following functions.\n",
    "run()\n",
    "\n",
    "start()\n",
    "\n",
    "join()\n",
    "\n",
    "isAlive()"
   ]
  },
  {
   "cell_type": "markdown",
   "id": "fc693576",
   "metadata": {},
   "source": [
    "- run(): This function is the entry point for a thread, and it defines the behavior of the thread when it is started. This function should be overridden by a subclass of the Thread class, and it is typically used to encapsulate the code that the thread will execute. When the start() method is called on a thread object, it will call the run() method to begin the execution of the thread.\n",
    "\n",
    "- start(): This function is used to start a new thread of execution. It creates a new thread object and then calls the run() method on the thread object. When the start() method is called, the thread is put in the \"ready\" state, and the Python interpreter will schedule it to run as soon as it can.\n",
    "\n",
    "- join(): This function is used to wait for a thread to complete its execution. When the join() method is called on a thread object, the calling thread will wait until the thread being joined has completed. This is useful when you want to ensure that a thread has finished its work before continuing with the rest of the program.\n",
    "\n",
    "- isAlive(): This function is used to check if a thread is still running. When the isAlive() method is called on a thread object, it will return True if the thread is currently running, and False otherwise. This function is useful when you want to check if a thread has finished its work or if it is still running."
   ]
  },
  {
   "cell_type": "markdown",
   "id": "969d390e",
   "metadata": {},
   "source": [
    "#### Q4. Write a python program to create two thread, thread one will print the list of squares and thread two will print the list of cubes"
   ]
  },
  {
   "cell_type": "code",
   "execution_count": 7,
   "id": "8695b3e2",
   "metadata": {},
   "outputs": [
    {
     "name": "stdout",
     "output_type": "stream",
     "text": [
      "List of Squares:\n",
      "1\n",
      "4\n",
      "9\n",
      "16\n",
      "25\n",
      "List of Cubes:\n",
      "1\n",
      "8\n",
      "27\n",
      "64\n",
      "125\n",
      "Done\n"
     ]
    }
   ],
   "source": [
    "import threading\n",
    "\n",
    "# Function to print list of squares\n",
    "def print_squares(nums):\n",
    "    print(\"List of Squares:\")\n",
    "    for num in nums:\n",
    "        print(num ** 2)\n",
    "\n",
    "# Function to print list of cubes\n",
    "def print_cubes(nums):\n",
    "    print(\"List of Cubes:\")\n",
    "    for num in nums:\n",
    "        print(num ** 3)\n",
    "\n",
    "# Create a list of numbers\n",
    "nums = [1, 2, 3, 4, 5]\n",
    "\n",
    "# Create two threads\n",
    "t1 = threading.Thread(target=print_squares, args=(nums,))\n",
    "t2 = threading.Thread(target=print_cubes, args=(nums,))\n",
    "\n",
    "# Start the threads\n",
    "t1.start()\n",
    "t2.start()\n",
    "\n",
    "# Wait for the threads to complete\n",
    "t1.join()\n",
    "t2.join()\n",
    "\n",
    "print(\"Done\")"
   ]
  },
  {
   "cell_type": "markdown",
   "id": "d6772eb9",
   "metadata": {},
   "source": [
    "#### Q5. State advantages and disadvantages of multithreading."
   ]
  },
  {
   "cell_type": "markdown",
   "id": "8f1f210d",
   "metadata": {},
   "source": [
    "Advantages of Multithreading:\n",
    "\n",
    "- Improved performance: By executing multiple threads simultaneously, a multithreaded program can often perform faster than a single-threaded program. This is because the threads can execute concurrently, making more efficient use of system resources.\n",
    "\n",
    "\n",
    "- Responsiveness: Multithreaded programs can be more responsive to user input and other events because they can continue to execute other tasks while waiting for I/O operations or other blocking activities to complete.\n",
    "\n",
    "\n",
    "- Resource sharing: Multithreading allows different threads to share resources such as memory, file handles, and network connections, which can reduce the overall resource usage of a program.\n",
    "\n",
    "\n",
    "- Simplified programming: In some cases, multithreading can simplify programming by allowing developers to separate different parts of a program into separate threads, making the code more modular and easier to maintain.\n",
    "\n",
    "\n",
    "Disadvantages of Multithreading:\n",
    "\n",
    "- Complexity: Multithreading can make programs more complex and difficult to write and debug. Race conditions, deadlocks, and other concurrency issues can be difficult to diagnose and resolve.\n",
    "\n",
    "\n",
    "- Resource contention: If multiple threads access the same resources simultaneously, it can lead to contention and potentially reduce performance. Careful design and synchronization of shared resources is necessary to avoid these issues.\n",
    "\n",
    "\n",
    "- Scalability limitations: While multithreading can improve performance on a single machine, it may not necessarily scale well to larger systems or distributed environments.\n",
    "\n",
    "\n",
    "- Overhead: Creating and managing threads can introduce overhead and consume additional system resources, particularly if there are many threads running simultaneously.\n",
    "\n",
    "\n",
    "In summary, multithreading can offer significant benefits in terms of performance, responsiveness, and resource sharing. However, it also introduces some complexity and potential issues that must be carefully managed in order to achieve the desired benefits.\n",
    "\n",
    "\n",
    "\n"
   ]
  },
  {
   "cell_type": "markdown",
   "id": "c8a7d45b",
   "metadata": {},
   "source": [
    "#### Q6. Explain Deadlock and race conditions"
   ]
  },
  {
   "cell_type": "markdown",
   "id": "93aa8190",
   "metadata": {},
   "source": [
    "Deadlock:\n",
    "\n",
    "Deadlock is a situation where two or more threads are blocked, waiting for each other to release resources that they need in order to continue running. In a multithreaded program, a deadlock can occur when two or more threads each hold a resource that the other thread needs to proceed, and they are unable to release their resources until they receive the resources they need from the other thread. This can result in a situation where the threads are stuck in a loop, waiting for each other to release resources that they need, and the program is unable to continue executing.\n",
    "\n",
    "Race Condition:\n",
    "\n",
    "A race condition is a situation where two or more threads access a shared resource, such as a variable or data structure, and the final outcome depends on the order in which the threads execute. In other words, the result of the program depends on which thread happens to access the shared resource first. This can result in unexpected behavior, as the program may not always produce the same output or behavior, even when given the same inputs.\n",
    "\n",
    "For example, consider a scenario where two threads are trying to increment a shared counter variable. If the threads access the variable at the same time, there is a race condition: the final value of the counter depends on which thread accesses it first. If both threads access the counter simultaneously, they may both read the same value and increment it, resulting in the counter being incremented only once instead of twice.\n",
    "\n",
    "To avoid deadlock and race conditions, it's important to properly synchronize and coordinate the access to shared resources in a multithreaded program. This can be done using locks, semaphores, and other synchronization primitives provided by the threading module in Python."
   ]
  },
  {
   "cell_type": "code",
   "execution_count": null,
   "id": "03ec05de",
   "metadata": {},
   "outputs": [],
   "source": []
  }
 ],
 "metadata": {
  "kernelspec": {
   "display_name": "Python 3 (ipykernel)",
   "language": "python",
   "name": "python3"
  },
  "language_info": {
   "codemirror_mode": {
    "name": "ipython",
    "version": 3
   },
   "file_extension": ".py",
   "mimetype": "text/x-python",
   "name": "python",
   "nbconvert_exporter": "python",
   "pygments_lexer": "ipython3",
   "version": "3.9.12"
  }
 },
 "nbformat": 4,
 "nbformat_minor": 5
}
