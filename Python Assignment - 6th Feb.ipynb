{
 "cells": [
  {
   "cell_type": "markdown",
   "id": "ca29e6af",
   "metadata": {},
   "source": [
    "#### Q1. Create a function which will take a list as an argument and return the product of all the numbers after creating a flat list.\n",
    "\n",
    ">Use the below-given list as an argument for your function.\n",
    "\n",
    "\n",
    ">list1 = [1,2,3,4, [44,55,66, True], False, (34,56,78,89,34), {1,2,3,3,2,1}, {1:34, \"key2\": [55, 67, 78, 89], 4: (45, \n",
    ">22, 61, 34)}, [56, 'data science'], 'Machine Learning']"
   ]
  },
  {
   "cell_type": "code",
   "execution_count": 154,
   "id": "bded448e",
   "metadata": {},
   "outputs": [],
   "source": [
    "## creating a function\n",
    "\n",
    "def flat_list_product (n):\n",
    "    flat_list = []\n",
    "    \n",
    "    ## iterating through n\n",
    "    for item in n:\n",
    "        ## interger value\n",
    "        \n",
    "        if isinstance (item,int):\n",
    "            flat_list.append(item)\n",
    "            \n",
    "        ## integer value in tuple\n",
    "        \n",
    "        elif isinstance(item,tuple):\n",
    "            for items in item:\n",
    "                if isinstance(items,int):\n",
    "                    flat_list.append(items)\n",
    "                    \n",
    "        ## integer value in set\n",
    "        \n",
    "        elif isinstance(item,set):\n",
    "            for items in item :\n",
    "                if isinstance(items,int):\n",
    "                    flat_list.append(items)\n",
    "                    \n",
    "        ## integer value in list\n",
    "        \n",
    "        elif isinstance(item,list):\n",
    "            for items in item:\n",
    "                if isinstance(items,int):\n",
    "                    flat_list.append(items)\n",
    "                    \n",
    "        ## integer value in dict\n",
    "        \n",
    "        elif isinstance(item, dict):\n",
    "            \n",
    "            d_keys = item.keys()\n",
    "            d_values = item.values()\n",
    "            for items in d_keys:\n",
    "                if isinstance(items,int):\n",
    "                    flat_list.append(items)\n",
    "            for items in d_values:\n",
    "                if isinstance(items,int):\n",
    "                    flat_list.append(items)\n",
    "                elif isinstance(items, (list, tuple, set)):\n",
    "                    flat_list.extend(items)\n",
    "     \n",
    "    ## removing bool values from the list using list comprehension\n",
    "    flat_list_ = [x for x in flat_list if not isinstance(x,bool)] \n",
    "    print(flat_list_,\"is the flat list\")\n",
    "    \n",
    "    ## finding the product of all items in the list using reduce function\n",
    "    # importing reduce\n",
    "    \n",
    "    from functools import reduce\n",
    "    product_flat_list = reduce(lambda x , y : x * y,flat_list_)\n",
    "    \n",
    "    ## final output\n",
    "    print(\"\\n\",product_flat_list,\"is the product.\")"
   ]
  },
  {
   "cell_type": "code",
   "execution_count": 155,
   "id": "7e395e09",
   "metadata": {},
   "outputs": [
    {
     "name": "stdout",
     "output_type": "stream",
     "text": [
      "[1, 2, 3, 4, 44, 55, 66, 34, 56, 78, 89, 34, 1, 2, 3, 1, 4, 34, 55, 67, 78, 89, 45, 22, 61, 34, 56] is the flat list\n",
      "\n",
      " 4134711838987085478833841242112000 is the product.\n"
     ]
    }
   ],
   "source": [
    "## input\n",
    "flat_list_product([\n",
    "    1,2,3,4, [44,55,66, True], False, (34,56,78,89,34), {1,2,3,3,2,1}, {1:34, \"key2\": [55, 67, 78, 89], 4: (45, \n",
    "22, 61, 34)}, [56, 'data science'], 'Machine Learning']\n",
    ")"
   ]
  },
  {
   "cell_type": "markdown",
   "id": "c4a4b371",
   "metadata": {},
   "source": [
    "#### Q2. Write a python program for encrypting a message sent to you by your friend. The logic of encryption should be such that, for a the output should be z. For b, the output should be y. For c, the output should be x respectively. Also, the whitespace should be replaced with a dollar sign. Keep the punctuation marks unchanged.\n",
    "\n",
    "\n",
    ">Input Sentence: I want to become a Data Scientist.\n",
    "Encrypt the above input sentence using the program you just created.\n",
    "\n",
    ">Note: Convert the given input sentence into lowercase before encrypting. The final output should be \n",
    "lowercase"
   ]
  },
  {
   "cell_type": "code",
   "execution_count": 5,
   "id": "bde3b37b",
   "metadata": {},
   "outputs": [
    {
     "data": {
      "text/plain": [
       "'i$wznt$to$yexome$dztz$sxientist'"
      ]
     },
     "execution_count": 5,
     "metadata": {},
     "output_type": "execute_result"
    }
   ],
   "source": [
    "## for a =z , for b = y and for c = x\n",
    "## creating a function\n",
    "def encrypt(s):\n",
    "    s_ = s.lower()\n",
    "    replace_a = s.replace(\"a\",\"z\" )\n",
    "    replace_b = replace_a.replace(\"b\",\"y\")\n",
    "    replace_c = replace_b.replace(\"c\",\"x\")\n",
    "    replace_ = replace_c.replace(\" \",\"$\")\n",
    "    return replace_.lower()\n",
    "\n",
    "# input\n",
    "encrypt(\"I want to become Data Scientist\")"
   ]
  },
  {
   "cell_type": "code",
   "execution_count": 6,
   "id": "1aefb98d",
   "metadata": {},
   "outputs": [],
   "source": [
    "## second method\n",
    "\n",
    "def encrypt1(s):\n",
    "    s_ = s.lower()\n",
    "    replace_ = s.replace(\"a\",\"z\" ).replace(\"b\",\"y\").replace(\"c\",\"x\").replace(\" \",\"$\")\n",
    "    return replace_.lower()\n"
   ]
  },
  {
   "cell_type": "code",
   "execution_count": 7,
   "id": "ed089896",
   "metadata": {},
   "outputs": [
    {
     "data": {
      "text/plain": [
       "'i$wznt$to$yexome$dztz$sxientist'"
      ]
     },
     "execution_count": 7,
     "metadata": {},
     "output_type": "execute_result"
    }
   ],
   "source": [
    "encrypt1(\"I want to become Data Scientist\")"
   ]
  },
  {
   "cell_type": "code",
   "execution_count": null,
   "id": "e47e38f3",
   "metadata": {},
   "outputs": [],
   "source": []
  },
  {
   "cell_type": "code",
   "execution_count": null,
   "id": "06b6af9f",
   "metadata": {},
   "outputs": [],
   "source": []
  },
  {
   "cell_type": "code",
   "execution_count": null,
   "id": "6898bb15",
   "metadata": {},
   "outputs": [],
   "source": []
  },
  {
   "cell_type": "code",
   "execution_count": null,
   "id": "71c9b6d1",
   "metadata": {},
   "outputs": [],
   "source": []
  },
  {
   "cell_type": "code",
   "execution_count": null,
   "id": "aeec7a87",
   "metadata": {},
   "outputs": [],
   "source": []
  },
  {
   "cell_type": "code",
   "execution_count": null,
   "id": "1c90c20b",
   "metadata": {},
   "outputs": [],
   "source": []
  },
  {
   "cell_type": "code",
   "execution_count": null,
   "id": "640aef1a",
   "metadata": {},
   "outputs": [],
   "source": []
  },
  {
   "cell_type": "code",
   "execution_count": null,
   "id": "490cbfae",
   "metadata": {},
   "outputs": [],
   "source": []
  },
  {
   "cell_type": "code",
   "execution_count": null,
   "id": "61ea1c30",
   "metadata": {},
   "outputs": [],
   "source": []
  },
  {
   "cell_type": "code",
   "execution_count": 82,
   "id": "777fedc6",
   "metadata": {},
   "outputs": [],
   "source": []
  },
  {
   "cell_type": "code",
   "execution_count": null,
   "id": "95a2e846",
   "metadata": {},
   "outputs": [],
   "source": []
  }
 ],
 "metadata": {
  "kernelspec": {
   "display_name": "Python 3 (ipykernel)",
   "language": "python",
   "name": "python3"
  },
  "language_info": {
   "codemirror_mode": {
    "name": "ipython",
    "version": 3
   },
   "file_extension": ".py",
   "mimetype": "text/x-python",
   "name": "python",
   "nbconvert_exporter": "python",
   "pygments_lexer": "ipython3",
   "version": "3.9.12"
  }
 },
 "nbformat": 4,
 "nbformat_minor": 5
}
