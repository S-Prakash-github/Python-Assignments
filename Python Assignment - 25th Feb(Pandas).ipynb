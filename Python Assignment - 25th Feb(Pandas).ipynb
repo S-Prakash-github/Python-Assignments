{
 "cells": [
  {
   "cell_type": "markdown",
   "id": "8ec5d79f",
   "metadata": {},
   "source": [
    "#### Consider following code to answer further questions:"
   ]
  },
  {
   "cell_type": "code",
   "execution_count": 2,
   "id": "98bc1b05",
   "metadata": {},
   "outputs": [
    {
     "data": {
      "text/html": [
       "<div>\n",
       "<style scoped>\n",
       "    .dataframe tbody tr th:only-of-type {\n",
       "        vertical-align: middle;\n",
       "    }\n",
       "\n",
       "    .dataframe tbody tr th {\n",
       "        vertical-align: top;\n",
       "    }\n",
       "\n",
       "    .dataframe thead th {\n",
       "        text-align: right;\n",
       "    }\n",
       "</style>\n",
       "<table border=\"1\" class=\"dataframe\">\n",
       "  <thead>\n",
       "    <tr style=\"text-align: right;\">\n",
       "      <th></th>\n",
       "      <th>course_name</th>\n",
       "      <th>duration</th>\n",
       "    </tr>\n",
       "  </thead>\n",
       "  <tbody>\n",
       "    <tr>\n",
       "      <th>0</th>\n",
       "      <td>Data Science</td>\n",
       "      <td>2</td>\n",
       "    </tr>\n",
       "    <tr>\n",
       "      <th>1</th>\n",
       "      <td>Machine Learning</td>\n",
       "      <td>3</td>\n",
       "    </tr>\n",
       "    <tr>\n",
       "      <th>2</th>\n",
       "      <td>Big Data</td>\n",
       "      <td>6</td>\n",
       "    </tr>\n",
       "    <tr>\n",
       "      <th>3</th>\n",
       "      <td>Data Engineer</td>\n",
       "      <td>4</td>\n",
       "    </tr>\n",
       "  </tbody>\n",
       "</table>\n",
       "</div>"
      ],
      "text/plain": [
       "        course_name  duration\n",
       "0      Data Science         2\n",
       "1  Machine Learning         3\n",
       "2          Big Data         6\n",
       "3     Data Engineer         4"
      ]
     },
     "execution_count": 2,
     "metadata": {},
     "output_type": "execute_result"
    }
   ],
   "source": [
    "import pandas as pd\n",
    "\n",
    "course_name = ['Data Science', 'Machine Learning', 'Big Data', 'Data Engineer']\n",
    "\n",
    "duration =  [2,3,6,4]\n",
    "\n",
    "df = pd.DataFrame(data = {'course_name' : course_name, 'duration' : duration})\n",
    "df"
   ]
  },
  {
   "cell_type": "markdown",
   "id": "028c8c91",
   "metadata": {},
   "source": [
    "#### Q1. Write a code to print the data present in the second row of the dataframe, df."
   ]
  },
  {
   "cell_type": "code",
   "execution_count": 3,
   "id": "7189ed57",
   "metadata": {},
   "outputs": [
    {
     "name": "stdout",
     "output_type": "stream",
     "text": [
      "course_name    Machine Learning\n",
      "duration                      3\n",
      "Name: 1, dtype: object\n"
     ]
    }
   ],
   "source": [
    "## printing the datat in the second row of the dataframe\n",
    "print(df.loc[1 , [\"course_name\",\"duration\"]])"
   ]
  },
  {
   "cell_type": "markdown",
   "id": "224d1a48",
   "metadata": {},
   "source": [
    "#### Q2. What is the difference between the functions loc and iloc in pandas.DataFrame?"
   ]
  },
  {
   "cell_type": "markdown",
   "id": "2e0e831e",
   "metadata": {},
   "source": [
    "In Pandas DataFrame, loc and iloc are used to access and manipulate data based on their index and/or labels. The main difference between the loc and iloc functions is the way they reference the data within a DataFrame:\n",
    "\n",
    "- loc: This function is used to access the data by its labels. It takes two arguments: the row labels and the column labels. The labels can be a single label or a list of labels. For example, to select a single value at row label 'A' and column label 'X', you would use df.loc['A', 'X']. To select all rows with label 'A' and columns 'X' through 'Z', you would use df.loc['A', 'X':'Z'].\n",
    "\n",
    "- iloc: This function is used to access the data by its integer location. It takes two arguments: the row location and the column location. The location can be a single integer or a list of integers. For example, to select a single value at row 0 and column 1, you would use df.iloc[0, 1]. To select all rows up to the 3rd row (excluding) and columns from the 2nd to the 4th column (excluding), you would use df.iloc[:3, 1:4].\n"
   ]
  },
  {
   "cell_type": "markdown",
   "id": "d7682b0d",
   "metadata": {},
   "source": [
    "#### Q3. Reindex the given dataframe using a variable, reindex = [3,0,1,2] and store it in the variable, new_df then find the output for both new_df.loc[2] and new_df.iloc[2]."
   ]
  },
  {
   "cell_type": "code",
   "execution_count": 5,
   "id": "0716702c",
   "metadata": {},
   "outputs": [
    {
     "data": {
      "text/html": [
       "<div>\n",
       "<style scoped>\n",
       "    .dataframe tbody tr th:only-of-type {\n",
       "        vertical-align: middle;\n",
       "    }\n",
       "\n",
       "    .dataframe tbody tr th {\n",
       "        vertical-align: top;\n",
       "    }\n",
       "\n",
       "    .dataframe thead th {\n",
       "        text-align: right;\n",
       "    }\n",
       "</style>\n",
       "<table border=\"1\" class=\"dataframe\">\n",
       "  <thead>\n",
       "    <tr style=\"text-align: right;\">\n",
       "      <th></th>\n",
       "      <th>course_name</th>\n",
       "      <th>duration</th>\n",
       "    </tr>\n",
       "  </thead>\n",
       "  <tbody>\n",
       "    <tr>\n",
       "      <th>3</th>\n",
       "      <td>Data Engineer</td>\n",
       "      <td>4</td>\n",
       "    </tr>\n",
       "    <tr>\n",
       "      <th>0</th>\n",
       "      <td>Data Science</td>\n",
       "      <td>2</td>\n",
       "    </tr>\n",
       "    <tr>\n",
       "      <th>1</th>\n",
       "      <td>Machine Learning</td>\n",
       "      <td>3</td>\n",
       "    </tr>\n",
       "    <tr>\n",
       "      <th>2</th>\n",
       "      <td>Big Data</td>\n",
       "      <td>6</td>\n",
       "    </tr>\n",
       "  </tbody>\n",
       "</table>\n",
       "</div>"
      ],
      "text/plain": [
       "        course_name  duration\n",
       "3     Data Engineer         4\n",
       "0      Data Science         2\n",
       "1  Machine Learning         3\n",
       "2          Big Data         6"
      ]
     },
     "execution_count": 5,
     "metadata": {},
     "output_type": "execute_result"
    }
   ],
   "source": [
    "### using the reindex funtion to reindex the 'df' dataframe.\n",
    "new_df = df.reindex([3,0,1,2])\n",
    "new_df"
   ]
  },
  {
   "cell_type": "code",
   "execution_count": 6,
   "id": "996342e9",
   "metadata": {
    "scrolled": true
   },
   "outputs": [
    {
     "data": {
      "text/plain": [
       "course_name    Big Data\n",
       "duration              6\n",
       "Name: 2, dtype: object"
      ]
     },
     "execution_count": 6,
     "metadata": {},
     "output_type": "execute_result"
    }
   ],
   "source": [
    "### loc takes the named index\n",
    "new_df.loc[2]"
   ]
  },
  {
   "cell_type": "code",
   "execution_count": 7,
   "id": "9b935d21",
   "metadata": {},
   "outputs": [
    {
     "data": {
      "text/plain": [
       "course_name    Machine Learning\n",
       "duration                      3\n",
       "Name: 1, dtype: object"
      ]
     },
     "execution_count": 7,
     "metadata": {},
     "output_type": "execute_result"
    }
   ],
   "source": [
    "## The iloc() function is an indexed-based selecting method which means that we\n",
    "## have to pass an integer index in the method to select a specific row/column\n",
    "new_df.iloc[2]"
   ]
  },
  {
   "cell_type": "code",
   "execution_count": 79,
   "id": "440cfc2a",
   "metadata": {},
   "outputs": [
    {
     "data": {
      "text/html": [
       "<div>\n",
       "<style scoped>\n",
       "    .dataframe tbody tr th:only-of-type {\n",
       "        vertical-align: middle;\n",
       "    }\n",
       "\n",
       "    .dataframe tbody tr th {\n",
       "        vertical-align: top;\n",
       "    }\n",
       "\n",
       "    .dataframe thead th {\n",
       "        text-align: right;\n",
       "    }\n",
       "</style>\n",
       "<table border=\"1\" class=\"dataframe\">\n",
       "  <thead>\n",
       "    <tr style=\"text-align: right;\">\n",
       "      <th></th>\n",
       "      <th>column_1</th>\n",
       "      <th>column_2</th>\n",
       "      <th>column_3</th>\n",
       "      <th>column_4</th>\n",
       "      <th>column_5</th>\n",
       "      <th>column_6</th>\n",
       "    </tr>\n",
       "  </thead>\n",
       "  <tbody>\n",
       "    <tr>\n",
       "      <th>1</th>\n",
       "      <td>0.315909</td>\n",
       "      <td>0.068731</td>\n",
       "      <td>0.982872</td>\n",
       "      <td>0.039040</td>\n",
       "      <td>0.892301</td>\n",
       "      <td>0.093224</td>\n",
       "    </tr>\n",
       "    <tr>\n",
       "      <th>2</th>\n",
       "      <td>0.350827</td>\n",
       "      <td>0.212885</td>\n",
       "      <td>0.329031</td>\n",
       "      <td>0.001141</td>\n",
       "      <td>0.060506</td>\n",
       "      <td>0.879116</td>\n",
       "    </tr>\n",
       "    <tr>\n",
       "      <th>3</th>\n",
       "      <td>0.853266</td>\n",
       "      <td>0.529517</td>\n",
       "      <td>0.896570</td>\n",
       "      <td>0.766170</td>\n",
       "      <td>0.659294</td>\n",
       "      <td>0.473632</td>\n",
       "    </tr>\n",
       "    <tr>\n",
       "      <th>4</th>\n",
       "      <td>0.203285</td>\n",
       "      <td>0.780828</td>\n",
       "      <td>0.383462</td>\n",
       "      <td>0.882179</td>\n",
       "      <td>0.386610</td>\n",
       "      <td>0.811567</td>\n",
       "    </tr>\n",
       "    <tr>\n",
       "      <th>5</th>\n",
       "      <td>0.272898</td>\n",
       "      <td>0.495311</td>\n",
       "      <td>0.347616</td>\n",
       "      <td>0.902816</td>\n",
       "      <td>0.963777</td>\n",
       "      <td>0.632353</td>\n",
       "    </tr>\n",
       "    <tr>\n",
       "      <th>6</th>\n",
       "      <td>0.260658</td>\n",
       "      <td>0.106114</td>\n",
       "      <td>0.265989</td>\n",
       "      <td>0.304239</td>\n",
       "      <td>0.503352</td>\n",
       "      <td>0.263868</td>\n",
       "    </tr>\n",
       "  </tbody>\n",
       "</table>\n",
       "</div>"
      ],
      "text/plain": [
       "   column_1  column_2  column_3  column_4  column_5  column_6\n",
       "1  0.315909  0.068731  0.982872  0.039040  0.892301  0.093224\n",
       "2  0.350827  0.212885  0.329031  0.001141  0.060506  0.879116\n",
       "3  0.853266  0.529517  0.896570  0.766170  0.659294  0.473632\n",
       "4  0.203285  0.780828  0.383462  0.882179  0.386610  0.811567\n",
       "5  0.272898  0.495311  0.347616  0.902816  0.963777  0.632353\n",
       "6  0.260658  0.106114  0.265989  0.304239  0.503352  0.263868"
      ]
     },
     "execution_count": 79,
     "metadata": {},
     "output_type": "execute_result"
    }
   ],
   "source": [
    "#### Consider the below code to answer further questions:\n",
    "import pandas as pd\n",
    "\n",
    "import numpy as np\n",
    "\n",
    "columns = ['column_1', 'column_2', 'column_3', 'column_4', 'column_5', 'column_6']\n",
    "\n",
    "indices = [1,2,3,4,5,6]\n",
    "\n",
    "#Creating a dataframe:\n",
    "\n",
    "df1 = pd.DataFrame(np.random.rand(6,6), columns = columns, index = indices)\n",
    "df1"
   ]
  },
  {
   "cell_type": "markdown",
   "id": "f2eff5e8",
   "metadata": {},
   "source": [
    "#### Q4. Write a code to find the following statistical measurements for the above dataframe df1:\n",
    "\n",
    "(i) \tmean of each and every column present in the dataframe.\n",
    "\n",
    "(ii) standard deviation of column, ‘column_2"
   ]
  },
  {
   "cell_type": "code",
   "execution_count": 80,
   "id": "36a2bb4a",
   "metadata": {},
   "outputs": [
    {
     "name": "stdout",
     "output_type": "stream",
     "text": [
      "The mean of all the columns in the dataframe :\n",
      "\n",
      "column_1    0.376141\n",
      "column_2    0.365564\n",
      "column_3    0.534257\n",
      "column_4    0.482598\n",
      "column_5    0.577640\n",
      "column_6    0.525627\n",
      "dtype: float64\n"
     ]
    }
   ],
   "source": [
    "#mean = df1[[\"column_1\",\"column_2\",\"column_3\",\"column_4\",\"column_5\",\"column_6\"]].mean()\n",
    "mean = df1.mean()\n",
    "print (\"The mean of all the columns in the dataframe :\\n\\n{}\".format(mean))"
   ]
  },
  {
   "cell_type": "code",
   "execution_count": 81,
   "id": "6f353954",
   "metadata": {},
   "outputs": [
    {
     "name": "stdout",
     "output_type": "stream",
     "text": [
      "The standard deviation of the column_2  : 0.2810318268909456\n"
     ]
    }
   ],
   "source": [
    "std = df1[\"column_2\"].std()\n",
    "print(\"The standard deviation of the column_2  : {}\".format(std))"
   ]
  },
  {
   "cell_type": "markdown",
   "id": "77df13e8",
   "metadata": {},
   "source": [
    "#### Q5. Replace the data present in the second row of column, ‘column_2’ by a string variable then find the mean of column, column_2.\n",
    "\n",
    "If you are getting errors in executing it then explain why.\n",
    "\n",
    "[Hint: To replace the data use df1.loc[] and equate this to string data of your choice."
   ]
  },
  {
   "cell_type": "code",
   "execution_count": 94,
   "id": "ec49df28",
   "metadata": {},
   "outputs": [
    {
     "data": {
      "text/html": [
       "<div>\n",
       "<style scoped>\n",
       "    .dataframe tbody tr th:only-of-type {\n",
       "        vertical-align: middle;\n",
       "    }\n",
       "\n",
       "    .dataframe tbody tr th {\n",
       "        vertical-align: top;\n",
       "    }\n",
       "\n",
       "    .dataframe thead th {\n",
       "        text-align: right;\n",
       "    }\n",
       "</style>\n",
       "<table border=\"1\" class=\"dataframe\">\n",
       "  <thead>\n",
       "    <tr style=\"text-align: right;\">\n",
       "      <th></th>\n",
       "      <th>column_1</th>\n",
       "      <th>column_2</th>\n",
       "      <th>column_3</th>\n",
       "      <th>column_4</th>\n",
       "      <th>column_5</th>\n",
       "      <th>column_6</th>\n",
       "    </tr>\n",
       "  </thead>\n",
       "  <tbody>\n",
       "    <tr>\n",
       "      <th>1</th>\n",
       "      <td>0.315909</td>\n",
       "      <td>Prakash</td>\n",
       "      <td>0.982872</td>\n",
       "      <td>0.039040</td>\n",
       "      <td>0.892301</td>\n",
       "      <td>0.093224</td>\n",
       "    </tr>\n",
       "    <tr>\n",
       "      <th>2</th>\n",
       "      <td>0.350827</td>\n",
       "      <td>0.212885</td>\n",
       "      <td>0.329031</td>\n",
       "      <td>0.001141</td>\n",
       "      <td>0.060506</td>\n",
       "      <td>0.879116</td>\n",
       "    </tr>\n",
       "    <tr>\n",
       "      <th>3</th>\n",
       "      <td>0.853266</td>\n",
       "      <td>0.529517</td>\n",
       "      <td>0.896570</td>\n",
       "      <td>0.766170</td>\n",
       "      <td>0.659294</td>\n",
       "      <td>0.473632</td>\n",
       "    </tr>\n",
       "    <tr>\n",
       "      <th>4</th>\n",
       "      <td>0.203285</td>\n",
       "      <td>0.780828</td>\n",
       "      <td>0.383462</td>\n",
       "      <td>0.882179</td>\n",
       "      <td>0.386610</td>\n",
       "      <td>0.811567</td>\n",
       "    </tr>\n",
       "    <tr>\n",
       "      <th>5</th>\n",
       "      <td>0.272898</td>\n",
       "      <td>0.495311</td>\n",
       "      <td>0.347616</td>\n",
       "      <td>0.902816</td>\n",
       "      <td>0.963777</td>\n",
       "      <td>0.632353</td>\n",
       "    </tr>\n",
       "  </tbody>\n",
       "</table>\n",
       "</div>"
      ],
      "text/plain": [
       "   column_1  column_2  column_3  column_4  column_5  column_6\n",
       "1  0.315909   Prakash  0.982872  0.039040  0.892301  0.093224\n",
       "2  0.350827  0.212885  0.329031  0.001141  0.060506  0.879116\n",
       "3  0.853266  0.529517  0.896570  0.766170  0.659294  0.473632\n",
       "4  0.203285  0.780828  0.383462  0.882179  0.386610  0.811567\n",
       "5  0.272898  0.495311  0.347616  0.902816  0.963777  0.632353"
      ]
     },
     "execution_count": 94,
     "metadata": {},
     "output_type": "execute_result"
    }
   ],
   "source": [
    "## changing the data in the column_2 with a string value\n",
    "#df1[\"column_2\"] = \n",
    "df1[\"column_2\"][1]=\"Prakash\"\n",
    "df1.head()"
   ]
  },
  {
   "cell_type": "code",
   "execution_count": 95,
   "id": "fd88abdc",
   "metadata": {},
   "outputs": [
    {
     "name": "stdout",
     "output_type": "stream",
     "text": [
      "TypeError: can only concatenate str (not \"float\") to str\n"
     ]
    }
   ],
   "source": [
    "## on executing this we will recieve a Type Error \n",
    "## this is happening becuse we cannot add string with integer values \n",
    "try:\n",
    "    df1[\"column_2\"].mean()\n",
    "except TypeError as e:\n",
    "    print(\"TypeError: {}\".format(e))"
   ]
  },
  {
   "cell_type": "markdown",
   "id": "b7422649",
   "metadata": {},
   "source": [
    "#### Q6. What do you understand about the windows function in pandas and list the types of windows functions"
   ]
  },
  {
   "cell_type": "markdown",
   "id": "eb8b68f3",
   "metadata": {},
   "source": [
    "In pandas, a window function is a way to perform a calculation on a sliding window of data, where the size of the window can be customized according to the specific requirements. These functions allow you to perform operations like moving averages, rolling standard deviations, and cumulative sums on a series or DataFrame.\n",
    "\n",
    "There are several types of window functions available in pandas, including:\n",
    "\n",
    "- Rolling window functions: These functions operate on a fixed-size sliding window and compute a statistic for each window. Examples include rolling mean, rolling median, rolling standard deviation, and rolling correlation.\n",
    "\n",
    "\n",
    "- Expanding window functions: These functions include all the previous rows of the data in the calculation. The window size grows over time, and the calculations become more inclusive. Examples include expanding sum and expanding mean.\n",
    "\n",
    "\n",
    "\n",
    "- Exponentially weighted window functions: These functions assign weights to the values in the window, with more recent values receiving a higher weight. Examples include exponentially weighted moving average (EWMA) and exponentially weighted moving variance (EWMVar).\n",
    "\n",
    "\n",
    "\n",
    "- Aggregation functions: These functions calculate a single value for the entire window, rather than a value for each row in the window. Examples include sum, mean, and min.\n",
    "\n",
    "\n",
    "\n",
    "- Transformation functions: These functions return an array of the same size as the input array, but with each value transformed according to some function. Examples include rank, pct_change, and shift."
   ]
  },
  {
   "cell_type": "code",
   "execution_count": null,
   "id": "15a36b40",
   "metadata": {},
   "outputs": [],
   "source": []
  },
  {
   "cell_type": "markdown",
   "id": "9b5155da",
   "metadata": {},
   "source": [
    "#### Q7. Write a code to print only the current month and year at the time of answering this question"
   ]
  },
  {
   "cell_type": "code",
   "execution_count": 115,
   "id": "9b0b782a",
   "metadata": {},
   "outputs": [
    {
     "name": "stdout",
     "output_type": "stream",
     "text": [
      "The month and year of execution :  February 2023\n"
     ]
    }
   ],
   "source": [
    "current_time = datetime.datetime.now()\n",
    "current_month_year = current_time.strftime(\"%B %Y\")\n",
    "print(\"The month and year of execution : \", current_month_year)"
   ]
  },
  {
   "cell_type": "markdown",
   "id": "329b4783",
   "metadata": {},
   "source": [
    "#### Q8. Write a Python program that takes in two dates as input (in the format YYYY-MM-DD) and calculates the difference between them in days, hours, and minutes using Pandas time delta. The program should prompt the user to enter the dates and display the result"
   ]
  },
  {
   "cell_type": "code",
   "execution_count": 17,
   "id": "c57e223e",
   "metadata": {},
   "outputs": [],
   "source": [
    "import pandas as pd\n",
    "def date_diff():\n",
    "    try:\n",
    "        a = input(\"Enter the first date in the form of YYYY-MM-DD\")\n",
    "        b = input(\"Enter the last date in the form of YYYY-MM-DD\")\n",
    "        if \n",
    "        date1 = pd.to_datetime(a)\n",
    "        date2 = pd.to_datetime(b)\n",
    "    \n",
    "        \n",
    "        diff = date1-date2\n",
    "        days = diff.days\n",
    "        hours = diff.seconds // 3600\n",
    "        minutes = (diff.seconds % 3600) // 60\n",
    "\n",
    "        # display the result\n",
    "        print(\"The difference between\", date1.date(), \"and\", date2.date(), \"is:\")\n",
    "        print(days, \"days,\", hours, \"hours,\", \"and\", minutes, \"minutes.\")\n",
    "    except ValueError as e:\n",
    "        print(e)\n",
    "    "
   ]
  },
  {
   "cell_type": "code",
   "execution_count": 18,
   "id": "299cb7a8",
   "metadata": {},
   "outputs": [
    {
     "name": "stdout",
     "output_type": "stream",
     "text": [
      "Enter the first date in the form of YYYY-MM-DD2023-02-1\n",
      "Enter the last date in the form of YYYY-MM-DD2023-01-2\n",
      "The difference between 2023-02-01 and 2023-01-02 is:\n",
      "30 days, 0 hours, and 0 minutes.\n"
     ]
    }
   ],
   "source": [
    "date_diff()"
   ]
  },
  {
   "cell_type": "markdown",
   "id": "1e052a62",
   "metadata": {},
   "source": [
    "#### Q9. Write a Python program that reads a CSV file containing categorical data and converts a specified column to a categorical data type. The program should prompt the user to enter the file path, column name, and category order, and then display the sorted data"
   ]
  },
  {
   "cell_type": "code",
   "execution_count": 10,
   "id": "bb407963",
   "metadata": {},
   "outputs": [],
   "source": [
    "import pandas as pd\n",
    "def sorted_data ():\n",
    "    try:\n",
    "        path = input(\"Enter the path of the csv file\")\n",
    "        df = pd.read_csv(path)\n",
    "        column = input(\"Enter the column name\")\n",
    "        df[column] = df[column].astype(str)\n",
    "        d_sorted = df.sort_values(by = column)\n",
    "        return (d_sorted.info(),d_sorted)\n",
    "        \n",
    "    except Exception as e:\n",
    "        print(e)\n",
    "        raise"
   ]
  },
  {
   "cell_type": "code",
   "execution_count": 11,
   "id": "310c5035",
   "metadata": {
    "scrolled": true
   },
   "outputs": [
    {
     "name": "stdout",
     "output_type": "stream",
     "text": [
      "Enter the path of the csv filestudent_data.csv\n",
      "Enter the column nameTest Score\n",
      "<class 'pandas.core.frame.DataFrame'>\n",
      "Int64Index: 10 entries, 3 to 8\n",
      "Data columns (total 2 columns):\n",
      " #   Column      Non-Null Count  Dtype \n",
      "---  ------      --------------  ----- \n",
      " 0   Student ID  10 non-null     int64 \n",
      " 1   Test Score  10 non-null     object\n",
      "dtypes: int64(1), object(1)\n",
      "memory usage: 240.0+ bytes\n"
     ]
    },
    {
     "data": {
      "text/plain": [
       "(None,\n",
       "    Student ID Test Score\n",
       " 3           4         75\n",
       " 6           7         78\n",
       " 5           6         82\n",
       " 0           1         85\n",
       " 4           5         85\n",
       " 7           8         85\n",
       " 9          10         85\n",
       " 1           2         90\n",
       " 2           3         90\n",
       " 8           9         90)"
      ]
     },
     "execution_count": 11,
     "metadata": {},
     "output_type": "execute_result"
    }
   ],
   "source": [
    "sorted_data()"
   ]
  },
  {
   "cell_type": "markdown",
   "id": "a3ed75a5",
   "metadata": {},
   "source": [
    "#### Q10. Write a Python program that reads a CSV file containing sales data for different products and visualizes the data using a stacked bar chart to show the sales of each product category over time. The program should prompt the user to enter the file path and display the chart."
   ]
  },
  {
   "cell_type": "code",
   "execution_count": 10,
   "id": "99cf2f21",
   "metadata": {
    "scrolled": true
   },
   "outputs": [],
   "source": [
    "import pandas as pd\n",
    "import pandas as pd\n",
    "### creating a dataframe\n",
    "data = {'Product': ['Product A', 'Product A', 'Product A', 'Product B', 'Product B', 'Product B', 'Product C', 'Product C', 'Product C'],\n",
    "        'Subproduct': ['Subproduct 1', 'Subproduct 2', 'Subproduct 3', 'Subproduct 1', 'Subproduct 2', 'Subproduct 3', 'Subproduct 1', 'Subproduct 2', 'Subproduct 3'],\n",
    "        'Sales': [100, 200, 300, 150, 250, 350, 50, 100, 150]}\n",
    "\n",
    "df = pd.DataFrame(data)\n",
    "## converting it into csv file and storing it\n",
    "df.to_csv('products_sales.csv', index=False)"
   ]
  },
  {
   "cell_type": "code",
   "execution_count": 5,
   "id": "9de692c3",
   "metadata": {},
   "outputs": [],
   "source": [
    "## function that will take path of the csv file as user input and return a stacked bar chart \n",
    "import pandas as pd\n",
    "def stacked_bar ():\n",
    "    try:\n",
    "        path = input(\"Enter the path of the csv file\")\n",
    "        df = pd.read_csv(path)\n",
    "        index = input(\"Enter the Labels to use to make new frame’s index\")\n",
    "        column = input(\"Enter the Labels to use to make new frame’s columns\")\n",
    "        value = input(\"Enter the Values to use for populating new frame’s values\")\n",
    " ## Stacked bar chart \n",
    "        show_chart = input(\"Enter Y to show the chart\")\n",
    "        if show_chart == 'Y':\n",
    "            pivot_df = df.pivot(index=index, columns=column, values=value)\n",
    "        #  stacked bar chart\n",
    "            ax = pivot_df.plot(kind='bar', stacked=True, figsize=(5, 4))\n",
    "        else:\n",
    "            print(\"Chart will not show\")\n",
    "    except Exception as e:\n",
    "        print(e)\n",
    "        raise"
   ]
  },
  {
   "cell_type": "code",
   "execution_count": 7,
   "id": "a7f60a8a",
   "metadata": {},
   "outputs": [
    {
     "name": "stdout",
     "output_type": "stream",
     "text": [
      "Enter the path of the csv fileproducts_sales.csv\n",
      "Enter the Labels to use to make new frame’s indexProduct\n",
      "Enter the Labels to use to make new frame’s columnsSubproduct\n",
      "Enter the Values to use for populating new frame’s valuesSales\n",
      "Enter Y to show the chartY\n"
     ]
    },
    {
     "data": {
      "image/png": "[encoded data removed]",
      "text/plain": [
       "<Figure size 500x400 with 1 Axes>"
      ]
     },
     "metadata": {},
     "output_type": "display_data"
    }
   ],
   "source": [
    "## calling the function and passing the path of the csv file\n",
    "## index='Product', columns='Subproduct', values='Sales'\n",
    "stacked_bar()"
   ]
  },
  {
   "cell_type": "markdown",
   "id": "189312e1",
   "metadata": {},
   "source": [
    "#### Q11. You are given a CSV file containing student data that includes the student ID and their test score. \n",
    ">Write a Python program that reads the CSV file, calculates the mean, median, and mode of the test scores, and displays the results in a table.\n",
    "The program should do the following\n",
    "\n",
    "- I Prompt the user to enter the file path of the CSV file containing the student dataR\n",
    "- I Read the CSV file into a Pandas DataFrameR\n",
    "- I Calculate the mean, median, and mode of the test scores using Pandas toolsR\n",
    "- I Display the mean, median, and mode in a table.\n",
    "\n",
    ">Assume the CSV file contains the following columnsM\n",
    "- I Student ID: The ID of the studentR\n",
    "- I Test Score: The score of the student's test.\n",
    "- Example usage of the program:\n",
    "\n",
    "\n",
    "\n",
    "\n",
    "\n",
    "Enter the file path of the CSV file containing the student data: student_data.csv\n",
    "\n",
    "\n",
    "+-----------+--------+\n",
    "\n",
    "| Statistic | Value  |\n",
    "\n",
    "+-----------+--------+\n",
    "\n",
    "| Mean      | 79.6   |\n",
    "\n",
    "| Median    | 82     |\n",
    "\n",
    "| Mode      | 85, 90 |\n",
    "\n",
    "+-----------+--------+\n",
    "\n",
    "\n",
    "Assume that the CSV file student_data.csv contains the following data:\n",
    "\n",
    "Student ID,Test Score\n",
    "\n",
    "1,85\n",
    "\n",
    "2,90\n",
    "\n",
    "3,80\n",
    "\n",
    "4,75\n",
    "\n",
    "5,85\n",
    "\n",
    "6,82\n",
    "\n",
    "7,78\n",
    "\n",
    "8,85\n",
    "\n",
    "9,90\n",
    "\n",
    "10,85\n",
    "\n",
    "\n",
    "The program should calculate the mean, median, and mode of the test scores and display the results \n",
    "in a table."
   ]
  },
  {
   "cell_type": "code",
   "execution_count": 17,
   "id": "9e940c90",
   "metadata": {},
   "outputs": [],
   "source": [
    "student_data = pd.DataFrame({\"Student ID\" : [1,2,3,4,5,6,7,8,9,10],\n",
    "                            \"Test Score\" : [85,90,90,75,85,82,78,85,90,85]})\n",
    "student_data.to_csv(\"student_data.csv\",index = False)"
   ]
  },
  {
   "cell_type": "code",
   "execution_count": 1,
   "id": "1256d8e1",
   "metadata": {},
   "outputs": [],
   "source": [
    "#### function to take csv file and column as user input and compute the mean , median, and mode\n",
    "import pandas as pd\n",
    "def stats():\n",
    "    ### exception handling\n",
    "    try:\n",
    "        path = input(\"Enter the path of the csv file: \")\n",
    "        df = pd.read_csv(path)\n",
    "    except FileNotFoundError :\n",
    "        print(\"File Not Found Error : Enter correct path\")\n",
    "    ### exception handling\n",
    "    try:    \n",
    "        column = input(\"ENter the column name : \")\n",
    "        mean = float(df[column].mean())\n",
    "    except :\n",
    "        print(\"Either column not found or column has categorical values\")\n",
    "    ## computing median\n",
    "    median = float(df[column].median())\n",
    "        ## computing mode\n",
    "    mode = float(df[column].mode())\n",
    "    ## creating a dataframe containing the values of mean median and mode\n",
    "    final_df = pd.DataFrame({\"Statistic\":[\"Mean\",\"Median\",\"Mode\"],\n",
    "                            \"Value\": [mean,median,mode]})\n",
    "    ## returning the final data frame\n",
    "    return final_df"
   ]
  },
  {
   "cell_type": "code",
   "execution_count": 2,
   "id": "6d55dabb",
   "metadata": {},
   "outputs": [
    {
     "name": "stdout",
     "output_type": "stream",
     "text": [
      "Enter the path of the csv file: student_data.csv\n",
      "ENter the column name : Test Score\n"
     ]
    },
    {
     "data": {
      "text/html": [
       "<div>\n",
       "<style scoped>\n",
       "    .dataframe tbody tr th:only-of-type {\n",
       "        vertical-align: middle;\n",
       "    }\n",
       "\n",
       "    .dataframe tbody tr th {\n",
       "        vertical-align: top;\n",
       "    }\n",
       "\n",
       "    .dataframe thead th {\n",
       "        text-align: right;\n",
       "    }\n",
       "</style>\n",
       "<table border=\"1\" class=\"dataframe\">\n",
       "  <thead>\n",
       "    <tr style=\"text-align: right;\">\n",
       "      <th></th>\n",
       "      <th>Statistic</th>\n",
       "      <th>Value</th>\n",
       "    </tr>\n",
       "  </thead>\n",
       "  <tbody>\n",
       "    <tr>\n",
       "      <th>0</th>\n",
       "      <td>Mean</td>\n",
       "      <td>84.5</td>\n",
       "    </tr>\n",
       "    <tr>\n",
       "      <th>1</th>\n",
       "      <td>Median</td>\n",
       "      <td>85.0</td>\n",
       "    </tr>\n",
       "    <tr>\n",
       "      <th>2</th>\n",
       "      <td>Mode</td>\n",
       "      <td>85.0</td>\n",
       "    </tr>\n",
       "  </tbody>\n",
       "</table>\n",
       "</div>"
      ],
      "text/plain": [
       "  Statistic  Value\n",
       "0      Mean   84.5\n",
       "1    Median   85.0\n",
       "2      Mode   85.0"
      ]
     },
     "execution_count": 2,
     "metadata": {},
     "output_type": "execute_result"
    }
   ],
   "source": [
    "stats()"
   ]
  },
  {
   "cell_type": "code",
   "execution_count": null,
   "id": "60a99770",
   "metadata": {},
   "outputs": [],
   "source": []
  },
  {
   "cell_type": "code",
   "execution_count": null,
   "id": "cd1c08c6",
   "metadata": {},
   "outputs": [],
   "source": []
  },
  {
   "cell_type": "code",
   "execution_count": null,
   "id": "b0ce01bf",
   "metadata": {},
   "outputs": [],
   "source": []
  }
 ],
 "metadata": {
  "kernelspec": {
   "display_name": "Python 3 (ipykernel)",
   "language": "python",
   "name": "python3"
  },
  "language_info": {
   "codemirror_mode": {
    "name": "ipython",
    "version": 3
   },
   "file_extension": ".py",
   "mimetype": "text/x-python",
   "name": "python",
   "nbconvert_exporter": "python",
   "pygments_lexer": "ipython3",
   "version": "3.9.13"
  }
 },
 "nbformat": 4,
 "nbformat_minor": 5
}
