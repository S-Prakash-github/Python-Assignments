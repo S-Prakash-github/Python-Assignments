{
 "cells": [
  {
   "cell_type": "markdown",
   "id": "7612ce12",
   "metadata": {},
   "source": [
    "## FLASK"
   ]
  },
  {
   "cell_type": "markdown",
   "id": "37005a1f",
   "metadata": {},
   "source": [
    "#### Q1. What is Flask Framework? What are the advantages of Flask Framework?"
   ]
  },
  {
   "cell_type": "markdown",
   "id": "cf891d98",
   "metadata": {},
   "source": [
    "Flask is a popular web application framework written in Python. It was developed by Armin Ronacher and is distributed under the BSD license. Flask is a micro framework, which means that it provides only the most essential components needed for building a web application, such as routing, request handling, and template rendering.\n",
    "\n",
    "Advantages of Flask:\n",
    "\n",
    "- Lightweight and simple: Flask is a micro web framework, which means it is minimalistic and provides only the essential features needed to build a web application. This makes it lightweight and easy to use for small to medium-sized projects.\n",
    "\n",
    "\n",
    "- Flexible and customizable: Flask is highly modular and allows developers to add and remove features as needed. It is also very flexible, and developers can use it to create a wide variety of web applications, from simple blogs to complex e-commerce sites.\n",
    "\n",
    "\n",
    "- Easy to learn: Flask has a simple and intuitive API, which makes it easy to learn for developers who are new to web development or to the Python language. The documentation for Flask is also extensive and well-written, making it easier for developers to get started.\n",
    "\n",
    "\n",
    "- Large community and ecosystem: Flask has a large and active community of developers who contribute to the project and create a wide variety of extensions and plugins. This makes it easier to find support and resources for Flask development, and it also means that there are many existing tools and libraries that can be used to enhance Flask applications.\n",
    "\n",
    "\n",
    "- Good for prototyping: Flask is often used for prototyping and building minimum viable products because it is fast and easy to set up. Developers can quickly build a working web application with Flask and iterate on it as needed.\n",
    "\n",
    "\n",
    "- Good for testing: Flask is designed to be testable, and it comes with built-in testing tools that make it easier to test web applications. This makes it easier to ensure that Flask applications are robust and reliable."
   ]
  },
  {
   "cell_type": "markdown",
   "id": "49a32ea6",
   "metadata": {},
   "source": [
    "#### Q2. Create a simple Flask application to display ‘Hello World!!’. Attach the screenshot of the output in Jupyter Notebook"
   ]
  },
  {
   "cell_type": "code",
   "execution_count": null,
   "id": "f4def724",
   "metadata": {},
   "outputs": [
    {
     "name": "stdout",
     "output_type": "stream",
     "text": [
      " * Serving Flask app \"__main__\" (lazy loading)\n",
      " * Environment: production\n",
      "\u001b[31m   WARNING: This is a development server. Do not use it in a production deployment.\u001b[0m\n",
      "\u001b[2m   Use a production WSGI server instead.\u001b[0m\n",
      " * Debug mode: off\n"
     ]
    },
    {
     "name": "stderr",
     "output_type": "stream",
     "text": [
      " * Running on all addresses.\n",
      "   WARNING: This is a development server. Do not use it in a production deployment.\n",
      " * Running on http://192.168.0.103:5000/ (Press CTRL+C to quit)\n"
     ]
    }
   ],
   "source": [
    "from flask import Flask\n",
    "\n",
    "app = Flask(__name__)\n",
    "\n",
    "@app.route(\"/\")\n",
    "def hello_world():\n",
    "    return \"<h1>Hello, World!</h1>\"\n",
    "\n",
    "if __name__==\"__main__\":\n",
    "    app.run(host=\"0.0.0.0\")"
   ]
  },
  {
   "attachments": {
    "Screenshot_20230221_102639.png": {
     "image/png": "[encoded data removed]"
    }
   },
   "cell_type": "markdown",
   "id": "e5960171",
   "metadata": {},
   "source": [
    "![Screenshot_20230221_102639.png](attachment:Screenshot_20230221_102639.png)"
   ]
  },
  {
   "cell_type": "markdown",
   "id": "63ebcf92",
   "metadata": {},
   "source": [
    "#### Q3. What is App routing in Flask? Why do we use app routes?"
   ]
  },
  {
   "cell_type": "markdown",
   "id": "58d026df",
   "metadata": {},
   "source": [
    "App routing is used to map the specific URL with the associated function that is intended to perform some task. It is used to access some particular page.\n",
    "\n",
    "Here are some reasons why we use app routes in Flask:\n",
    "\n",
    "- URL mapping: App routes allow us to map a URL to a specific view function in our Flask application. When a user makes a request to a specific URL, Flask uses the routing system to determine which view function should handle that request. This helps to organize the code and allows us to define clear URLs for our web application.\n",
    "\n",
    "\n",
    "- Separation of concerns: Using app routes allows us to separate the concerns of our web application, making it easier to develop and maintain. We can define specific view functions to handle specific URLs, and we can keep the code for each function separate and organized.\n",
    "\n",
    "\n",
    "- Clean URL structure: App routes help to create a clean URL structure for our web application, making it easier for users to navigate and understand the different sections of our application. This can lead to a better user experience and can help to improve the overall usability of our application.\n",
    "\n",
    "\n",
    "- Scalability: By using app routes, we can easily add new features and functionality to our web application. As we add new URLs and view functions, we can maintain the structure and organization of our code, making it easier to scale and expand our application.\n"
   ]
  },
  {
   "cell_type": "markdown",
   "id": "804b7b46",
   "metadata": {},
   "source": [
    "#### Q4.  Create a “/welcome” route to display the welcome message “Welcome to ABC Corporation” and a “/” route to show the following details:\n",
    "\n",
    "    Company Name: ABC Corporation\n",
    "\n",
    "    Location: India\n",
    "\n",
    "    Contact Detail: 999-999-9999 \n",
    " Attach the screenshot of the output in Jupyter Notebook"
   ]
  },
  {
   "cell_type": "code",
   "execution_count": null,
   "id": "a3916b63",
   "metadata": {},
   "outputs": [
    {
     "name": "stdout",
     "output_type": "stream",
     "text": [
      " * Serving Flask app \"__main__\" (lazy loading)\n",
      " * Environment: production\n",
      "\u001b[31m   WARNING: This is a development server. Do not use it in a production deployment.\u001b[0m\n",
      "\u001b[2m   Use a production WSGI server instead.\u001b[0m\n",
      " * Debug mode: off\n"
     ]
    },
    {
     "name": "stderr",
     "output_type": "stream",
     "text": [
      " * Running on all addresses.\n",
      "   WARNING: This is a development server. Do not use it in a production deployment.\n",
      " * Running on http://192.168.0.103:5000/ (Press CTRL+C to quit)\n",
      "192.168.0.103 - - [21/Feb/2023 11:02:23] \"GET / HTTP/1.1\" 200 -\n",
      "192.168.0.103 - - [21/Feb/2023 11:03:49] \"GET / HTTP/1.1\" 200 -\n",
      "192.168.0.103 - - [21/Feb/2023 11:03:53] \"GET / HTTP/1.1\" 200 -\n",
      "192.168.0.103 - - [21/Feb/2023 11:03:58] \"GET / HTTP/1.1\" 200 -\n",
      "192.168.0.103 - - [21/Feb/2023 11:04:03] \"GET /welcome HTTP/1.1\" 200 -\n",
      "192.168.0.103 - - [21/Feb/2023 11:04:20] \"GET / HTTP/1.1\" 200 -\n"
     ]
    }
   ],
   "source": [
    "from flask import Flask\n",
    "welcome = Flask(__name__)\n",
    "\n",
    "\n",
    "@welcome.route(\"/welcome\")\n",
    "def abc():\n",
    "    return(\"Welcome to ABC Corporation\")\n",
    "    \n",
    "@welcome.route('/')\n",
    "def info():\n",
    "    return('''Company Name: ABC Corporation \n",
    "              \\nLocation: India \n",
    "              \\nContact Detail: 999-999-9999 ''')\n",
    "if __name__==\"__main__\":\n",
    "    welcome.run(host=\"0.0.0.0\")"
   ]
  },
  {
   "attachments": {
    "Screenshot_20230221_104400.png": {
     "image/png": "[encoded data removed]"
    }
   },
   "cell_type": "markdown",
   "id": "25e2e9d5",
   "metadata": {},
   "source": [
    "###### OUTPUT: \n",
    "![Screenshot_20230221_104400.png](attachment:Screenshot_20230221_104400.png)\n"
   ]
  },
  {
   "attachments": {
    "Screenshot_20230221_110449.png": {
     "image/png": "[encoded data removed]"
    }
   },
   "cell_type": "markdown",
   "id": "1d769564",
   "metadata": {},
   "source": [
    "![Screenshot_20230221_110449.png](attachment:Screenshot_20230221_110449.png)"
   ]
  },
  {
   "attachments": {},
   "cell_type": "markdown",
   "id": "786731e5",
   "metadata": {},
   "source": [
    "#### Q5. What function is used in Flask for URL Building? Write a Python code to demonstrate the working of the !url_for() function"
   ]
  },
  {
   "cell_type": "markdown",
   "id": "af897143",
   "metadata": {},
   "source": [
    "In Flask, the url_for() function is used for URL building. The url_for() function generates a URL to a specific function based on the function name and arguments provided. The function returns the URL as a string that can be used in the application's templates or in the redirect() function to redirect the user to a specific page."
   ]
  },
  {
   "cell_type": "code",
   "execution_count": null,
   "id": "eea8b095",
   "metadata": {},
   "outputs": [
    {
     "name": "stdout",
     "output_type": "stream",
     "text": [
      " * Serving Flask app \"__main__\" (lazy loading)\n",
      " * Environment: production\n",
      "\u001b[31m   WARNING: This is a development server. Do not use it in a production deployment.\u001b[0m\n",
      "\u001b[2m   Use a production WSGI server instead.\u001b[0m\n",
      " * Debug mode: off\n"
     ]
    },
    {
     "name": "stderr",
     "output_type": "stream",
     "text": [
      " * Running on http://127.0.0.1:5000/ (Press CTRL+C to quit)\n",
      "127.0.0.1 - - [21/Feb/2023 11:09:19] \"GET / HTTP/1.1\" 200 -\n",
      "127.0.0.1 - - [21/Feb/2023 11:09:19] \"GET /favicon.ico HTTP/1.1\" 404 -\n",
      "127.0.0.1 - - [21/Feb/2023 11:11:10] \"GET / HTTP/1.1\" 200 -\n",
      "127.0.0.1 - - [21/Feb/2023 11:11:19] \"GET /about HTTP/1.1\" 200 -\n"
     ]
    }
   ],
   "source": [
    "from flask import Flask, url_for\n",
    "\n",
    "app = Flask(__name__)\n",
    "\n",
    "@app.route('/')\n",
    "def index():\n",
    "    # use url_for to generate a URL for the 'about' function\n",
    "    about_url = url_for('about')\n",
    "    # return the generated URL\n",
    "    return f'The URL for the about page is: {about_url}'\n",
    "\n",
    "@app.route('/about')\n",
    "def about():\n",
    "    return 'This is the about page'\n",
    "\n",
    "if __name__ == '__main__':\n",
    "    app.run()"
   ]
  },
  {
   "cell_type": "code",
   "execution_count": null,
   "id": "64682339",
   "metadata": {},
   "outputs": [],
   "source": []
  },
  {
   "cell_type": "code",
   "execution_count": null,
   "id": "b1478f5b",
   "metadata": {},
   "outputs": [],
   "source": []
  },
  {
   "cell_type": "code",
   "execution_count": null,
   "id": "f2f07efe",
   "metadata": {},
   "outputs": [],
   "source": []
  },
  {
   "cell_type": "code",
   "execution_count": null,
   "id": "7e352c83",
   "metadata": {},
   "outputs": [],
   "source": []
  },
  {
   "cell_type": "code",
   "execution_count": null,
   "id": "03d62343",
   "metadata": {},
   "outputs": [],
   "source": []
  },
  {
   "cell_type": "code",
   "execution_count": null,
   "id": "1eacbecd",
   "metadata": {},
   "outputs": [],
   "source": []
  },
  {
   "cell_type": "code",
   "execution_count": null,
   "id": "5fb89a52",
   "metadata": {},
   "outputs": [],
   "source": []
  },
  {
   "cell_type": "code",
   "execution_count": null,
   "id": "00397509",
   "metadata": {},
   "outputs": [],
   "source": []
  },
  {
   "cell_type": "code",
   "execution_count": null,
   "id": "4bb9c746",
   "metadata": {},
   "outputs": [],
   "source": []
  },
  {
   "cell_type": "code",
   "execution_count": null,
   "id": "09801888",
   "metadata": {},
   "outputs": [],
   "source": []
  },
  {
   "cell_type": "code",
   "execution_count": null,
   "id": "3cef3b85",
   "metadata": {},
   "outputs": [],
   "source": []
  },
  {
   "cell_type": "code",
   "execution_count": null,
   "id": "b7a66bcd",
   "metadata": {},
   "outputs": [],
   "source": []
  },
  {
   "cell_type": "code",
   "execution_count": null,
   "id": "f792a4db",
   "metadata": {},
   "outputs": [],
   "source": []
  },
  {
   "cell_type": "code",
   "execution_count": null,
   "id": "eccda639",
   "metadata": {},
   "outputs": [],
   "source": []
  },
  {
   "cell_type": "code",
   "execution_count": null,
   "id": "574d37a7",
   "metadata": {},
   "outputs": [],
   "source": []
  }
 ],
 "metadata": {
  "kernelspec": {
   "display_name": "Python 3 (ipykernel)",
   "language": "python",
   "name": "python3"
  },
  "language_info": {
   "codemirror_mode": {
    "name": "ipython",
    "version": 3
   },
   "file_extension": ".py",
   "mimetype": "text/x-python",
   "name": "python",
   "nbconvert_exporter": "python",
   "pygments_lexer": "ipython3",
   "version": "3.9.12"
  }
 },
 "nbformat": 4,
 "nbformat_minor": 5
}
