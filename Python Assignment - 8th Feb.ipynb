{
 "cells": [
  {
   "cell_type": "markdown",
   "id": "a665a59c",
   "metadata": {},
   "source": [
    "#### Q1. What is Abstraction in OOps? Explain with an example"
   ]
  },
  {
   "cell_type": "markdown",
   "id": "7d915172",
   "metadata": {},
   "source": [
    "Abstraction is used to hide the internal functionality of the function from the users. The users only interact with the basic implementation of the function, but inner working is hidden. User is familiar with that \"what function does\" but they don't know \"how it does.\"\n",
    "\n",
    "In simple words, we all use the smartphone and very much familiar with its functions such as camera, voice-recorder, call-dialing, etc., but we don't know how these operations are happening in the background. Let's take another example - When we use the TV remote to increase the volume. We don't know how pressing a key increases the volume of the TV. We only know to press the \"+\" button to increase the volume.\n",
    "\n",
    "In Python, an abstraction is used to hide the irrelevant data/class in order to reduce the complexity. It also enhances the application efficiency."
   ]
  },
  {
   "cell_type": "markdown",
   "id": "0e0abe41",
   "metadata": {},
   "source": [
    "#### Q2. Differentiate between Abstraction and Encapsulation. Explain with an example?"
   ]
  },
  {
   "cell_type": "markdown",
   "id": "e5638896",
   "metadata": {},
   "source": [
    "> Abstraction\n",
    "- Abstraction is the process or method of gaining the information.\n",
    "- In abstraction, problems are solved at the design or interface level.\n",
    "- Abstraction is the method of hiding the unwanted information.\n",
    "- In abstraction, implementation complexities are hidden using abstract classes and interfaces.\n",
    "- The objects that help to perform abstraction are encapsulated.\n",
    "- Abstraction provides access to specific part of data.\n",
    "\n",
    "> Encapsulation\n",
    "- Encapsulation hides data and the user can not access same directly (data hiding.\n",
    "- Encapsulation focus is on “How” it should be done.\n",
    "- The objects that result in encapsulation need not be abstracted.\n",
    "- Encapsulation is the process or method to contain the information.\n",
    "- Encapsulation encapsulation can be implemented using by access modifier i.e. private, protected and public.\n",
    "- Encapsulation can be implemented using by access modifier i.e. private, protected and public.\n"
   ]
  },
  {
   "cell_type": "code",
   "execution_count": 55,
   "id": "5ff8971e",
   "metadata": {},
   "outputs": [],
   "source": [
    "## abstraction\n",
    "# for abstraction we need to import abstract class\n",
    "from abc import ABC, abstractmethod\n",
    "class computer(ABC):\n",
    "    @abstractmethod\n",
    "    def processor(self):\n",
    "        pass\n",
    "    \n",
    "class laptop(computer):    \n",
    "    def processor(self):\n",
    "        print(\"HP\")"
   ]
  },
  {
   "cell_type": "code",
   "execution_count": 54,
   "id": "81553d4a",
   "metadata": {},
   "outputs": [
    {
     "name": "stdout",
     "output_type": "stream",
     "text": [
      "HP\n"
     ]
    }
   ],
   "source": [
    "c = laptop()\n",
    "c.processor()"
   ]
  },
  {
   "cell_type": "code",
   "execution_count": 1,
   "id": "f3a7c303",
   "metadata": {},
   "outputs": [
    {
     "name": "stdout",
     "output_type": "stream",
     "text": [
      "Calling protected member of base class:  2\n",
      "Calling modified protected member outside class:  3\n",
      "Accessing protected member of obj1:  3\n",
      "Accessing protected member of obj2:  2\n"
     ]
    }
   ],
   "source": [
    "class Base:\n",
    "    def __init__(self):\n",
    " \n",
    "        # Protected member\n",
    "        self._a = 2\n",
    "        \n",
    "# Creating a derived class\n",
    "class Derived(Base):\n",
    "    def __init__(self):\n",
    " \n",
    "        # Calling constructor of\n",
    "        # Base class\n",
    "        Base.__init__(self)\n",
    "        print(\"Calling protected member of base class: \",\n",
    "              self._a)\n",
    " \n",
    "        # Modify the protected variable:\n",
    "        self._a = 3\n",
    "        print(\"Calling modified protected member outside class: \",\n",
    "              self._a)\n",
    " \n",
    " \n",
    "obj1 = Derived()\n",
    " \n",
    "obj2 = Base()"
   ]
  },
  {
   "cell_type": "code",
   "execution_count": 7,
   "id": "fe7bc416",
   "metadata": {},
   "outputs": [
    {
     "ename": "AttributeError",
     "evalue": "'Base' object has no attribute 'a'",
     "output_type": "error",
     "traceback": [
      "\u001b[1;31m---------------------------------------------------------------------------\u001b[0m",
      "\u001b[1;31mAttributeError\u001b[0m                            Traceback (most recent call last)",
      "Input \u001b[1;32mIn [7]\u001b[0m, in \u001b[0;36m<cell line: 2>\u001b[1;34m()\u001b[0m\n\u001b[0;32m      1\u001b[0m \u001b[38;5;66;03m## we cannot access the data inside the class as it is protected\u001b[39;00m\n\u001b[1;32m----> 2\u001b[0m \u001b[43mobj2\u001b[49m\u001b[38;5;241;43m.\u001b[39;49m\u001b[43ma\u001b[49m\n",
      "\u001b[1;31mAttributeError\u001b[0m: 'Base' object has no attribute 'a'"
     ]
    }
   ],
   "source": [
    "## we cannot access the data inside the class as it is protected\n",
    "obj2.a"
   ]
  },
  {
   "cell_type": "code",
   "execution_count": 9,
   "id": "68c2a314",
   "metadata": {},
   "outputs": [
    {
     "name": "stdout",
     "output_type": "stream",
     "text": [
      "Accessing protected member of obj1:  3\n",
      "Accessing protected member of obj2:  2\n"
     ]
    }
   ],
   "source": [
    "## to access the data we need to use _a \n",
    "# Calling protected member\n",
    "# Can be accessed but should not be done due to convention\n",
    "print(\"Accessing protected member of obj1: \", obj1._a)\n",
    " \n",
    "# Accessing the protected variable outside\n",
    "print(\"Accessing protected member of obj2: \", obj2._a)"
   ]
  },
  {
   "cell_type": "markdown",
   "id": "fa4855f2",
   "metadata": {},
   "source": [
    "#### Q3. What is abc module in python? Why is it used?"
   ]
  },
  {
   "cell_type": "markdown",
   "id": "1270a2d7",
   "metadata": {},
   "source": [
    "Python doesn't provide the abstract class itself. We need to import the abc module, which provides the base for defining Abstract Base classes (ABC). The ABC works by decorating methods of the base class as abstract. It registers concrete classes as the implementation of the abstract base. We use the @abstractmethod decorator to define an abstract method or if we don't provide the definition to the method, it automatically becomes the abstract method. "
   ]
  },
  {
   "cell_type": "markdown",
   "id": "6995e6e3",
   "metadata": {},
   "source": [
    "#### Q4. How can we achieve data abstraction?"
   ]
  },
  {
   "cell_type": "markdown",
   "id": "b04bdf81",
   "metadata": {},
   "source": [
    "Python comes with a module that provides the base for defining Abstract Base classes(ABC) and that module name is ABC. ABC works by decorating methods of the base class as abstract and then registering concrete classes as implementations of the abstract base. A method becomes abstract when decorated with the keyword @abstractmethod. \n",
    "\n",
    "Example is shown below:"
   ]
  },
  {
   "cell_type": "code",
   "execution_count": 33,
   "id": "79d15c6a",
   "metadata": {},
   "outputs": [
    {
     "name": "stdout",
     "output_type": "stream",
     "text": [
      "Carnivore\n",
      "Omnivore\n"
     ]
    }
   ],
   "source": [
    "# importing \n",
    "from abc import ABC, abstractmethod\n",
    "\n",
    "# creating base class\n",
    "class abstract(ABC):\n",
    "    \n",
    "    ## decorating method of base class as abstract class\n",
    "    @abstractmethod  \n",
    "    def animal(self):\n",
    "        pass\n",
    "    \n",
    "## creating subclasses    \n",
    "class cheetah(abstract):\n",
    "    \n",
    "    # using abstract method \"animal\" differently in every subclass\n",
    "    def animal(self):\n",
    "        print(\"Carnivore\")\n",
    "        \n",
    "class bear(abstract):\n",
    "    def animal(self):\n",
    "        super().animal()\n",
    "        print(\"Omnivore\")\n",
    "        \n",
    "class deer(abstract):\n",
    "    def animal(self):\n",
    "        print(\"Herbivore\")\n",
    "\n",
    "# creating object to call abstract method         \n",
    "c = cheetah()\n",
    "c.animal()\n",
    "\n",
    "b = bear()\n",
    "b.animal()"
   ]
  },
  {
   "cell_type": "markdown",
   "id": "e4b9d9b3",
   "metadata": {},
   "source": [
    ":\n",
    "#### Q5. Can we create an instance of an abstract class? Explain your answer?"
   ]
  },
  {
   "cell_type": "markdown",
   "id": "0adcfc8c",
   "metadata": {},
   "source": [
    "No, we cannot create an instance of an abstract class in most programming languages. An abstract class may contain one or more abstract methods, which are methods that are declared but not defined. Abstract classes are used as base classes to provide a common interface for a group of related subclasses.\n",
    "\n",
    "The main purpose of an abstract class is to provide a blueprint for its subclasses, and it cannot be instantiated on its own. Attempting to create an instance of an abstract class will result in a compilation error or runtime error, depending on the programming language.\n",
    "\n",
    "However, we can create an instance of a concrete subclass that inherits from the abstract class. The concrete subclass must provide definitions for all the abstract methods declared in the abstract class. This is because an abstract class is meant to be extended by concrete subclasses, which implement the abstract methods and provide specific behavior.\n",
    "\n",
    "In summary, abstract classes cannot be instantiated on their own, but they can be used as a base class to create concrete subclasses, which can be instantiated."
   ]
  },
  {
   "cell_type": "code",
   "execution_count": 43,
   "id": "36a17686",
   "metadata": {},
   "outputs": [],
   "source": [
    "from abc import ABC, abstractmethod\n",
    "class A(ABC):\n",
    "    @abstractmethod\n",
    "    def A1(self):\n",
    "        print(\"This is concrete subclass\")\n",
    "class B(A):\n",
    "    def A1(self):\n",
    "        super().A1()\n",
    "        print(\"Subclass\")"
   ]
  },
  {
   "cell_type": "code",
   "execution_count": 46,
   "id": "a7ee9bda",
   "metadata": {},
   "outputs": [
    {
     "ename": "TypeError",
     "evalue": "Can't instantiate abstract class A with abstract method A1",
     "output_type": "error",
     "traceback": [
      "\u001b[1;31m---------------------------------------------------------------------------\u001b[0m",
      "\u001b[1;31mTypeError\u001b[0m                                 Traceback (most recent call last)",
      "Input \u001b[1;32mIn [46]\u001b[0m, in \u001b[0;36m<cell line: 1>\u001b[1;34m()\u001b[0m\n\u001b[1;32m----> 1\u001b[0m ra \u001b[38;5;241m=\u001b[39m \u001b[43mA\u001b[49m\u001b[43m(\u001b[49m\u001b[43m)\u001b[49m\n\u001b[0;32m      2\u001b[0m ra\u001b[38;5;241m.\u001b[39mA1()\n",
      "\u001b[1;31mTypeError\u001b[0m: Can't instantiate abstract class A with abstract method A1"
     ]
    }
   ],
   "source": [
    "# we cannot access the abstract class creating object\n",
    "ra = A()\n",
    "ra.A1()"
   ]
  },
  {
   "cell_type": "code",
   "execution_count": 39,
   "id": "5153cc3c",
   "metadata": {},
   "outputs": [],
   "source": [
    "rr = B()"
   ]
  },
  {
   "cell_type": "code",
   "execution_count": 40,
   "id": "ccce4ff4",
   "metadata": {},
   "outputs": [
    {
     "name": "stdout",
     "output_type": "stream",
     "text": [
      "This is concrete subclass\n",
      "Subclass\n"
     ]
    }
   ],
   "source": [
    "# we can access the abstract method through the subclass\n",
    "rr.A1()"
   ]
  },
  {
   "cell_type": "code",
   "execution_count": 18,
   "id": "04058be4",
   "metadata": {},
   "outputs": [],
   "source": []
  },
  {
   "cell_type": "code",
   "execution_count": null,
   "id": "beb5bf45",
   "metadata": {},
   "outputs": [],
   "source": []
  },
  {
   "cell_type": "code",
   "execution_count": null,
   "id": "269dcb1a",
   "metadata": {},
   "outputs": [],
   "source": []
  },
  {
   "cell_type": "code",
   "execution_count": null,
   "id": "7a398b77",
   "metadata": {},
   "outputs": [],
   "source": []
  }
 ],
 "metadata": {
  "kernelspec": {
   "display_name": "Python 3 (ipykernel)",
   "language": "python",
   "name": "python3"
  },
  "language_info": {
   "codemirror_mode": {
    "name": "ipython",
    "version": 3
   },
   "file_extension": ".py",
   "mimetype": "text/x-python",
   "name": "python",
   "nbconvert_exporter": "python",
   "pygments_lexer": "ipython3",
   "version": "3.9.12"
  }
 },
 "nbformat": 4,
 "nbformat_minor": 5
}
