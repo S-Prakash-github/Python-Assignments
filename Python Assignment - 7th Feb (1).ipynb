{
 "cells": [
  {
   "cell_type": "markdown",
   "id": "5aeb0fa9",
   "metadata": {},
   "source": [
    "#### Q1. You are writing code for a company. The requirement of the company is that you create a python function that will check whether the password entered by the user is correct or not. The function should take the password as input and return the string “Valid Password” if the entered password follows the below-given password guidelines else it should return “Invalid Password”.\n",
    "\n",
    "\n",
    ">Note: \n",
    "\n",
    "1. The Password should contain at least two uppercase letters and at least two lowercase letters.\n",
    "\n",
    "2. The Password should contain at least a number and three special characters.\n",
    "\n",
    "3. The length of the password should be 10 characters long."
   ]
  },
  {
   "cell_type": "code",
   "execution_count": 4,
   "id": "2db3e1a2",
   "metadata": {},
   "outputs": [
    {
     "name": "stdout",
     "output_type": "stream",
     "text": [
      "\n",
      "               Enter your password:\n",
      "               Note: \n",
      "               The Password should contain at least two uppercase letters and at least two lowercase letters.\n",
      "               The Password should contain at least a number and three special characters.\n",
      "               The length of the password should be 10 characters long.\n",
      "               The special characters valid are ['!','$','%','^','&','*','(',')','-','_','=','+','@'].\n",
      "               !@#$qqaa12\n",
      "Invalid charachter\n"
     ]
    }
   ],
   "source": [
    "## importing library\n",
    "\n",
    "import re\n",
    "string = input('''\n",
    "               Enter your password:\n",
    "               Note: \n",
    "               The Password should contain at least two uppercase letters and at least two lowercase letters.\n",
    "               The Password should contain at least a number and three special characters.\n",
    "               The length of the password should be 10 characters long.\n",
    "               The special characters valid are ['!','$','%','^','&','*','(',')','-','_','=','+','@'].\n",
    "               ''')\n",
    "\n",
    "\n",
    "special_characters = ['!','$','%','^','&','*','(',')','-','_','=','+','@']\n",
    "upper_count = 0\n",
    "lower_count = 0\n",
    "special_count = 0\n",
    "num_count = 0\n",
    "\n",
    "for i in string:\n",
    "    if i in special_characters:\n",
    "        special_count += 1 \n",
    "\n",
    "for i in string:\n",
    "    if i.isdigit() : num_count += 1\n",
    "        \n",
    "for i in string:\n",
    "    if i.isupper():upper_count += 1 \n",
    "        \n",
    "for i in string:\n",
    "    if i.islower():lower_count += 1\n",
    "\n",
    "        \n",
    "while True:\n",
    "    if not re.search(\"[a-z]\", string):\n",
    "        print(\"Invalid character\")\n",
    "        break\n",
    "    if not re.search(\"[A-Z]\", string):\n",
    "        print(\"Invalid charachter\")\n",
    "        break\n",
    "    if not re.search(\"[0-9]\", string):\n",
    "        print(\"Invalid charachter\")\n",
    "        break\n",
    "    if len(string)>10 or len(string)<10:\n",
    "        print(\"Invalid\")\n",
    "        break\n",
    "    if num_count < 1:\n",
    "        print(\"Password should have atleast 1 numbers 0-9\")\n",
    "        break\n",
    "    if upper_count >3:\n",
    "        print(\"Password should have atlest 2 Upper Case A-Z\")\n",
    "        break\n",
    "    if lower_count > 3:\n",
    "        print(\"Password should have atleast 2 lower case a-z\")\n",
    "        break\n",
    "    if special_count >3:\n",
    "        print(\"Password should have at least 3 special characters ['!','$','%','^','&','*','(',')','-','_','=','+','@']\")\n",
    "        break\n",
    "    else : \n",
    "        print(\"Your password is successfully recorded\")\n",
    "        break"
   ]
  },
  {
   "cell_type": "code",
   "execution_count": null,
   "id": "c4ed8ce8",
   "metadata": {},
   "outputs": [],
   "source": []
  },
  {
   "cell_type": "markdown",
   "id": "8a85dcef",
   "metadata": {},
   "source": [
    "#### Q2. Solve the below-given questions using at least one of the following: \n",
    "\n",
    "1. Lambda function\n",
    "2. Filter function\n",
    "3. Map function\n",
    "4. List Comprehension\n",
    "-  Check if the string starts with a particular letter\n",
    "-  Check if the string is numeric\n",
    "-  Sort a list of tuples having fruit names and their quantity. [(\"mango\",99),(\"orange\",80), (\"grapes\", 1000)-\n",
    "-  Find the squares of numbers from 1 to 10\n",
    "- Find the cube root of numbers from 1 to 10\n",
    "-  Check if a given number is even\n",
    "-  Filter odd numbers from the given list.\n",
    "\n",
    " [1,2,3,4,5,6,7,8,9,10-\n",
    "-  Sort a list of integers into positive and negative integers lists.\n",
    "\n",
    " [1,2,3,4,5,6,-1,-2,-3,-4,-5,0]"
   ]
  },
  {
   "cell_type": "markdown",
   "id": "88561f71",
   "metadata": {},
   "source": [
    "#### check if a list starts with a particular letter"
   ]
  },
  {
   "cell_type": "code",
   "execution_count": 75,
   "id": "5cf3a105",
   "metadata": {},
   "outputs": [
    {
     "name": "stdout",
     "output_type": "stream",
     "text": [
      "No\n"
     ]
    }
   ],
   "source": [
    "string = \"Prakash\"\n",
    "letter = \"a\"\n",
    "p = \"P\"if letter== string[0] else \"No\"\n",
    "print(p)"
   ]
  },
  {
   "cell_type": "code",
   "execution_count": null,
   "id": "6cd58bbd",
   "metadata": {},
   "outputs": [],
   "source": []
  },
  {
   "cell_type": "markdown",
   "id": "e012e57e",
   "metadata": {},
   "source": [
    "#### Check if the string is numeric"
   ]
  },
  {
   "cell_type": "code",
   "execution_count": 50,
   "id": "84e3b40b",
   "metadata": {},
   "outputs": [
    {
     "data": {
      "text/plain": [
       "'It is numeric'"
      ]
     },
     "execution_count": 50,
     "metadata": {},
     "output_type": "execute_result"
    }
   ],
   "source": [
    "s = \"445464\"\n",
    "string_check = lambda x : \"It is numeric\" if x.isdigit() == True else \"Not numeric\"\n",
    "string_check(s)"
   ]
  },
  {
   "cell_type": "code",
   "execution_count": null,
   "id": "c92429aa",
   "metadata": {},
   "outputs": [],
   "source": []
  },
  {
   "cell_type": "markdown",
   "id": "4bc32b2f",
   "metadata": {},
   "source": [
    "###### Sort a list of tuples having fruit names and their quantity. [(\"mango\",99),(\"orange\",80), (\"grapes\", 1000)-\n"
   ]
  },
  {
   "cell_type": "code",
   "execution_count": 1,
   "id": "fde47f49",
   "metadata": {
    "scrolled": true
   },
   "outputs": [
    {
     "name": "stdout",
     "output_type": "stream",
     "text": [
      "[('grapes', 1000), ('mango', 99), ('orange', 80)]\n"
     ]
    }
   ],
   "source": [
    "l  = [(\"mango\",99),(\"orange\",80), (\"grapes\", 1000)]\n",
    "print(sorted(l))"
   ]
  },
  {
   "cell_type": "code",
   "execution_count": null,
   "id": "c7dfdd86",
   "metadata": {},
   "outputs": [],
   "source": []
  },
  {
   "cell_type": "markdown",
   "id": "33c7c135",
   "metadata": {},
   "source": [
    "##### Find the squares of numbers from 1 to 10"
   ]
  },
  {
   "cell_type": "code",
   "execution_count": 29,
   "id": "e0cd471b",
   "metadata": {},
   "outputs": [
    {
     "name": "stdout",
     "output_type": "stream",
     "text": [
      "[1, 4, 9, 16, 25, 36, 49, 64, 81, 100]\n"
     ]
    }
   ],
   "source": [
    "# using map function\n",
    "\n",
    "squares = list(map(lambda x : x**2 , list(range(1,11))))\n",
    "print(squares)"
   ]
  },
  {
   "cell_type": "code",
   "execution_count": null,
   "id": "9ee7dda4",
   "metadata": {},
   "outputs": [],
   "source": []
  },
  {
   "cell_type": "markdown",
   "id": "a95b3f6d",
   "metadata": {},
   "source": [
    "#### Find the cube root of numbers from 1 to 10"
   ]
  },
  {
   "cell_type": "code",
   "execution_count": 30,
   "id": "97b5ba5a",
   "metadata": {},
   "outputs": [
    {
     "data": {
      "text/plain": [
       "[1, 8, 27, 64, 125, 216, 343, 512, 729, 1000]"
      ]
     },
     "execution_count": 30,
     "metadata": {},
     "output_type": "execute_result"
    }
   ],
   "source": [
    "# using map function\n",
    "cube = list(map(lambda x:x**3,list(range(1,11))))\n",
    "cube"
   ]
  },
  {
   "cell_type": "code",
   "execution_count": null,
   "id": "d9f155ac",
   "metadata": {},
   "outputs": [],
   "source": []
  },
  {
   "cell_type": "markdown",
   "id": "f4804a40",
   "metadata": {},
   "source": [
    "#### Check if a given number is even"
   ]
  },
  {
   "cell_type": "code",
   "execution_count": 21,
   "id": "ac3a88ab",
   "metadata": {},
   "outputs": [
    {
     "data": {
      "text/plain": [
       "[4, 4]"
      ]
     },
     "execution_count": 21,
     "metadata": {},
     "output_type": "execute_result"
    }
   ],
   "source": [
    "## filter function returns value if a condition is true\n",
    "## it takes list as an aregument and returns a list of values\n",
    "n = [4,4,3]\n",
    "even =list(filter(lambda x :x%2 == 0,n))\n",
    "even "
   ]
  },
  {
   "cell_type": "code",
   "execution_count": null,
   "id": "51caf90d",
   "metadata": {},
   "outputs": [],
   "source": []
  },
  {
   "cell_type": "markdown",
   "id": "48dede7a",
   "metadata": {},
   "source": [
    "##### Filter odd numbers from the given list.\n",
    "\n",
    ">[1,2,3,4,5,6,7,8,9,10]"
   ]
  },
  {
   "cell_type": "code",
   "execution_count": 28,
   "id": "9f1db87c",
   "metadata": {},
   "outputs": [
    {
     "name": "stdout",
     "output_type": "stream",
     "text": [
      "[1, 3, 5, 7, 9]\n"
     ]
    }
   ],
   "source": [
    "l1 = [1,2,3,4,5,6,7,8,9,10]\n",
    "odd_nums = [x for x in l1 if x%2 != 0]\n",
    "print(odd_nums)"
   ]
  },
  {
   "cell_type": "markdown",
   "id": "c912b1a8",
   "metadata": {},
   "source": [
    "##### Sort a list of integers into positive and negative integers lists.\n",
    "\n",
    ">[1,2,3,4,5,6,-1,-2,-3,-4,-5,0]"
   ]
  },
  {
   "cell_type": "code",
   "execution_count": 35,
   "id": "1e4fab9f",
   "metadata": {},
   "outputs": [
    {
     "name": "stdout",
     "output_type": "stream",
     "text": [
      "[1, 2, 3, 4, 5, 6, 0] = List with positive integers\n",
      "[-1, -2, -3, -4, -5]  = List with negative integers\n"
     ]
    }
   ],
   "source": [
    "integer_list = [1,2,3,4,5,6,-1,-2,-3,-4,-5,0]\n",
    "positive_int = []\n",
    "negative_int = []\n",
    "for i in integer_list:\n",
    "    if i < 0 :\n",
    "        negative_int.append(i)\n",
    "    else:\n",
    "        positive_int.append(i)\n",
    "print(positive_int,\"= List with positive integers\")\n",
    "print(negative_int,\" = List with negative integers\")"
   ]
  },
  {
   "cell_type": "code",
   "execution_count": 43,
   "id": "7208fc67",
   "metadata": {},
   "outputs": [
    {
     "name": "stdout",
     "output_type": "stream",
     "text": [
      "[1, 2, 3, 4, 5, 6]  list with positive integers\n",
      "[-1, -2, -3, -4, -5] list with negative integers\n"
     ]
    }
   ],
   "source": [
    "## using filter function\n",
    "negative_list = list(filter(lambda x : x < 0 , integer_list))\n",
    "positive_list = list(filter(lambda x : x > 0 , integer_list))\n",
    "print(positive_list,\" list with positive integers\")\n",
    "print(negative_list,\"list with negative integers\")"
   ]
  },
  {
   "cell_type": "code",
   "execution_count": null,
   "id": "71631b65",
   "metadata": {},
   "outputs": [],
   "source": []
  },
  {
   "cell_type": "code",
   "execution_count": null,
   "id": "e4d3e5cc",
   "metadata": {},
   "outputs": [],
   "source": []
  }
 ],
 "metadata": {
  "kernelspec": {
   "display_name": "Python 3 (ipykernel)",
   "language": "python",
   "name": "python3"
  },
  "language_info": {
   "codemirror_mode": {
    "name": "ipython",
    "version": 3
   },
   "file_extension": ".py",
   "mimetype": "text/x-python",
   "name": "python",
   "nbconvert_exporter": "python",
   "pygments_lexer": "ipython3",
   "version": "3.9.12"
  }
 },
 "nbformat": 4,
 "nbformat_minor": 5
}
