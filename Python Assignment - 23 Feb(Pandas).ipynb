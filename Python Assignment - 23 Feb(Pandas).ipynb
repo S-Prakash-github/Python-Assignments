{
 "cells": [
  {
   "cell_type": "markdown",
   "id": "08452dfe",
   "metadata": {},
   "source": [
    "#### Q1. Create a Pandas Series that contains the following data: 4, 8, 15, 16, 23, and 42. Then, print the series."
   ]
  },
  {
   "cell_type": "code",
   "execution_count": 6,
   "id": "2c26def8",
   "metadata": {},
   "outputs": [
    {
     "name": "stdout",
     "output_type": "stream",
     "text": [
      "<class 'pandas.core.series.Series'>\n"
     ]
    },
    {
     "data": {
      "text/plain": [
       "0     4\n",
       "1     8\n",
       "2    15\n",
       "3    16\n",
       "4    23\n",
       "5    41\n",
       "dtype: int64"
      ]
     },
     "execution_count": 6,
     "metadata": {},
     "output_type": "execute_result"
    }
   ],
   "source": [
    "import pandas as pd\n",
    "\n",
    "data = pd.Series([4,8,15,16,23,41])\n",
    "print(type(data))\n",
    "data"
   ]
  },
  {
   "cell_type": "markdown",
   "id": "57323aae",
   "metadata": {},
   "source": [
    "#### Q2. Create a variable of list type containing 10 elements in it, and apply pandas.Series function on the variable print it."
   ]
  },
  {
   "cell_type": "code",
   "execution_count": 45,
   "id": "e64bddd9",
   "metadata": {},
   "outputs": [
    {
     "data": {
      "text/plain": [
       "0     1\n",
       "1     2\n",
       "2     3\n",
       "3     4\n",
       "4     5\n",
       "5     6\n",
       "6     7\n",
       "7     8\n",
       "8     9\n",
       "9    10\n",
       "dtype: int64"
      ]
     },
     "execution_count": 45,
     "metadata": {},
     "output_type": "execute_result"
    }
   ],
   "source": [
    "## creating list of 10 elements\n",
    "l = list(range(1,11))\n",
    "pd.Series(l)"
   ]
  },
  {
   "cell_type": "markdown",
   "id": "6506802b",
   "metadata": {},
   "source": [
    "#### Q3. Create a Pandas DataFrame that contains the following data\n",
    "Name:[Alice Bob Claire]\n",
    "\n",
    "Age: [25 30 27]\n",
    "\n",
    "Gender:[Female Male Female]"
   ]
  },
  {
   "cell_type": "code",
   "execution_count": 49,
   "id": "6cee8408",
   "metadata": {},
   "outputs": [
    {
     "data": {
      "text/html": [
       "<div>\n",
       "<style scoped>\n",
       "    .dataframe tbody tr th:only-of-type {\n",
       "        vertical-align: middle;\n",
       "    }\n",
       "\n",
       "    .dataframe tbody tr th {\n",
       "        vertical-align: top;\n",
       "    }\n",
       "\n",
       "    .dataframe thead th {\n",
       "        text-align: right;\n",
       "    }\n",
       "</style>\n",
       "<table border=\"1\" class=\"dataframe\">\n",
       "  <thead>\n",
       "    <tr style=\"text-align: right;\">\n",
       "      <th></th>\n",
       "      <th>Name</th>\n",
       "      <th>Age</th>\n",
       "      <th>Gender</th>\n",
       "    </tr>\n",
       "  </thead>\n",
       "  <tbody>\n",
       "    <tr>\n",
       "      <th>0</th>\n",
       "      <td>Alice</td>\n",
       "      <td>25</td>\n",
       "      <td>Female</td>\n",
       "    </tr>\n",
       "    <tr>\n",
       "      <th>1</th>\n",
       "      <td>Bob</td>\n",
       "      <td>30</td>\n",
       "      <td>Male</td>\n",
       "    </tr>\n",
       "    <tr>\n",
       "      <th>2</th>\n",
       "      <td>Claire</td>\n",
       "      <td>27</td>\n",
       "      <td>Female</td>\n",
       "    </tr>\n",
       "  </tbody>\n",
       "</table>\n",
       "</div>"
      ],
      "text/plain": [
       "     Name  Age  Gender\n",
       "0   Alice   25  Female\n",
       "1     Bob   30    Male\n",
       "2  Claire   27  Female"
      ]
     },
     "execution_count": 49,
     "metadata": {},
     "output_type": "execute_result"
    }
   ],
   "source": [
    "## creating seires\n",
    "Name = pd.Series([\"Alice\",\"Bob\",\"Claire\"])\n",
    "Age = pd.Series([25,30,27])\n",
    "Gender = pd.Series([\"Female\",\"Male\",\"Female\"])\n",
    "\n",
    "# creating dict\n",
    "d = {\n",
    "    \"Name\" : Name,\n",
    "    \"Age\" : Age,\n",
    "    \"Gender\": Gender\n",
    "}\n",
    "\n",
    "#creating dataframe from the dictionary having key as column name and value as seiries\n",
    "df = pd.DataFrame(d)\n",
    "df"
   ]
  },
  {
   "cell_type": "code",
   "execution_count": 54,
   "id": "a475c880",
   "metadata": {},
   "outputs": [
    {
     "data": {
      "text/html": [
       "<div>\n",
       "<style scoped>\n",
       "    .dataframe tbody tr th:only-of-type {\n",
       "        vertical-align: middle;\n",
       "    }\n",
       "\n",
       "    .dataframe tbody tr th {\n",
       "        vertical-align: top;\n",
       "    }\n",
       "\n",
       "    .dataframe thead th {\n",
       "        text-align: right;\n",
       "    }\n",
       "</style>\n",
       "<table border=\"1\" class=\"dataframe\">\n",
       "  <thead>\n",
       "    <tr style=\"text-align: right;\">\n",
       "      <th></th>\n",
       "      <th>Name</th>\n",
       "      <th>Age</th>\n",
       "      <th>Gender</th>\n",
       "    </tr>\n",
       "  </thead>\n",
       "  <tbody>\n",
       "    <tr>\n",
       "      <th>0</th>\n",
       "      <td>Alice</td>\n",
       "      <td>25</td>\n",
       "      <td>Female</td>\n",
       "    </tr>\n",
       "    <tr>\n",
       "      <th>1</th>\n",
       "      <td>Bob</td>\n",
       "      <td>30</td>\n",
       "      <td>Male</td>\n",
       "    </tr>\n",
       "    <tr>\n",
       "      <th>2</th>\n",
       "      <td>Claire</td>\n",
       "      <td>27</td>\n",
       "      <td>Female</td>\n",
       "    </tr>\n",
       "  </tbody>\n",
       "</table>\n",
       "</div>"
      ],
      "text/plain": [
       "     Name  Age  Gender\n",
       "0   Alice   25  Female\n",
       "1     Bob   30    Male\n",
       "2  Claire   27  Female"
      ]
     },
     "execution_count": 54,
     "metadata": {},
     "output_type": "execute_result"
    }
   ],
   "source": [
    "# second method\n",
    "x = {\"Name\":[\"Alice\",\"Bob\",\"Claire\"],\"Age\":[25,30,27],\"Gender\":[\"Female\",\"Male\",\"Female\"]}\n",
    "df1 = pd.DataFrame(x)\n",
    "df1"
   ]
  },
  {
   "cell_type": "markdown",
   "id": "47f19c01",
   "metadata": {},
   "source": [
    "#### Q4. What is ‘DataFrame’ in pandas and how is it different from pandas.series? Explain with an example."
   ]
  },
  {
   "cell_type": "markdown",
   "id": "2153c8e2",
   "metadata": {},
   "source": [
    "In Pandas, a DataFrame is a two-dimensional labeled data structure that consists of rows and columns, where each column can have a different data type. It can be thought of as a table, similar to a spreadsheet or SQL table. Each column in a DataFrame is a pandas Series.\n",
    "\n",
    "A pandas Series, on the other hand, is a one-dimensional labeled data structure that can contain any data type (e.g., integers, floats, strings, etc.). It can be thought of as a single column in a DataFrame."
   ]
  },
  {
   "cell_type": "code",
   "execution_count": 39,
   "id": "82a7d29b",
   "metadata": {},
   "outputs": [
    {
     "name": "stdout",
     "output_type": "stream",
     "text": [
      "<class 'pandas.core.frame.DataFrame'>\n"
     ]
    },
    {
     "data": {
      "text/html": [
       "<div>\n",
       "<style scoped>\n",
       "    .dataframe tbody tr th:only-of-type {\n",
       "        vertical-align: middle;\n",
       "    }\n",
       "\n",
       "    .dataframe tbody tr th {\n",
       "        vertical-align: top;\n",
       "    }\n",
       "\n",
       "    .dataframe thead th {\n",
       "        text-align: right;\n",
       "    }\n",
       "</style>\n",
       "<table border=\"1\" class=\"dataframe\">\n",
       "  <thead>\n",
       "    <tr style=\"text-align: right;\">\n",
       "      <th></th>\n",
       "      <th>name</th>\n",
       "      <th>age</th>\n",
       "      <th>location</th>\n",
       "    </tr>\n",
       "  </thead>\n",
       "  <tbody>\n",
       "    <tr>\n",
       "      <th>0</th>\n",
       "      <td>Prakash</td>\n",
       "      <td>21</td>\n",
       "      <td>Kolkata</td>\n",
       "    </tr>\n",
       "    <tr>\n",
       "      <th>1</th>\n",
       "      <td>Singh</td>\n",
       "      <td>18</td>\n",
       "      <td>Patna</td>\n",
       "    </tr>\n",
       "    <tr>\n",
       "      <th>2</th>\n",
       "      <td>Kumar</td>\n",
       "      <td>26</td>\n",
       "      <td>Agra</td>\n",
       "    </tr>\n",
       "    <tr>\n",
       "      <th>3</th>\n",
       "      <td>Gupta</td>\n",
       "      <td>24</td>\n",
       "      <td>Delhi</td>\n",
       "    </tr>\n",
       "  </tbody>\n",
       "</table>\n",
       "</div>"
      ],
      "text/plain": [
       "      name  age location\n",
       "0  Prakash   21  Kolkata\n",
       "1    Singh   18    Patna\n",
       "2    Kumar   26     Agra\n",
       "3    Gupta   24    Delhi"
      ]
     },
     "execution_count": 39,
     "metadata": {},
     "output_type": "execute_result"
    }
   ],
   "source": [
    "## DATAFRAME is 2D structure with rows and coulmns\n",
    "\n",
    "print(type(dataframe))\n",
    "dataframe"
   ]
  },
  {
   "cell_type": "code",
   "execution_count": 43,
   "id": "3556e0d6",
   "metadata": {},
   "outputs": [
    {
     "name": "stdout",
     "output_type": "stream",
     "text": [
      "<class 'pandas.core.series.Series'>\n"
     ]
    },
    {
     "data": {
      "text/plain": [
       "0    Prakash\n",
       "1      Singh\n",
       "2          1\n",
       "3          2\n",
       "4          4\n",
       "dtype: object"
      ]
     },
     "execution_count": 43,
     "metadata": {},
     "output_type": "execute_result"
    }
   ],
   "source": [
    "## SERIES is 1D strucutre (single column)\n",
    "series = pd.Series([\"Prakash\",\"Singh\",1,2,4])\n",
    "print(type(series))\n",
    "series"
   ]
  },
  {
   "cell_type": "markdown",
   "id": "345cded3",
   "metadata": {},
   "source": [
    "#### Q5. What are some common functions you can use to manipulate data in a Pandas DataFrame? Can you give an example of when you might use one of these functions?"
   ]
  },
  {
   "cell_type": "markdown",
   "id": "a58f512f",
   "metadata": {},
   "source": [
    "There are many functions available in Pandas that can be used to manipulate data in a DataFrame. Here are some common functions along with an example of when you might use them:\n",
    "\n",
    "- head() and tail() : used to get the records from the first and last respecively.\n",
    "- dtypes : used to get the data types of the columns.\n",
    "- columns : used to get all the columns in a dataframe.\n",
    "- describe() : used to get the five number summary of the data in the dataframe,etc."
   ]
  },
  {
   "cell_type": "code",
   "execution_count": 35,
   "id": "cd5fafbb",
   "metadata": {},
   "outputs": [
    {
     "name": "stdout",
     "output_type": "stream",
     "text": [
      "HEAD FUNCTION:\n",
      "      name  age location\n",
      "0  Prakash   21  Kolkata\n",
      "\n",
      " \n",
      "TAIL FUNCTION:\n",
      "    name  age location\n",
      "3  Gupta   24    Delhi\n",
      "\n",
      " \n",
      "COLUMNS FUNCTION:\n",
      "['name', 'age', 'location']\n",
      "\n",
      "\n",
      " DTYPES FUNCTION:\n",
      "[dtype('O'), dtype('int64'), dtype('O')]\n"
     ]
    }
   ],
   "source": [
    "print(\"HEAD FUNCTION:\")\n",
    "print(dataframe.head(1))\n",
    "\n",
    "print(\"\\n \\nTAIL FUNCTION:\")\n",
    "print(dataframe.tail(1))\n",
    "\n",
    "print(\"\\n \\nCOLUMNS FUNCTION:\")\n",
    "print(list(dataframe.columns))\n",
    "\n",
    "print(\"\\n\\n DTYPES FUNCTION:\")\n",
    "print(list(dataframe.dtypes))"
   ]
  },
  {
   "cell_type": "markdown",
   "id": "75b3edaf",
   "metadata": {},
   "source": [
    "#### Q6. Which of the following is mutable in nature Series, DataFrame, Panel?"
   ]
  },
  {
   "cell_type": "markdown",
   "id": "3e69f39a",
   "metadata": {},
   "source": [
    "Both Series and DataFrame are mutable in nature, meaning their values can be modified after they are created. However, Panel is deprecated in the latest version of pandas and is no longer recommended for use."
   ]
  },
  {
   "cell_type": "markdown",
   "id": "77effb87",
   "metadata": {},
   "source": [
    "#### 7. Create a DataFrame using multiple Series. Explain with an example"
   ]
  },
  {
   "cell_type": "code",
   "execution_count": 24,
   "id": "a3f317e8",
   "metadata": {},
   "outputs": [
    {
     "data": {
      "text/plain": [
       "name        object\n",
       "age          int64\n",
       "location    object\n",
       "dtype: object"
      ]
     },
     "execution_count": 24,
     "metadata": {},
     "output_type": "execute_result"
    }
   ],
   "source": [
    "## creating series\n",
    "name = pd.Series([\"Prakash\",\"Singh\",\"Kumar\",\"Gupta\"])\n",
    "age = pd.Series([21,18,26,24])\n",
    "location = pd.Series([\"Kolkata\",\"Patna\",\"Agra\",\"Delhi\"])\n",
    "\n",
    "## dictionary with key as column names and values as series\n",
    "data = {\"name\":name,\n",
    "       \"age\":age,\n",
    "       \"location\":location}\n",
    "\n",
    "# creating dataframe\n",
    "dataframe = pd.DataFrame(data)\n",
    "dataframe\n"
   ]
  },
  {
   "cell_type": "code",
   "execution_count": null,
   "id": "30fcac3b",
   "metadata": {},
   "outputs": [],
   "source": []
  }
 ],
 "metadata": {
  "kernelspec": {
   "display_name": "Python 3 (ipykernel)",
   "language": "python",
   "name": "python3"
  },
  "language_info": {
   "codemirror_mode": {
    "name": "ipython",
    "version": 3
   },
   "file_extension": ".py",
   "mimetype": "text/x-python",
   "name": "python",
   "nbconvert_exporter": "python",
   "pygments_lexer": "ipython3",
   "version": "3.9.12"
  }
 },
 "nbformat": 4,
 "nbformat_minor": 5
}
