{
 "cells": [
  {
   "cell_type": "markdown",
   "id": "eb2453d6",
   "metadata": {},
   "source": [
    "#### Q1. What is an Exception in python? Write the difference between Exeptions and syntax error"
   ]
  },
  {
   "cell_type": "markdown",
   "id": "149c28a5",
   "metadata": {},
   "source": [
    "In Python, an exception is an error that occurs during the execution of a program. When an exception occurs, it interrupts the normal flow of the program and can cause the program to terminate if the exception is not handled.\n",
    "\n",
    "Python has a built-in mechanism for handling exceptions using the try-except block. The basic syntax of a try-except.\n",
    ">Syntax Error\n",
    "\n",
    "Syntax errors occur when there is a problem with the structure of your code, and they are detected by the Python interpreter during the parsing of your code. Examples of syntax errors include missing parentheses, incorrect indentation, and misspelled keywords. When a syntax error occurs, the Python interpreter will display an error message and highlight the line in your code where the error occurred. You must fix the syntax error before you can run the program.\n",
    "\n",
    ">Exception\n",
    "\n",
    "Exceptions, on the other hand, occur during the execution of your program when something unexpected happens. For example, if you try to divide by zero, you will get a ZeroDivisionError. Other common types of exceptions include TypeError, IndexError, and NameError. When an exception occurs, the Python interpreter will interrupt the normal flow of the program and transfer control to the nearest exception handler. If there is no exception handler, the program will terminate with an error message."
   ]
  },
  {
   "cell_type": "markdown",
   "id": "bd4809c2",
   "metadata": {},
   "source": [
    "#### Q2. What happens when an expection is not handled.Explain with example."
   ]
  },
  {
   "cell_type": "markdown",
   "id": "34c04d40",
   "metadata": {},
   "source": [
    "When an exception is not handled in Python, it will cause the program to terminate and display an error message. This is because when an exception is raised and not caught by an except block, the exception propagates up the call stack until it reaches the top level of the program, at which point the interpreter terminates the program and displays an error message."
   ]
  },
  {
   "cell_type": "code",
   "execution_count": 3,
   "id": "ff470be3",
   "metadata": {},
   "outputs": [
    {
     "ename": "ZeroDivisionError",
     "evalue": "division by zero",
     "output_type": "error",
     "traceback": [
      "\u001b[1;31m---------------------------------------------------------------------------\u001b[0m",
      "\u001b[1;31mZeroDivisionError\u001b[0m                         Traceback (most recent call last)",
      "Input \u001b[1;32mIn [3]\u001b[0m, in \u001b[0;36m<cell line: 4>\u001b[1;34m()\u001b[0m\n\u001b[0;32m      1\u001b[0m \u001b[38;5;28;01mdef\u001b[39;00m \u001b[38;5;21mdivide\u001b[39m(a, b):\n\u001b[0;32m      2\u001b[0m     \u001b[38;5;28;01mreturn\u001b[39;00m a \u001b[38;5;241m/\u001b[39m b\n\u001b[1;32m----> 4\u001b[0m result \u001b[38;5;241m=\u001b[39m \u001b[43mdivide\u001b[49m\u001b[43m(\u001b[49m\u001b[38;5;241;43m10\u001b[39;49m\u001b[43m,\u001b[49m\u001b[43m \u001b[49m\u001b[38;5;241;43m0\u001b[39;49m\u001b[43m)\u001b[49m\n",
      "Input \u001b[1;32mIn [3]\u001b[0m, in \u001b[0;36mdivide\u001b[1;34m(a, b)\u001b[0m\n\u001b[0;32m      1\u001b[0m \u001b[38;5;28;01mdef\u001b[39;00m \u001b[38;5;21mdivide\u001b[39m(a, b):\n\u001b[1;32m----> 2\u001b[0m     \u001b[38;5;28;01mreturn\u001b[39;00m \u001b[43ma\u001b[49m\u001b[43m \u001b[49m\u001b[38;5;241;43m/\u001b[39;49m\u001b[43m \u001b[49m\u001b[43mb\u001b[49m\n",
      "\u001b[1;31mZeroDivisionError\u001b[0m: division by zero"
     ]
    }
   ],
   "source": [
    "def divide(a, b):\n",
    "    return a / b\n",
    "\n",
    "result = divide(10, 0)"
   ]
  },
  {
   "cell_type": "markdown",
   "id": "69b2688f",
   "metadata": {},
   "source": [
    "In this example, the divide() function attempts to divide the number 10 by zero, which raises a ZeroDivisionError. Since there is no try-except block to handle the exception, the exception propagates up the call stack to the top level of the program, which causes the interpreter to terminate the program with an error message\n",
    "\n",
    "To prevent this error from occurring, you can add a try-except block to catch the exception and handle it appropriately. For example:"
   ]
  },
  {
   "cell_type": "code",
   "execution_count": 9,
   "id": "64f55660",
   "metadata": {},
   "outputs": [
    {
     "name": "stdout",
     "output_type": "stream",
     "text": [
      "Cannot divide by zero\n"
     ]
    }
   ],
   "source": [
    "a = 5\n",
    "b = 0\n",
    "try:\n",
    "    print( a / b)\n",
    "except ZeroDivisionError:\n",
    "    print('Cannot divide by zero')"
   ]
  },
  {
   "cell_type": "markdown",
   "id": "afdc5850",
   "metadata": {},
   "source": [
    "In this modified example, the try-except block catches the ZeroDivisionError and prints a message instead of allowing the exception to propagate up the call stack. This allows the program to continue running without terminating unexpectedly."
   ]
  },
  {
   "cell_type": "markdown",
   "id": "c384f011",
   "metadata": {},
   "source": [
    "#### Q3. Which python statement is used to catch and handel exception? Explain with an example."
   ]
  },
  {
   "cell_type": "code",
   "execution_count": null,
   "id": "40b2c764",
   "metadata": {},
   "outputs": [],
   "source": [
    "In Python, the try-except block is used to catch and handle exceptions"
   ]
  },
  {
   "cell_type": "code",
   "execution_count": null,
   "id": "934d06f4",
   "metadata": {},
   "outputs": [],
   "source": [
    "a = 5\n",
    "b = 0\n",
    "### code that might raise an exception\n",
    "try:\n",
    "    print( a / b)\n",
    "    ### code to handle the exception\n",
    "except ZeroDivisionError:\n",
    "    print('Cannot divide by zero')"
   ]
  },
  {
   "cell_type": "markdown",
   "id": "f6717391",
   "metadata": {},
   "source": [
    "In this example, the code in the try block attempts to divide the number 5 by zero, which raises a ZeroDivisionError. The control of the program is then transferred to the except block, which contains the code to handle the exception. The code in the except block simply prints the message 'Cannot divide by zero'."
   ]
  },
  {
   "cell_type": "markdown",
   "id": "00d68a96",
   "metadata": {},
   "source": [
    "#### Q4. Explain with an example\n",
    "- try and else\n",
    "- raise\n",
    "- finally"
   ]
  },
  {
   "cell_type": "markdown",
   "id": "020cf8f2",
   "metadata": {},
   "source": [
    "##### Try and else\n",
    "\n",
    "> try is used to enclose a block of code that might raise an exception. If an exception is raised within the try block, it is caught and handled by the code in an accompanying except block. The syntax for a try-except\n",
    "The else keyword is used in conjunction with try and except to specify a block of code that should be executed only if no exception was raised."
   ]
  },
  {
   "cell_type": "code",
   "execution_count": 10,
   "id": "d6505d3a",
   "metadata": {
    "scrolled": false
   },
   "outputs": [
    {
     "name": "stdout",
     "output_type": "stream",
     "text": [
      "Enter a number: sg\n",
      "Invalid input, please enter a number\n"
     ]
    }
   ],
   "source": [
    "try:\n",
    "    x = int(input(\"Enter a number: \"))\n",
    "except ValueError:\n",
    "    print(\"Invalid input, please enter a number\")\n",
    "else:\n",
    "    print(\"You entered:\", x)"
   ]
  },
  {
   "cell_type": "markdown",
   "id": "67336400",
   "metadata": {},
   "source": [
    "##### raise\n",
    "> raise is a keyword used to manually raise an exception. When raise is used, it interrupts the normal flow of execution and immediately causes an exception to be thrown.\n"
   ]
  },
  {
   "cell_type": "code",
   "execution_count": 17,
   "id": "b6834fc0",
   "metadata": {},
   "outputs": [
    {
     "ename": "ValueError",
     "evalue": "x should be less than or equal to 5",
     "output_type": "error",
     "traceback": [
      "\u001b[1;31m---------------------------------------------------------------------------\u001b[0m",
      "\u001b[1;31mValueError\u001b[0m                                Traceback (most recent call last)",
      "Input \u001b[1;32mIn [17]\u001b[0m, in \u001b[0;36m<cell line: 2>\u001b[1;34m()\u001b[0m\n\u001b[0;32m      1\u001b[0m x \u001b[38;5;241m=\u001b[39m \u001b[38;5;241m10\u001b[39m\n\u001b[0;32m      2\u001b[0m \u001b[38;5;28;01mif\u001b[39;00m x \u001b[38;5;241m>\u001b[39m \u001b[38;5;241m5\u001b[39m:\n\u001b[1;32m----> 3\u001b[0m     \u001b[38;5;28;01mraise\u001b[39;00m \u001b[38;5;167;01mValueError\u001b[39;00m(\u001b[38;5;124m\"\u001b[39m\u001b[38;5;124mx should be less than or equal to 5\u001b[39m\u001b[38;5;124m\"\u001b[39m)\n",
      "\u001b[1;31mValueError\u001b[0m: x should be less than or equal to 5"
     ]
    }
   ],
   "source": [
    "x = 10\n",
    "if x > 5:\n",
    "    raise ValueError(\"x should be less than or equal to 5\")"
   ]
  },
  {
   "cell_type": "markdown",
   "id": "35c782e3",
   "metadata": {},
   "source": [
    "##### finally\n",
    ">In Python, finally is a keyword used to define a block of code that should be executed regardless of whether an exception was raised or not. The finally block is often used to perform cleanup tasks, such as closing files, releasing resources, or cleaning up temporary files."
   ]
  },
  {
   "cell_type": "code",
   "execution_count": 21,
   "id": "f8c0d0ee",
   "metadata": {},
   "outputs": [
    {
     "name": "stdout",
     "output_type": "stream",
     "text": [
      "5\n",
      "This is always executed\n"
     ]
    }
   ],
   "source": [
    "try:\n",
    "    k = 5//1 # raises divide by zero exception.\n",
    "    print(k)\n",
    "\n",
    "# handles zerodivision exception    \n",
    "except ZeroDivisionError:   \n",
    "    print(\"Can't divide by zero\")\n",
    "      \n",
    "finally:\n",
    "    # this block is always executed \n",
    "    # regardless of exception generation.\n",
    "    print('This is always executed') "
   ]
  },
  {
   "cell_type": "markdown",
   "id": "b074d326",
   "metadata": {},
   "source": [
    "#### Q5. What are custom exception in python.Why do we need custom exception. Explain with an example"
   ]
  },
  {
   "cell_type": "markdown",
   "id": "e1a54b63",
   "metadata": {},
   "source": [
    "Custom exceptions in Python are user-defined exceptions that can be created by defining a new exception class that inherits from the built-in Exception class. Custom exceptions are useful in situations where the built-in exception types do not adequately describe the error or exceptional condition being raised."
   ]
  },
  {
   "cell_type": "markdown",
   "id": "5a59ba56",
   "metadata": {},
   "source": [
    "Custom exceptions can be useful for a number of reasons, including:\n",
    "\n",
    "- They allow you to create more descriptive and specific error messages that can help with debugging and troubleshooting.\n",
    "\n",
    "- They can help to centralize error handling logic in your code, by allowing you to catch and handle multiple types of errors in a single except block.\n",
    "\n",
    "- They can make your code more readable and maintainable, by providing a consistent and clear way of handling specific types of errors."
   ]
  },
  {
   "cell_type": "code",
   "execution_count": 49,
   "id": "3a7dd38f",
   "metadata": {},
   "outputs": [
    {
     "name": "stdout",
     "output_type": "stream",
     "text": [
      "Error: The age is too high\n"
     ]
    }
   ],
   "source": [
    "## Inheriting the exception class in age checker\n",
    "class age_checker(Exception):\n",
    "    pass\n",
    "\n",
    "# function to pass the age\n",
    "def ages(a):\n",
    "    \n",
    "## raising errors\n",
    "    if a > 100 :\n",
    "        raise age_checker(\"The age is too high\")\n",
    "    if a < 0 :\n",
    "        raise age_checker(\"The age is negative\")\n",
    "        \n",
    "# try block where exception might happen        \n",
    "try:\n",
    "    \n",
    "    ages(110)\n",
    "# invoking age checker as e using except\n",
    "except age_checker as e:\n",
    "        print(\"Error:\" ,e)\n",
    "        \n",
    "# else block \n",
    "else:\n",
    "        print(\"Error:\",e)"
   ]
  },
  {
   "cell_type": "markdown",
   "id": "53e5ede5",
   "metadata": {},
   "source": [
    "#### Q6. Create a custom exception class.Use this class to handel an exception"
   ]
  },
  {
   "cell_type": "code",
   "execution_count": 42,
   "id": "addc783c",
   "metadata": {},
   "outputs": [
    {
     "name": "stdout",
     "output_type": "stream",
     "text": [
      "Error: Height value too high\n"
     ]
    }
   ],
   "source": [
    "## inheriting the exception class\n",
    "class NegativeHeightException(Exception):\n",
    "    \"\"\"Exception raised when a negative height value is encountered\"\"\"\n",
    "    pass\n",
    "## creating a function\n",
    "def calculate_area(height):\n",
    "\n",
    "    if height < 0:\n",
    "        # raising excpetion\n",
    "        raise NegativeHeightException(\"Height value cannot be negative\")\n",
    "    if height > 7.5:\n",
    "        # raising exception\n",
    "        raise NegativeHeightException(\"Height value too high\")\n",
    "    return height \n",
    "\n",
    "# Example usage\n",
    "try:\n",
    "    area = calculate_area(10)\n",
    "except NegativeHeightException as e:\n",
    "    print(\"Error:\", e)\n",
    "else:\n",
    "    print(\"Area:\", area)"
   ]
  },
  {
   "cell_type": "code",
   "execution_count": null,
   "id": "a50f49a4",
   "metadata": {},
   "outputs": [],
   "source": []
  },
  {
   "cell_type": "code",
   "execution_count": null,
   "id": "b60a605d",
   "metadata": {},
   "outputs": [],
   "source": []
  },
  {
   "cell_type": "code",
   "execution_count": null,
   "id": "b93263b4",
   "metadata": {},
   "outputs": [],
   "source": []
  },
  {
   "cell_type": "code",
   "execution_count": null,
   "id": "9ddf0b04",
   "metadata": {},
   "outputs": [],
   "source": []
  },
  {
   "cell_type": "code",
   "execution_count": null,
   "id": "51e86ed4",
   "metadata": {},
   "outputs": [],
   "source": []
  }
 ],
 "metadata": {
  "kernelspec": {
   "display_name": "Python 3 (ipykernel)",
   "language": "python",
   "name": "python3"
  },
  "language_info": {
   "codemirror_mode": {
    "name": "ipython",
    "version": 3
   },
   "file_extension": ".py",
   "mimetype": "text/x-python",
   "name": "python",
   "nbconvert_exporter": "python",
   "pygments_lexer": "ipython3",
   "version": "3.9.12"
  }
 },
 "nbformat": 4,
 "nbformat_minor": 5
}
