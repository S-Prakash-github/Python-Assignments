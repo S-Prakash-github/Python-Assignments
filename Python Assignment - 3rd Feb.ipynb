{
 "cells": [
  {
   "cell_type": "markdown",
   "id": "61003891",
   "metadata": {},
   "source": [
    "#### Q1. Which keyword is used to create a function? Create a function to return a list of odd numbers in the range of 1 to 25 ?"
   ]
  },
  {
   "cell_type": "markdown",
   "id": "a0524135",
   "metadata": {},
   "source": [
    "-> Python def keyword is used to define a function, it is placed before a function name that is provided by the user to \n",
    "create a user-defined function. In python, a function is a logical unit of code containing a sequence of statements indented \n",
    "under a name given using the “def” keyword."
   ]
  },
  {
   "cell_type": "code",
   "execution_count": 4,
   "id": "b4e70441",
   "metadata": {},
   "outputs": [
    {
     "name": "stdout",
     "output_type": "stream",
     "text": [
      "1\n",
      "3\n",
      "5\n",
      "7\n",
      "9\n",
      "11\n",
      "13\n",
      "15\n",
      "17\n",
      "19\n",
      "21\n",
      "23\n"
     ]
    }
   ],
   "source": [
    "## function to list odd numbers in range 1 to 25\n",
    "\n",
    "def odd_num(x,y):\n",
    "    if x>y:\n",
    "        print(\"invalid input\")\n",
    "    for i in range(x,y):\n",
    "        if i %2 != 0 or i == 1:\n",
    "            print(i)\n",
    "            \n",
    "odd_num(1,25)"
   ]
  },
  {
   "cell_type": "markdown",
   "id": "64b5c206",
   "metadata": {},
   "source": [
    "#### Q2. Why *args and **kwargs is used in some functions? Create a function each for *args and **kwargs to demonstrate their use."
   ]
  },
  {
   "cell_type": "markdown",
   "id": "0f1a014b",
   "metadata": {},
   "source": [
    "The special syntax *args in function definitions in python is used to pass a variable number of arguments to a function. It is used to pass a non-key worded, variable-length argument list. \n",
    "\n",
    "- The syntax is to use the symbol * to take in a variable number of arguments; by convention, it is often used with the word args.\n",
    "- What *args allows you to do is take in more arguments than the number of formal arguments that you previously defined. With *args, any number of extra arguments can be tacked on to your current formal parameters (including zero extra arguments).\n",
    "- For example, we want to make a multiply function that takes any number of arguments and is able to multiply them all together. It can be done using *args.\n",
    "- Using the *, the variable that we associate with the * becomes an iterable meaning you can do things like iterate over it, run some higher-order functions such as map and filter, etc."
   ]
  },
  {
   "cell_type": "markdown",
   "id": "b0a997d4",
   "metadata": {},
   "source": [
    "The special syntax **kwargs in function definitions in python is used to pass a keyworded, variable-length argument list. We use the name kwargs with the double star. The reason is that the double star allows us to pass through keyword arguments (and any number ofthem).\n",
    "\n",
    "- A keyword argument is where you provide a name to the variable as you pass it into the function.\n",
    "- One can think of the kwargs as being a dictionary that maps each keyword to the value that we pass alongside it. That is why when we iterate over the kwargs there doesn’t seem to be any order in which they were printed out."
   ]
  },
  {
   "cell_type": "markdown",
   "id": "9beb19b6",
   "metadata": {},
   "source": [
    "> 1) Create a function that accepts any number of numbers as positional arguments and prints the sum of those numbers."
   ]
  },
  {
   "cell_type": "code",
   "execution_count": 2,
   "id": "e534a2ec",
   "metadata": {},
   "outputs": [
    {
     "name": "stdout",
     "output_type": "stream",
     "text": [
      "34\n"
     ]
    }
   ],
   "source": [
    "def args(*args):\n",
    "    print(sum(args))\n",
    "    \n",
    "args(1,5,6,8,9,5)"
   ]
  },
  {
   "cell_type": "markdown",
   "id": "ed6d1e01",
   "metadata": {},
   "source": [
    ">2) Create a function that accepts any number of positional and keyword arguments, and that prints them back to the user. Your output should indicate which values were provided as positional arguments, and which were provided as keyword arguments."
   ]
  },
  {
   "cell_type": "code",
   "execution_count": 10,
   "id": "4f5eab31",
   "metadata": {},
   "outputs": [
    {
     "name": "stdout",
     "output_type": "stream",
     "text": [
      "Positional arguments:\n",
      "[1, 2, 3]\n",
      "Keyword arguments:\n",
      "name = Prakash\n",
      "last_name = Singh\n",
      "Subject = Data Science\n"
     ]
    }
   ],
   "source": [
    "def print_args(*args, **kwargs):\n",
    "    print(\"Positional arguments:\")\n",
    "    for arg in args:\n",
    "        print(arg)\n",
    "    print(\"Keyword arguments:\")\n",
    "    for key, value in kwargs.items():\n",
    "        print(key, \"=\", value)\n",
    "    \n",
    "print_args([1,2,3],name=\"Prakash\",last_name = \"Singh\",Subject = \"Data Science\")"
   ]
  },
  {
   "cell_type": "markdown",
   "id": "8023639e",
   "metadata": {},
   "source": [
    "#### Q3.  What is an iterator in python? Name the method used to initialise the iterator object and the method used for iteration. \n",
    ">Use these methods to print the first five elements of the given list [2, 4, 6, 8, 10, 12, 14, 16, 18, 20]"
   ]
  },
  {
   "cell_type": "markdown",
   "id": "cb07a678",
   "metadata": {},
   "source": [
    "Iterator in Python is an object that is used to iterate over iterable objects like lists, tuples, dicts, and sets. The iterator object is initialized using the iter() method. It uses the next() method for iteration.\n",
    "\n",
    "__iter__(): The iter() method is called for the initialization of an iterator. This returns an iterator object\n",
    "\n",
    "__next__(): The next method returns the next value for the iterable. When we use a for loop to traverse any iterable object, internally it uses the iter() method to get an iterator object, which further uses the next() method to iterate over. This method raises a StopIteration to signal the end of the iteration."
   ]
  },
  {
   "cell_type": "code",
   "execution_count": 13,
   "id": "138dab53",
   "metadata": {},
   "outputs": [
    {
     "name": "stdout",
     "output_type": "stream",
     "text": [
      "10\n",
      "4\n",
      "6\n",
      "8\n",
      "10\n"
     ]
    }
   ],
   "source": [
    "## Printing the first 5 elements from the list using iter and next\n",
    "l = [2, 4, 6, 8, 10, 12, 14, 16, 18, 20]\n",
    "iteration_5 = iter(l)\n",
    "\n",
    "print(next(iteration_5))\n",
    "print(next(iteration_5))\n",
    "print(next(iteration_5))\n",
    "print(next(iteration_5))\n",
    "print(next(iteration_5))"
   ]
  },
  {
   "cell_type": "markdown",
   "id": "7d1516a5",
   "metadata": {},
   "source": [
    "#### Q4.  What is a generator function in python? Why yield keyword is used? Give an example of a generator function."
   ]
  },
  {
   "cell_type": "markdown",
   "id": "0ca27208",
   "metadata": {},
   "source": [
    "Generator-Function:Python Generators are the functions that return the traversal object and used to create iterators. It traverses the entire items at once.\n",
    "\n",
    "A generator-function is defined like a normal function, but whenever it needs to generate a value, it does so with the yield keyword rather than return. If the body of a def contains yield, the function automatically becomes a generator function. "
   ]
  },
  {
   "cell_type": "code",
   "execution_count": 18,
   "id": "2014405f",
   "metadata": {},
   "outputs": [
    {
     "name": "stdout",
     "output_type": "stream",
     "text": [
      "0\n",
      "2\n",
      "4\n",
      "6\n",
      "8\n"
     ]
    }
   ],
   "source": [
    "## creating function\n",
    "def generator_even(n):\n",
    "    \n",
    "    # intitalizing for loop\n",
    "    for i in range(n):\n",
    "        if i % 2 == 0 :\n",
    "            yield i\n",
    "#Successive Function call using for loop  \n",
    "for i in generator(10):\n",
    "    print(i)"
   ]
  },
  {
   "cell_type": "code",
   "execution_count": 4,
   "id": "f17c7f4e",
   "metadata": {},
   "outputs": [
    {
     "name": "stdout",
     "output_type": "stream",
     "text": [
      "0\n",
      "1\n",
      "2\n"
     ]
    }
   ],
   "source": [
    "def my_generator(n):\n",
    "\n",
    "    # initialize counter\n",
    "    value = 0\n",
    "\n",
    "    # loop until counter is less than n\n",
    "    while value < n:\n",
    "\n",
    "        # produce the current value of the counter\n",
    "        yield value\n",
    "\n",
    "        # increment the counter\n",
    "        value += 1\n",
    "\n",
    "# iterate over the generator object produced by my_generator\n",
    "for value in my_generator(3):\n",
    "\n",
    "    # print each value produced by generator\n",
    "    print(value)"
   ]
  },
  {
   "cell_type": "markdown",
   "id": "06461ae7",
   "metadata": {},
   "source": [
    "#### Q5. Create a generator function for prime numbers less than 1000. Use the next() method to print the first 20 prime numbers."
   ]
  },
  {
   "cell_type": "code",
   "execution_count": 32,
   "id": "77ebe0a8",
   "metadata": {},
   "outputs": [
    {
     "name": "stdout",
     "output_type": "stream",
     "text": [
      "0\n",
      "1\n",
      "2\n",
      "3\n",
      "4\n",
      "5\n",
      "6\n",
      "7\n",
      "8\n",
      "9\n",
      "10\n",
      "11\n",
      "12\n",
      "13\n",
      "14\n",
      "15\n",
      "16\n",
      "17\n",
      "18\n",
      "19\n"
     ]
    }
   ],
   "source": [
    "def prime_numbers():\n",
    "    yield 2\n",
    "    prime_list = [2]\n",
    "    num = 3\n",
    "    while num < 1000:\n",
    "        for prime in prime_list:\n",
    "            if num % prime == 0:\n",
    "                break\n",
    "        else:\n",
    "            yield num\n",
    "            prime_list.append(num)\n",
    "        num += 2\n",
    "\n",
    "# Using the generator function to print the first 20 prime numbers\n",
    "prime_gen = prime_numbers()\n",
    "for i in range(20):\n",
    "    print(i)"
   ]
  },
  {
   "cell_type": "markdown",
   "id": "d883a110",
   "metadata": {},
   "source": [
    "#### Q6. Write a python program to print the first 10 Fibonacci numbers using a while loop."
   ]
  },
  {
   "cell_type": "code",
   "execution_count": 3,
   "id": "8203c32a",
   "metadata": {},
   "outputs": [
    {
     "name": "stdout",
     "output_type": "stream",
     "text": [
      "the range10\n",
      "0\n",
      "1\n",
      "1\n",
      "2\n",
      "3\n",
      "5\n",
      "8\n",
      "13\n",
      "21\n",
      "34\n"
     ]
    }
   ],
   "source": [
    "## user input\n",
    "n = int(input(\"the range\"))\n",
    "i = 0\n",
    "a,b = 0 ,1\n",
    "while i < n:\n",
    "    print(a)\n",
    "    a,b = b, b +a\n",
    "    i = i + 1"
   ]
  },
  {
   "cell_type": "markdown",
   "id": "59733901",
   "metadata": {},
   "source": [
    "#### Q7. Write a List Comprehension to iterate through the given string: ‘pwskills’.\n",
    "\n",
    ">Expected output: ['p', 'w', 's', 'k', 'i', 'l', 'l', 's']"
   ]
  },
  {
   "cell_type": "code",
   "execution_count": 33,
   "id": "01f08964",
   "metadata": {},
   "outputs": [
    {
     "name": "stdout",
     "output_type": "stream",
     "text": [
      "['p', 'w', 's', 'k', 'i', 'l', 'l', 's']\n"
     ]
    }
   ],
   "source": [
    "string = \"pwskills\"\n",
    "l = [i for i in string]\n",
    "print(l)\n"
   ]
  },
  {
   "cell_type": "markdown",
   "id": "fec4f370",
   "metadata": {},
   "source": [
    "#### Q8. Write a python program to check whether a given number is Palindrome or not using a while loop."
   ]
  },
  {
   "cell_type": "code",
   "execution_count": 2,
   "id": "81a5bce0",
   "metadata": {},
   "outputs": [
    {
     "name": "stdout",
     "output_type": "stream",
     "text": [
      "Enter a string: prakashp\n",
      "The string is not a palindrome\n"
     ]
    }
   ],
   "source": [
    "## Using while loop to find a number is palindrome or not\n",
    "string = input(\"Enter a string: \")\n",
    "left_index = 0\n",
    "right_index = len(string) - 1\n",
    "\n",
    "while right_index > left_index:\n",
    "    if string[left_index] != string[right_index]:\n",
    "        print(\"The string is not a palindrome\")\n",
    "        break\n",
    "    left_index += 1\n",
    "    right_index -= 1\n",
    "else:\n",
    "    print(\"The string is a palindrome\")"
   ]
  },
  {
   "cell_type": "code",
   "execution_count": null,
   "id": "356aa14a",
   "metadata": {},
   "outputs": [],
   "source": []
  },
  {
   "cell_type": "markdown",
   "id": "a0e5e15c",
   "metadata": {},
   "source": [
    "#### Q9. Write a code to print odd numbers from 1 to 100 using list comprehension.\n",
    "\n",
    "> Note: Use a list comprehension to create a list from 1 to 100 and use another List comprehension to filter \n",
    "  out odd numbers"
   ]
  },
  {
   "cell_type": "code",
   "execution_count": 2,
   "id": "1b27b705",
   "metadata": {},
   "outputs": [
    {
     "name": "stdout",
     "output_type": "stream",
     "text": [
      "[1, 3, 5, 7, 9, 11, 13, 15, 17, 19, 21, 23, 25, 27, 29, 31, 33, 35, 37, 39, 41, 43, 45, 47, 49, 51, 53, 55, 57, 59, 61, 63, 65, 67, 69, 71, 73, 75, 77, 79, 81, 83, 85, 87, 89, 91, 93, 95, 97, 99]\n"
     ]
    }
   ],
   "source": [
    "## using list comprehension to create a list\n",
    "\n",
    "l = [i for i in range(1,100) if i%2 != 0 or i== 1]\n",
    "print(l)"
   ]
  },
  {
   "cell_type": "code",
   "execution_count": null,
   "id": "c2cef9f9",
   "metadata": {},
   "outputs": [],
   "source": []
  }
 ],
 "metadata": {
  "kernelspec": {
   "display_name": "Python 3 (ipykernel)",
   "language": "python",
   "name": "python3"
  },
  "language_info": {
   "codemirror_mode": {
    "name": "ipython",
    "version": 3
   },
   "file_extension": ".py",
   "mimetype": "text/x-python",
   "name": "python",
   "nbconvert_exporter": "python",
   "pygments_lexer": "ipython3",
   "version": "3.9.12"
  }
 },
 "nbformat": 4,
 "nbformat_minor": 5
}
