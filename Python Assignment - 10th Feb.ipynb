{
 "cells": [
  {
   "cell_type": "markdown",
   "id": "b30e60b8",
   "metadata": {},
   "source": [
    "#### Q1. Which function is used to open a file? What are the different modes of opening a file? Explain each mode of file opening."
   ]
  },
  {
   "cell_type": "markdown",
   "id": "2f53f99c",
   "metadata": {},
   "source": [
    "open() function is used to open a file in Python. It's mainly required two arguments, first the file name and then file opening mode.\n",
    "\n",
    "It is a standard function which is used to open a file. If the file is not present on the system, then it is created and then opened. If a file is already present on the system, then it is directly opened using this function.\n",
    "\n",
    "file_object = open(filename,modes,buffering)\n",
    "\n",
    "> Modes in file:\n",
    "- \"w\" = Opens a file for writing. (If a file doesn't exist already, then it creates a new file. Otherwise, it's truncate a      file.)\n",
    "- \"r\" = Opens a file for reading only. (It's a default mode.)\n",
    "- \"x\" = Opens a file for exclusive creation. (Operation fails if a file does not exist in the location.)\n",
    "- \"a\" =\tOpens a file for appending at the end of the file without truncating it. (Creates a new file if it does not exist in the location.)\n",
    "- \"t\" =\tOpens a file in text mode. (It's a default mode.)\n",
    "- \"b\" =\tOpens a file in binary mode.\n",
    "- \"+\" =\tOpens a file for updating (reading and writing.)"
   ]
  },
  {
   "cell_type": "markdown",
   "id": "07d79511",
   "metadata": {},
   "source": [
    "#### Q2. Why close() function is used? Why is it important to close a file."
   ]
  },
  {
   "cell_type": "markdown",
   "id": "9597aee1",
   "metadata": {},
   "source": [
    "The close () function closes the connection between the program and an open file identified by a handle.\n",
    "\n",
    "After writing into the file with write() function we must use the close() function in order to save the made changes inside the memory. Any unwritten system buffers are flushed to the disk, and system resources used by the file are released.\n"
   ]
  },
  {
   "cell_type": "markdown",
   "id": "6f083075",
   "metadata": {},
   "source": [
    "#### Q3. Write a python program to create a text file. Write ‘I want to become a Data Scientist’ in that file. Then close the file. Open this file and read the content of the file.  "
   ]
  },
  {
   "cell_type": "code",
   "execution_count": 19,
   "id": "e76affee",
   "metadata": {},
   "outputs": [],
   "source": [
    "## creating a file \n",
    "file = open(\"test.txt\",\"w\")\n",
    "\n",
    "# writing \n",
    "file.write(\"I want to become a Data Scientist\")\n",
    "file.write('''readlines is used to read all the lines at a single go \n",
    "           and then return them as each line a string element in a list. This \n",
    "           function can be used for small files, as it reads the whole file content to t\n",
    "           he memory, then split it into separate lines. We can iterate over the list and str\n",
    "           ip the newline ‘\\n’ character using strip() function''')\n",
    "# closing to save the made changes saved into the memory\n",
    "file.close()"
   ]
  },
  {
   "cell_type": "markdown",
   "id": "8bf72c30",
   "metadata": {},
   "source": [
    "#### Q4. Explain the following with python code: read(), readline() and readlines()"
   ]
  },
  {
   "cell_type": "markdown",
   "id": "64a90d7e",
   "metadata": {},
   "source": [
    ">read() reads the entire file and returns a string,"
   ]
  },
  {
   "cell_type": "code",
   "execution_count": 20,
   "id": "0cb5548d",
   "metadata": {
    "scrolled": true
   },
   "outputs": [
    {
     "data": {
      "text/plain": [
       "'I want to become a Data Scientistreadlines is used to read all the lines at a single go \\n           and then return them as each line a string element in a list. This \\n           function can be used for small files, as it reads the whole file content to t\\n           he memory, then split it into separate lines. We can iterate over the list and str\\n           ip the newline ‘\\n’ character using strip() function'"
      ]
     },
     "execution_count": 20,
     "metadata": {},
     "output_type": "execute_result"
    }
   ],
   "source": [
    "file = open(\"test.txt\",\"r\")\n",
    "file.read()"
   ]
  },
  {
   "cell_type": "markdown",
   "id": "be7bba96",
   "metadata": {},
   "source": [
    ">readline() reads just one line from a file,"
   ]
  },
  {
   "cell_type": "code",
   "execution_count": 32,
   "id": "7b995407",
   "metadata": {
    "scrolled": true
   },
   "outputs": [
    {
     "data": {
      "text/plain": [
       "'I want to become a Data Scientistreadlines is used to read all the lines at a single go \\n'"
      ]
     },
     "execution_count": 32,
     "metadata": {},
     "output_type": "execute_result"
    }
   ],
   "source": [
    "file.seek(0)\n",
    "file.readline()"
   ]
  },
  {
   "cell_type": "markdown",
   "id": "7c2c9503",
   "metadata": {},
   "source": [
    ">readlines() is used to read all the lines at a single go and then return them as each line a string element in a list. This function can be used for small files, as it reads the whole file content to the memory, then split it into separate lines. We can iterate over the list and strip the newline ‘\\n’ character using strip() function.\n"
   ]
  },
  {
   "cell_type": "code",
   "execution_count": 30,
   "id": "399d3e72",
   "metadata": {},
   "outputs": [
    {
     "data": {
      "text/plain": [
       "['I want to become a Data Scientistreadlines is used to read all the lines at a single go \\n',\n",
       " '           and then return them as each line a string element in a list. This \\n',\n",
       " '           function can be used for small files, as it reads the whole file content to t\\n',\n",
       " '           he memory, then split it into separate lines. We can iterate over the list and str\\n',\n",
       " '           ip the newline ‘\\n',\n",
       " '’ character using strip() function']"
      ]
     },
     "execution_count": 30,
     "metadata": {},
     "output_type": "execute_result"
    }
   ],
   "source": [
    "file.seek(0)\n",
    "f = file.readlines()\n",
    "f"
   ]
  },
  {
   "cell_type": "markdown",
   "id": "b06c0d3a",
   "metadata": {},
   "source": [
    "#### Q5. Explain why with statement is used with open(). What is the advantage of using with statement and  open() together?"
   ]
  },
  {
   "cell_type": "markdown",
   "id": "056961be",
   "metadata": {},
   "source": [
    "The with statement is used in conjunction with open() to ensure that the file is properly closed after you are done working with it. The with statement creates a context in which the file object exists, and when you exit the context, the file is automatically closed."
   ]
  },
  {
   "cell_type": "code",
   "execution_count": 37,
   "id": "eb4c7f25",
   "metadata": {},
   "outputs": [
    {
     "name": "stdout",
     "output_type": "stream",
     "text": [
      "I want to become a Data Scientistreadlines is used to read all the lines at a single go \n",
      "           and then return them as each line a string element in a list. This \n",
      "           function can be used for small files, as it reads the whole file content to t\n",
      "           he memory, then split it into separate lines. We can iterate over the list and str\n",
      "           ip the newline ‘\n",
      "’ character using strip() function\n"
     ]
    }
   ],
   "source": [
    "with open(\"test.txt\", \"r\") as f:\n",
    "          f = f.read()\n",
    "          print(f)"
   ]
  },
  {
   "cell_type": "markdown",
   "id": "0c84fa03",
   "metadata": {},
   "source": [
    "#### Q6. Explain the write() and writelines() functions. Give a suitable example"
   ]
  },
  {
   "cell_type": "markdown",
   "id": "48b79ede",
   "metadata": {},
   "source": [
    ">The write() method is used to write a single string to a file."
   ]
  },
  {
   "cell_type": "code",
   "execution_count": 40,
   "id": "67fcc557",
   "metadata": {},
   "outputs": [
    {
     "name": "stdout",
     "output_type": "stream",
     "text": [
      "33\n",
      "I want to become a data scientist\n"
     ]
    }
   ],
   "source": [
    "## using the write function\n",
    "with open(\"test.txt\", \"w\") as f:\n",
    "          file = f.write(\"I want to become a data scientist\")\n",
    "          print(file)\n",
    "            \n",
    "# reading the file           \n",
    "with open(\"test.txt\",\"r\") as d:\n",
    "    file = d.read()\n",
    "    print(file)"
   ]
  },
  {
   "cell_type": "markdown",
   "id": "479cdc5f",
   "metadata": {},
   "source": [
    ">The writelines() method is used to write a sequence of strings to a file. "
   ]
  },
  {
   "cell_type": "code",
   "execution_count": 45,
   "id": "19c202a8",
   "metadata": {},
   "outputs": [
    {
     "name": "stdout",
     "output_type": "stream",
     "text": [
      "I want to become a data scientist\n",
      "I want to become a Data Scientist\n",
      "I want to become a Data Scientist\n",
      "\n"
     ]
    }
   ],
   "source": [
    "## using the writelines function\n",
    "with open(\"test.txt\", \"w\") as f:\n",
    "    # list of lines\n",
    "          lines = [\"I want to become a data scientist\\n\" , \"I want to become a Data Scientist\\n\" , \"I want to become a Data Scientist\\n\"]\n",
    "          f.writelines(lines)\n",
    "\n",
    "# reading the file\n",
    "with open(\"test.txt\",\"r\") as d:\n",
    "    file = d.read()\n",
    "    print(file)"
   ]
  },
  {
   "cell_type": "code",
   "execution_count": null,
   "id": "270099f1",
   "metadata": {},
   "outputs": [],
   "source": []
  },
  {
   "cell_type": "code",
   "execution_count": null,
   "id": "70d23c82",
   "metadata": {},
   "outputs": [],
   "source": []
  },
  {
   "cell_type": "code",
   "execution_count": null,
   "id": "0f8f7821",
   "metadata": {},
   "outputs": [],
   "source": []
  },
  {
   "cell_type": "code",
   "execution_count": null,
   "id": "65e0ddb6",
   "metadata": {},
   "outputs": [],
   "source": []
  },
  {
   "cell_type": "code",
   "execution_count": null,
   "id": "a80291bf",
   "metadata": {},
   "outputs": [],
   "source": []
  },
  {
   "cell_type": "code",
   "execution_count": null,
   "id": "3146f502",
   "metadata": {},
   "outputs": [],
   "source": []
  },
  {
   "cell_type": "code",
   "execution_count": null,
   "id": "c66e9095",
   "metadata": {},
   "outputs": [],
   "source": []
  }
 ],
 "metadata": {
  "kernelspec": {
   "display_name": "Python 3 (ipykernel)",
   "language": "python",
   "name": "python3"
  },
  "language_info": {
   "codemirror_mode": {
    "name": "ipython",
    "version": 3
   },
   "file_extension": ".py",
   "mimetype": "text/x-python",
   "name": "python",
   "nbconvert_exporter": "python",
   "pygments_lexer": "ipython3",
   "version": "3.9.12"
  }
 },
 "nbformat": 4,
 "nbformat_minor": 5
}
