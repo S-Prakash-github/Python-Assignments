{
 "cells": [
  {
   "cell_type": "markdown",
   "id": "39555e00",
   "metadata": {},
   "source": [
    "## 30th JAN Assignment :"
   ]
  },
  {
   "cell_type": "markdown",
   "id": "acbf6bb7",
   "metadata": {},
   "source": [
    "#### 1. Write a program to display the grade according to the criteria\n",
    "\n",
    "  > (>90 == A  ,   >80 and <= 90 == B   ,   >60 and <= 80 == c  ,  below 60 == D)\n"
   ]
  },
  {
   "cell_type": "code",
   "execution_count": 6,
   "id": "10f0aad9",
   "metadata": {},
   "outputs": [
    {
     "name": "stdout",
     "output_type": "stream",
     "text": [
      "Enter the percentage obtained :60\n",
      "You have obtaineds Grade D\n"
     ]
    }
   ],
   "source": [
    "## Taking user input\n",
    "n = int(input(\"Enter the percentage obtained :\"))\n",
    "\n",
    "# Conditions \n",
    "if n > 90 :\n",
    "    print(\"You have obtained Grade A\")\n",
    "elif n>80 and n <= 90 :\n",
    "    print(\"You have obtained Grade B\")\n",
    "elif n>60 and n <=80 :\n",
    "    print(\"You have obtained Grade C\")\n",
    "else:\n",
    "    print(\"You have obtaineds Grade D\")"
   ]
  },
  {
   "cell_type": "markdown",
   "id": "c81c2932",
   "metadata": {},
   "source": [
    "#### 2. Write a Python Program to accept cost price of a bike and show the road tax  for that price of the bike \n",
    "> (15% on >100000 , 10% on >50000 and <= 100000  , 5% below 50000)"
   ]
  },
  {
   "cell_type": "code",
   "execution_count": 18,
   "id": "8299385a",
   "metadata": {},
   "outputs": [
    {
     "name": "stdout",
     "output_type": "stream",
     "text": [
      "Enter the price of the bike : 100000\n",
      "10000.0\n",
      "110000.0\n"
     ]
    }
   ],
   "source": [
    "## User input\n",
    "price = int(input(\"Enter the price of the bike : \"))\n",
    "\n",
    "# Conditions\n",
    "if price > 100000 :\n",
    "    # finding the tax on the price\n",
    "    \n",
    "    tax = (price /100)*15\n",
    "    print(tax)\n",
    "    \n",
    "    # totalcost price including tax\n",
    "    total_cost = tax + price\n",
    "    print(total_cost)\n",
    "\n",
    "elif price >50000 and price <=100000:\n",
    "    tax = (price /100)*10\n",
    "    print(tax)\n",
    "    total_cost = tax + price\n",
    "    print(total_cost)\n",
    "else :\n",
    "    tax = (price /100)*5\n",
    "    print(tax)\n",
    "    total_cost = tax + price\n",
    "    print(total_cost)"
   ]
  },
  {
   "cell_type": "markdown",
   "id": "da73fe3e",
   "metadata": {},
   "source": [
    "#### 3. Appect any city from the user and display the monuments in that city?\n",
    "> (Argra == Taj Mahal , Delhi == Red Fort , Jaipur == Jal Mahal, Kolkata == Victoria Memorial.)"
   ]
  },
  {
   "cell_type": "code",
   "execution_count": 21,
   "id": "af56ad80",
   "metadata": {},
   "outputs": [
    {
     "name": "stdout",
     "output_type": "stream",
     "text": [
      "Enter the city name Agra,Delhi,Jaipur,KolkataJaipur\n",
      "Jal Mahal\n"
     ]
    }
   ],
   "source": [
    "city = input(\"Enter the city name Agra,Delhi,Jaipur,Kolkata\")\n",
    "if city == \"Agra\" :\n",
    "    print(\"Taj Mahal\")\n",
    "elif city == \"Delhi\" :\n",
    "    print(\"Red Fort\")\n",
    "elif city == \"Jaipur\":\n",
    "    print(\"Jal Mahal\")\n",
    "else:\n",
    "    print(\"Victoria Mermorial\")"
   ]
  },
  {
   "cell_type": "markdown",
   "id": "d80e256e",
   "metadata": {},
   "source": [
    "#### 4.Check how many times a given number can be divided by 3 before it is less than or equal to 10?"
   ]
  },
  {
   "cell_type": "code",
   "execution_count": 54,
   "id": "c24f6931",
   "metadata": {},
   "outputs": [
    {
     "name": "stdout",
     "output_type": "stream",
     "text": [
      "Not Divisible\n",
      "0 times it can be divided by 3 Before it reaches 10\n"
     ]
    }
   ],
   "source": [
    "## Creating a function \n",
    "def divBy3(n):\n",
    "    times = 0 \n",
    "    while n > 10:\n",
    "        n = (n/3)\n",
    "        if n>=10 :\n",
    "            times = times +1 \n",
    "        else:\n",
    "            print(\"Not Divisible\")\n",
    "    print(times,\"times it can be divided by 3 Before it reaches 10\")   \n",
    "\n",
    "divBy3(13)"
   ]
  },
  {
   "cell_type": "markdown",
   "id": "97e8fa53",
   "metadata": {},
   "source": [
    "#### 5. Why and when to use while loop give a detailed explanation with example?"
   ]
  },
  {
   "cell_type": "markdown",
   "id": "38e7aff3",
   "metadata": {},
   "source": [
    "-> While loops are used to repeat a sequence of statements an unknown number of times. \n",
    "This type of loop runs while a given condition is True and it only stops when the condition becomes False."
   ]
  },
  {
   "cell_type": "code",
   "execution_count": 22,
   "id": "3d50197a",
   "metadata": {},
   "outputs": [
    {
     "name": "stdout",
     "output_type": "stream",
     "text": [
      "4\n",
      "5\n",
      "6\n",
      "7\n"
     ]
    }
   ],
   "source": [
    "## Example of a while loop \n",
    "i = 4\n",
    "\n",
    "while i < 8:\n",
    "    print(i)\n",
    "    i += 1"
   ]
  },
  {
   "cell_type": "markdown",
   "id": "4808d73f",
   "metadata": {},
   "source": [
    "Explanation - \n",
    "\n",
    "Iteration 1: initially, the value of i is 4, so the condition i < 8 evaluates to True and the loop starts to run. \n",
    "             The value of i is printed (4) and this value is incremented by 1. The loop starts again.\n",
    "        \n",
    "Iteration 2: now the value of i is 5, so the condition i < 8 evaluates to True. The body of the loop runs, the \n",
    "             value of i is printed (5) and this value i is incremented by 1. The loop starts again.\n",
    "        \n",
    "Iterations 3 and 4: The same process is repeated for the third and fourth iterations, so the integers 6 and 7 are printed.\n",
    "                    Before starting the fifth iteration, the value of i is 8. Now the while loop condition i < 8 evaluates to\n",
    "                    False and the loop stops immediately.\n",
    "                    (If While loop condition is False at the first iteration then it will to execute the loop)"
   ]
  },
  {
   "cell_type": "markdown",
   "id": "ae212eee",
   "metadata": {},
   "source": [
    "#### 6.Use a nested while loop to print three different patters:"
   ]
  },
  {
   "cell_type": "code",
   "execution_count": 16,
   "id": "30c19707",
   "metadata": {},
   "outputs": [
    {
     "name": "stdout",
     "output_type": "stream",
     "text": [
      "4\n",
      "0 1 2 3\n",
      "0 1 2\n",
      "0 "
     ]
    }
   ],
   "source": [
    "def ranges(high,low):\n",
    "    \n",
    "    while high >= low:\n",
    "        print(high)\n",
    "        high = high - 1\n",
    "        y = 0\n",
    "        x = high\n",
    "        while x > y:\n",
    "            print (y, end = \" \")\n",
    "            y = y + 1\n",
    "ranges(4,2)"
   ]
  },
  {
   "cell_type": "markdown",
   "id": "8b80a6c9",
   "metadata": {},
   "source": [
    "#### 7. Reverse a while loop to display the numbers from 10 to 1?\n"
   ]
  },
  {
   "cell_type": "code",
   "execution_count": 25,
   "id": "ae00abde",
   "metadata": {},
   "outputs": [
    {
     "name": "stdout",
     "output_type": "stream",
     "text": [
      "10\n",
      "9\n",
      "8\n",
      "7\n",
      "6\n",
      "5\n",
      "4\n",
      "3\n",
      "2\n",
      "1\n"
     ]
    }
   ],
   "source": [
    "i = 10 \n",
    "while i != 0:\n",
    "    print(i)\n",
    "    i -= 1"
   ]
  },
  {
   "cell_type": "markdown",
   "id": "a2d481c6",
   "metadata": {},
   "source": [
    "#### 8. Reverse a while loop to display the numbers from 10 to 1?"
   ]
  },
  {
   "cell_type": "code",
   "execution_count": 30,
   "id": "f3984b4b",
   "metadata": {},
   "outputs": [
    {
     "name": "stdout",
     "output_type": "stream",
     "text": [
      "10\n",
      "9\n",
      "8\n",
      "7\n",
      "6\n",
      "5\n",
      "4\n",
      "3\n",
      "2\n",
      "1\n"
     ]
    }
   ],
   "source": [
    "i = 10 \n",
    "while i != 0:\n",
    "    print(i)\n",
    "    i -= 1"
   ]
  },
  {
   "cell_type": "code",
   "execution_count": null,
   "id": "1d19cd99",
   "metadata": {},
   "outputs": [],
   "source": []
  },
  {
   "cell_type": "code",
   "execution_count": null,
   "id": "064c4bcc",
   "metadata": {},
   "outputs": [],
   "source": []
  }
 ],
 "metadata": {
  "kernelspec": {
   "display_name": "Python 3 (ipykernel)",
   "language": "python",
   "name": "python3"
  },
  "language_info": {
   "codemirror_mode": {
    "name": "ipython",
    "version": 3
   },
   "file_extension": ".py",
   "mimetype": "text/x-python",
   "name": "python",
   "nbconvert_exporter": "python",
   "pygments_lexer": "ipython3",
   "version": "3.9.12"
  }
 },
 "nbformat": 4,
 "nbformat_minor": 5
}
