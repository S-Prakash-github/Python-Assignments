{
 "cells": [
  {
   "cell_type": "markdown",
   "id": "2722190d",
   "metadata": {},
   "source": [
    "#### Q1. What is a database? Differentiate between SQL and NoSQL databases"
   ]
  },
  {
   "cell_type": "markdown",
   "id": "a7d2ac78",
   "metadata": {},
   "source": [
    "Database, also called electronic database, any collection of data, or information, that is specially organized for rapid search and retrieval by a computer. Databases are structured to facilitate the storage, retrieval, modification, and deletion of data in conjunction with various data-processing operations. A database management system (DBMS) extracts information from the database in response to queries."
   ]
  },
  {
   "cell_type": "markdown",
   "id": "a83714ef",
   "metadata": {},
   "source": [
    "SQL\n",
    "- RELATIONAL DATABASE MANAGEMENT SYSTEM (RDBMS)\n",
    "- These databases are not suited for hierarchical data storage.\n",
    "- These databases have fixed or static or predefined schema.\n",
    "- Follows ACID property.\n",
    "- Vertically Scalable.\n",
    "- These databases are best suited for complex queries\n",
    "- Examples: MySQL, PostgreSQL, Oracle, MS-SQL Server, etc"
   ]
  },
  {
   "cell_type": "markdown",
   "id": "4162547a",
   "metadata": {},
   "source": [
    "NOSQL\n",
    "- Non-relational or distributed database system.\n",
    "- They have dynamic schema\n",
    "- These databases are best suited for hierarchical data storage.\n",
    "- These databases are not so good for complex queries\n",
    "- Horizontally scalable\n",
    "- Follows CAP(consistency, availability, partition tolerance)\n",
    "- Examples: MongoDB, GraphQL, HBase, Neo4j, Cassandra, etc"
   ]
  },
  {
   "cell_type": "markdown",
   "id": "f8a0d228",
   "metadata": {},
   "source": [
    "#### Q2. What is DDL? Explain why CREATE, DROP, ALTER, and TRUNCATE are used with an example"
   ]
  },
  {
   "cell_type": "markdown",
   "id": "7a1f8406",
   "metadata": {},
   "source": [
    "DDL stand for Data Defination Language.\n",
    "\n",
    "- CREATE: This command is used to create the database or its objects (like table, index, function, views, store procedure, and triggers).\n",
    "- DROP: This command is used to delete objects from the database.\n",
    "- ALTER: This is used to alter the structure of the database.\n",
    "- TRUNCATE: This is used to remove all records from a table, including all spaces allocated for the records are removed."
   ]
  },
  {
   "cell_type": "markdown",
   "id": "94df3493",
   "metadata": {},
   "source": [
    "###### CREATING TABLE and INSERTING VALUES"
   ]
  },
  {
   "cell_type": "code",
   "execution_count": 35,
   "id": "2e0d9adc",
   "metadata": {},
   "outputs": [],
   "source": [
    "import mysql.connector\n",
    "mydb = mysql.connector.connect(\n",
    "host = \"localhost\",\n",
    "user = \"Prakash\",\n",
    "password = \"1234\")\n",
    "mycursor = mydb.cursor()"
   ]
  },
  {
   "cell_type": "code",
   "execution_count": 45,
   "id": "d1339431",
   "metadata": {},
   "outputs": [],
   "source": [
    "## Creating a data base and table\n",
    "mycursor.execute(\"create database if not exists Employee \")\n",
    "sql = \"create table if not exists employee.details (name varchar(50), salary INT , Age INT, Location Varchar(50))\"\n",
    "mycursor.execute(sql)"
   ]
  },
  {
   "cell_type": "code",
   "execution_count": 46,
   "id": "1ad9ddb9",
   "metadata": {},
   "outputs": [],
   "source": [
    "## inserting data into the table \n",
    "mycursor.execute(\" insert into employee.details values ('Singh', 91000 , 21 , 'Kolkata')\")\n",
    "mydb.commit()"
   ]
  },
  {
   "cell_type": "code",
   "execution_count": 47,
   "id": "c7eee1a1",
   "metadata": {},
   "outputs": [],
   "source": [
    "## insertig multiple values \n",
    "mycursor.execute(\" insert into employee.details values ('Singh', 91000 , 21 , 'Kolkata'),('Rathore',12000,25,'Hyedrabad'),('Khan',80000,55,'Mumbai')\")\n",
    "mydb.commit()"
   ]
  },
  {
   "cell_type": "code",
   "execution_count": 48,
   "id": "4e7526e7",
   "metadata": {},
   "outputs": [
    {
     "name": "stdout",
     "output_type": "stream",
     "text": [
      "('Singh', 91000, 21, 'Kolkata')\n",
      "('Singh', 91000, 21, 'Kolkata')\n",
      "('Rathore', 12000, 25, 'Hyedrabad')\n",
      "('Khan', 80000, 55, 'Mumbai')\n"
     ]
    }
   ],
   "source": [
    "### using select statement to view the data inside the details table\n",
    "mycursor.execute(\"SELECT * FROM employee.details\")\n",
    "records = mycursor.fetchall()\n",
    "\n",
    "# print the records\n",
    "for record in records:\n",
    "    print(record)"
   ]
  },
  {
   "cell_type": "markdown",
   "id": "c92a0860",
   "metadata": {},
   "source": [
    "###### AlLTER TABLE                                                                          "
   ]
  },
  {
   "cell_type": "code",
   "execution_count": 49,
   "id": "91291ff7",
   "metadata": {
    "scrolled": true
   },
   "outputs": [],
   "source": [
    "## Creating a new column (Geder_) in an existing table details\n",
    "mycursor.execute(\"Alter table  employee.details add column Gender_ char\")\n",
    "mydb.commit()"
   ]
  },
  {
   "cell_type": "code",
   "execution_count": 51,
   "id": "d875db3b",
   "metadata": {},
   "outputs": [
    {
     "name": "stdout",
     "output_type": "stream",
     "text": [
      "name       salary    Age  Location    Gender_\n",
      "-------  --------  -----  ----------  ---------\n",
      "Singh       91000     21  Kolkata\n",
      "Singh       91000     21  Kolkata\n",
      "Rathore     12000     25  Hyedrabad\n",
      "Khan        80000     55  Mumbai\n"
     ]
    }
   ],
   "source": [
    "##  tabulate helps is showing the data inside a table in a tabular format\n",
    "from tabulate import tabulate\n",
    "mycursor.execute(\"select * from employee.details\")\n",
    "result_set = mycursor.fetchall()\n",
    "\n",
    "# display the data in a table format\n",
    "print(tabulate(result_set, headers=mycursor.column_names))"
   ]
  },
  {
   "cell_type": "markdown",
   "id": "b06cce10",
   "metadata": {},
   "source": [
    "###### DROP TABLE"
   ]
  },
  {
   "cell_type": "code",
   "execution_count": 14,
   "id": "65256989",
   "metadata": {},
   "outputs": [],
   "source": [
    "mycursor.execute(\"Create table if not exists employee.Student ( name char , sec char , marks int)\")\n",
    "mycursor.execute(\"INSERT INTO employee.Student VALUES ( 'S','A',89)\")\n",
    "mydb.commit()"
   ]
  },
  {
   "cell_type": "code",
   "execution_count": 15,
   "id": "3e2ad177",
   "metadata": {},
   "outputs": [
    {
     "name": "stdout",
     "output_type": "stream",
     "text": [
      "name    sec      marks\n",
      "------  -----  -------\n",
      "S       A           89\n"
     ]
    }
   ],
   "source": [
    "##  tabulate helps is showing the data inside a table in a tabular format\n",
    "from tabulate import tabulate\n",
    "mycursor.execute(\"select * from employee.Student\")\n",
    "result_set = mycursor.fetchall()\n",
    "\n",
    "# display the data in a table format\n",
    "print(tabulate(result_set, headers=mycursor.column_names))"
   ]
  },
  {
   "cell_type": "code",
   "execution_count": 16,
   "id": "e04661f9",
   "metadata": {},
   "outputs": [],
   "source": [
    "## drop table\n",
    "mycursor.execute(\"DROP TABLE employee.Student\")"
   ]
  },
  {
   "cell_type": "markdown",
   "id": "1f1db04c",
   "metadata": {},
   "source": [
    "###### TRUNCATE"
   ]
  },
  {
   "cell_type": "code",
   "execution_count": 29,
   "id": "7b9b622e",
   "metadata": {},
   "outputs": [],
   "source": [
    "### truncate the tableb details\n",
    "mycursor.execute(\"TRUNCATE TABLE employee.details\")"
   ]
  },
  {
   "cell_type": "code",
   "execution_count": 1,
   "id": "d65a39aa",
   "metadata": {},
   "outputs": [],
   "source": [
    "import mysql.connector\n",
    "mydb = mysql.connector.connect(\n",
    "host = \"localhost\",\n",
    "user = \"Prakash\",\n",
    "password = \"1234\")\n",
    "mycursor = mydb.cursor()\n",
    "mydb.start_transaction()\n",
    "mycursor.execute(\"TRUNCATE TABLE employee.details\")"
   ]
  },
  {
   "cell_type": "code",
   "execution_count": 2,
   "id": "9c4e2f56",
   "metadata": {},
   "outputs": [],
   "source": [
    "mydb.rollback()"
   ]
  },
  {
   "cell_type": "code",
   "execution_count": 3,
   "id": "74992ff7",
   "metadata": {},
   "outputs": [
    {
     "name": "stdout",
     "output_type": "stream",
     "text": [
      "name    salary    Age    Location    Gender_\n",
      "------  --------  -----  ----------  ---------\n"
     ]
    }
   ],
   "source": [
    "### Truncate deleted all the data but retained the structure of the table\n",
    "##  tabulate helps is showing the data inside a table in a tabular format\n",
    "from tabulate import tabulate\n",
    "mycursor.execute(\"select * from employee.details\")\n",
    "result_set = mycursor.fetchall()\n",
    "\n",
    "# display the data in a table format\n",
    "print(tabulate(result_set, headers=mycursor.column_names))"
   ]
  },
  {
   "cell_type": "markdown",
   "id": "bc64556c",
   "metadata": {},
   "source": [
    "#### Q3. What is DML? Explain INSERT, UPDATE, and DELETE with an example"
   ]
  },
  {
   "cell_type": "markdown",
   "id": "f66ca763",
   "metadata": {},
   "source": [
    "DML stands for Data Manupulation Language."
   ]
  },
  {
   "cell_type": "markdown",
   "id": "153f45fc",
   "metadata": {},
   "source": [
    "###### INSERT\n",
    "The INSERT statement is used to add one or more rows of data to a table."
   ]
  },
  {
   "cell_type": "code",
   "execution_count": 37,
   "id": "adbf4a0d",
   "metadata": {},
   "outputs": [],
   "source": [
    "### inserting data inside the table \n",
    "mycursor.execute(\"Create table if not exists employee.Student ( name char , sec char , marks int)\")\n",
    "mycursor.execute(\"INSERT INTO employee.Student VALUES ( 'S','A',89)\")\n",
    "mydb.commit()"
   ]
  },
  {
   "cell_type": "code",
   "execution_count": 9,
   "id": "d822dc82",
   "metadata": {
    "scrolled": true
   },
   "outputs": [
    {
     "name": "stdout",
     "output_type": "stream",
     "text": [
      "('S', 'A', 89)\n"
     ]
    }
   ],
   "source": [
    "mycursor.execute(\"select * from employee.Student\")\n",
    "r = mycursor.fetchall()\n",
    "for i in r :\n",
    "    print(i)"
   ]
  },
  {
   "cell_type": "markdown",
   "id": "3be73b3d",
   "metadata": {},
   "source": [
    "###### UPDATE\n",
    "An update operation is used to modify the data that already exists in a database or data structure."
   ]
  },
  {
   "cell_type": "code",
   "execution_count": 13,
   "id": "8d3d0a55",
   "metadata": {},
   "outputs": [],
   "source": [
    "mycursor.execute(\"Update employee.Student SET name = 'P' , sec = 'B',marks = 99 where name = 'S'\")"
   ]
  },
  {
   "cell_type": "code",
   "execution_count": 15,
   "id": "f457ebfa",
   "metadata": {},
   "outputs": [
    {
     "name": "stdout",
     "output_type": "stream",
     "text": [
      "name    sec      marks\n",
      "------  -----  -------\n",
      "P       B           99\n"
     ]
    }
   ],
   "source": [
    "## successfully updated the record\n",
    "mycursor.execute(\"SELECT * FROM employee.Student\")\n",
    "result_set = mycursor.fetchall()\n",
    "print(tabulate(result_set, headers=mycursor.column_names))"
   ]
  },
  {
   "cell_type": "markdown",
   "id": "cb08dba6",
   "metadata": {},
   "source": [
    "###### DELETE \n",
    "A delete operation is used to remove data from a database or data structure. It allows you to permanently delete a record or row from a table, removing all of its associated data."
   ]
  },
  {
   "cell_type": "code",
   "execution_count": 29,
   "id": "cfa80214",
   "metadata": {},
   "outputs": [],
   "source": [
    "s = \"DELETE FROM employee.Student WHERE marks = 99 \"\n",
    "mycursor.execute(s)\n",
    "mydb.commit()"
   ]
  },
  {
   "cell_type": "code",
   "execution_count": 36,
   "id": "022fcaad",
   "metadata": {},
   "outputs": [
    {
     "name": "stdout",
     "output_type": "stream",
     "text": [
      "name    sec      marks\n",
      "------  -----  -------\n",
      "S       A           89\n"
     ]
    }
   ],
   "source": [
    "## sucssesfully deleted the record associated with marks 99\n",
    "mycursor.execute(\"SELECT * FROM employee.Student \")\n",
    "result_set = mycursor.fetchall()\n",
    "print(tabulate(result_set, headers=mycursor.column_names))"
   ]
  },
  {
   "cell_type": "markdown",
   "id": "fedf68f1",
   "metadata": {},
   "source": [
    "#### Q4. What is DQL? Explain SELECT with an example"
   ]
  },
  {
   "cell_type": "markdown",
   "id": "279edfbc",
   "metadata": {},
   "source": [
    "DQL stands for Data Query Language. It is a subset of SQL (Structured Query Language) used for retrieving data from a database. DQL commands are used to retrieve, manipulate and analyze data in a database. DQL is one of the four types of SQL commands, which include Data Definition Language (DDL), Data Manipulation Language (DML), and Data Control Language (DCL) eg,\n",
    "\n",
    "- where,orderby, groupby,having\n"
   ]
  },
  {
   "cell_type": "code",
   "execution_count": 62,
   "id": "7b0c8b57",
   "metadata": {},
   "outputs": [
    {
     "name": "stdout",
     "output_type": "stream",
     "text": [
      "('Prakash', 50000, 21, 'Kolkata')\n",
      "('Prakash', 50000, 21, 'Kolkata')\n",
      "('Singh', 91000, 21, 'Kolkata')\n",
      "('Singh', 91000, 21, 'Kolkata')\n",
      "('Rathore', 12000, 25, 'Hyedrabad')\n",
      "('Khan', 80000, 55, 'Mumbai')\n",
      "('Singh', 91000, 21, 'Kolkata')\n",
      "('Singh', 91000, 21, 'Kolkata')\n",
      "('Rathore', 12000, 25, 'Hyedrabad')\n",
      "('Khan', 80000, 55, 'Mumbai')\n"
     ]
    }
   ],
   "source": [
    "mycursor.execute(\"SELECT * FROM employee.details\")\n",
    "records = mycursor.fetchall()\n",
    "\n",
    "# print the records\n",
    "for record in records:\n",
    "    print(record)"
   ]
  },
  {
   "cell_type": "markdown",
   "id": "74efafaa",
   "metadata": {},
   "source": [
    "#### Q5. Explain Primary Key and Foreign Key"
   ]
  },
  {
   "cell_type": "markdown",
   "id": "b9db51c3",
   "metadata": {},
   "source": [
    "PRIMARY KEY\n",
    "- It uniquely identifies a record in the relational database table.\n",
    "- Primary key is used to ensure data in the specific column is unique.\n",
    "- Only one primary key is allowed in a table\n",
    "- It is a combination of UNIQUE and Not Null constraints\n",
    "- It does not allow NULL values.\n",
    "- Its value cannot be deleted from the parent table.\n",
    "- It constraint can be implicitly defined on the temporary tables."
   ]
  },
  {
   "cell_type": "markdown",
   "id": "5e17ae3a",
   "metadata": {},
   "source": [
    "FOREIGN KEY\n",
    "- A foreign key is a column or group of columns in a relational database table that provides a link between data in two tables.\n",
    "- It refers to the field in a table which is the primary key of another table.\n",
    "- More than one foreign key are allowed in a table.\n",
    "- It can contain duplicate values and a table in a relational database.\n",
    "- Its value can be deleted from the child table.\n",
    "- It constraint cannot be defined on the local or global temporary tables."
   ]
  },
  {
   "cell_type": "markdown",
   "id": "0a9123c2",
   "metadata": {},
   "source": [
    "#### Q6. Write a python code to connect MySQL to python. Explain the cursor() and execute() method."
   ]
  },
  {
   "cell_type": "markdown",
   "id": "2b9aa698",
   "metadata": {},
   "source": [
    " The cursor() method creates a cursor object which allows the execution of SQL statements on a database. The execute() method is used to execute an SQL statement and can accept parameters as input."
   ]
  },
  {
   "cell_type": "code",
   "execution_count": 52,
   "id": "fa7a6ad6",
   "metadata": {},
   "outputs": [
    {
     "name": "stdout",
     "output_type": "stream",
     "text": [
      "<mysql.connector.connection_cext.CMySQLConnection object at 0x000001E542808130>\n",
      "('employee',)\n",
      "('information_schema',)\n",
      "('mysql',)\n",
      "('performance_schema',)\n",
      "('sys',)\n"
     ]
    }
   ],
   "source": [
    "import mysql.connector\n",
    "mydb = mysql.connector.connect(\n",
    "host = \"localhost\",\n",
    "user = \"Prakash\",\n",
    "password = \"1234\")\n",
    "mycursor = mydb.cursor()\n",
    "print(mydb)\n",
    "mycursor.execute(\"SHOW DATABASES\")\n",
    "for x in mycursor:\n",
    "    print(x)"
   ]
  },
  {
   "cell_type": "markdown",
   "id": "280a549f",
   "metadata": {},
   "source": [
    "#### Q7. Give the order of execution of SQL clauses in an SQL query"
   ]
  },
  {
   "cell_type": "markdown",
   "id": "ef796977",
   "metadata": {},
   "source": [
    "- SELECT: This clause specifies which columns to select from the table(s) being queried. It is usually the first clause in an SQL query and is mandatory in most cases.\n",
    "\n",
    "- FROM: This clause specifies the table(s) from which the data is being selected. It is usually the second clause in an SQL query and is mandatory in most cases.\n",
    "\n",
    "- WHERE: This clause specifies the conditions that must be met for a row to be included in the result set. It is usually the third clause in an SQL query and is optional. If omitted, all rows that match the other clauses will be included in the result set.\n",
    "\n",
    "- GROUP BY: This clause is used to group the result set by one or more columns. It is usually the fourth clause in an SQL query and is optional.\n",
    "\n",
    "- HAVING: This clause is used to filter the result set based on aggregate functions such as SUM, COUNT, AVG, etc. It is usually the fifth clause in an SQL query and is optional.\n",
    "\n",
    "- ORDER BY: This clause is used to sort the result set by one or more columns in ascending or descending order. It is usually the sixth clause in an SQL query and is optional.\n",
    "\n",
    "- LIMIT/OFFSET: These clauses are used to limit the number of rows returned by the query and to specify an offset for the starting row. They are usually the last clauses in an SQL query and are optional. If omitted, all rows that match the other clauses will be returned."
   ]
  },
  {
   "cell_type": "code",
   "execution_count": null,
   "id": "12c6fa27",
   "metadata": {},
   "outputs": [],
   "source": []
  },
  {
   "cell_type": "code",
   "execution_count": null,
   "id": "1b22e8f1",
   "metadata": {},
   "outputs": [],
   "source": []
  }
 ],
 "metadata": {
  "celltoolbar": "Raw Cell Format",
  "kernelspec": {
   "display_name": "Python 3 (ipykernel)",
   "language": "python",
   "name": "python3"
  },
  "language_info": {
   "codemirror_mode": {
    "name": "ipython",
    "version": 3
   },
   "file_extension": ".py",
   "mimetype": "text/x-python",
   "name": "python",
   "nbconvert_exporter": "python",
   "pygments_lexer": "ipython3",
   "version": "3.9.13"
  }
 },
 "nbformat": 4,
 "nbformat_minor": 5
}
